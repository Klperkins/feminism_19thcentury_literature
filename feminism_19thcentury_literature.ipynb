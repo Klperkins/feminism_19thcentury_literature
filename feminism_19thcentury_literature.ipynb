{
 "cells": [
  {
   "cell_type": "markdown",
   "metadata": {},
   "source": [
    "# Feminism in 19th Century Literature\n",
    "## An NLP Exploration"
   ]
  },
  {
   "cell_type": "markdown",
   "metadata": {},
   "source": [
    "I was curious to discover if our NLP tools are sophisticated enough at this juncture to detect feminism in older novels. The language use was more quiet and nuanced and could pose problems for sentiment and topic analysis. In particular, I'd like to see if Jane Austen can be proven as a feminist author. Let's begin by importing our packages!"
   ]
  },
  {
   "cell_type": "code",
   "execution_count": 373,
   "metadata": {},
   "outputs": [
    {
     "name": "stderr",
     "output_type": "stream",
     "text": [
      "[nltk_data] Downloading package punkt to\n",
      "[nltk_data]     /Users/katherineperkins/nltk_data...\n",
      "[nltk_data]   Package punkt is already up-to-date!\n",
      "[nltk_data] Downloading package gutenberg to\n",
      "[nltk_data]     /Users/katherineperkins/nltk_data...\n",
      "[nltk_data]   Package gutenberg is already up-to-date!\n"
     ]
    }
   ],
   "source": [
    "import os\n",
    "import glob\n",
    "import re\n",
    "import pandas as pd\n",
    "import numpy as np\n",
    "from pathlib import Path\n",
    "import scipy\n",
    "import matplotlib.pyplot as plt\n",
    "import seaborn as sns\n",
    "from sklearn.preprocessing import normalize\n",
    "from sklearn.feature_extraction.text import TfidfVectorizer\n",
    "from sklearn.model_selection import cross_val_score\n",
    "from sklearn.datasets.samples_generator import make_blobs\n",
    "from sklearn.model_selection import train_test_split\n",
    "from sklearn.model_selection import GridSearchCV\n",
    "from itertools import *\n",
    "from sklearn.decomposition import TruncatedSVD\n",
    "from sklearn.pipeline import make_pipeline\n",
    "from sklearn.preprocessing import Normalizer\n",
    "from sklearn.metrics import plot_confusion_matrix\n",
    "import nltk\n",
    "import spacy\n",
    "from sklearn.decomposition import NMF\n",
    "import random\n",
    "from nltk.corpus import gutenberg\n",
    "nltk.download('punkt')\n",
    "nltk.download('gutenberg')\n",
    "from wordcloud import WordCloud\n",
    "import networkx as nx\n",
    "nltk.download('stopwords')\n",
    "from nltk.corpus import gutenberg, stopwords\n",
    "%matplotlib inline"
   ]
  },
  {
   "cell_type": "markdown",
   "metadata": {},
   "source": [
    "Next, we will need to import and upload our texts. Cleaning will also need to be done to ensure no extraneous words, spaces, or breaklines are prevalent."
   ]
  },
  {
   "cell_type": "code",
   "execution_count": 2,
   "metadata": {},
   "outputs": [
    {
     "name": "stderr",
     "output_type": "stream",
     "text": [
      "[nltk_data] Downloading package gutenberg to\n",
      "[nltk_data]     /Users/katherineperkins/nltk_data...\n",
      "[nltk_data]   Package gutenberg is already up-to-date!\n",
      "[nltk_data] Downloading package stopwords to\n",
      "[nltk_data]     /Users/katherineperkins/nltk_data...\n",
      "[nltk_data]   Package stopwords is already up-to-date!\n"
     ]
    }
   ],
   "source": [
    "emma = gutenberg.raw('austen-emma.txt')\n"
   ]
  },
  {
   "cell_type": "code",
   "execution_count": 3,
   "metadata": {},
   "outputs": [],
   "source": [
    "f = open('austen-pride.txt','r')\n",
    "pride = f.read()\n",
    "f.close()"
   ]
  },
  {
   "cell_type": "code",
   "execution_count": 4,
   "metadata": {},
   "outputs": [],
   "source": [
    "f = open('dickens-great.txt','r')\n",
    "great = f.read()\n",
    "f.close()"
   ]
  },
  {
   "cell_type": "code",
   "execution_count": 5,
   "metadata": {},
   "outputs": [],
   "source": [
    "f = open('bronte-wuthering.txt','r')\n",
    "wuthering = f.read()\n",
    "f.close()"
   ]
  },
  {
   "cell_type": "code",
   "execution_count": 6,
   "metadata": {},
   "outputs": [
    {
     "name": "stdout",
     "output_type": "stream",
     "text": [
      "\n",
      "Raw:\n",
      " \n",
      "PRIDE AND PREJUDICE\n",
      "\n",
      "By Jane Austen\n",
      "\n",
      "\n",
      "\n",
      "Chapter 1\n",
      "\n",
      "\n",
      "It is a truth universally acknowledged, that a s\n"
     ]
    }
   ],
   "source": [
    "print('\\nRaw:\\n', pride[0:100])"
   ]
  },
  {
   "cell_type": "code",
   "execution_count": 7,
   "metadata": {},
   "outputs": [
    {
     "name": "stdout",
     "output_type": "stream",
     "text": [
      "Title removed:\n",
      " \n",
      "\n",
      "\n",
      "\n",
      "\n",
      "\n",
      "\n",
      "Chapter 1\n",
      "\n",
      "\n",
      "It is a truth universally acknowledged, that a single man in possession\n",
      "of a good fortune, must be in want of a wife.\n",
      "\n",
      "However little known the feelings or views of such a man may b\n",
      "Title removed:\n",
      " Chapter I\n",
      "\n",
      "My father's family name being Pirrip, and my Christian name Philip, my\n",
      "infant tongue coul\n",
      "Title removed:\n",
      " CHAPTER I\n",
      "\n",
      "\n",
      "I have just returned from a visit to my landlord--the solitary\n",
      "neighbour that I shall be\n"
     ]
    }
   ],
   "source": [
    "# This pattern matches all text between square brackets.\n",
    "pattern = \"[\\[].*?[\\]]\"\n",
    "title = \"PRIDE AND PREJUDICE\"\n",
    "author = \"By Jane Austen\"\n",
    "\n",
    "pride = re.sub(title, \"\", pride)\n",
    "pride = re.sub(author, \"\", pride)\n",
    "great = re.sub(pattern, \"\", great)\n",
    "wuthering = re.sub(pattern, \"\", wuthering)\n",
    "\n",
    "# Print the first 100 characters of our books again.\n",
    "\n",
    "print('Title removed:\\n', pride[0:200])\n",
    "print('Title removed:\\n', great[0:100])\n",
    "print('Title removed:\\n', wuthering[0:100])"
   ]
  },
  {
   "cell_type": "code",
   "execution_count": 8,
   "metadata": {},
   "outputs": [
    {
     "name": "stdout",
     "output_type": "stream",
     "text": [
      "Chapter headings removed:\n",
      " \n",
      "\n",
      "\n",
      "\n",
      "\n",
      "\n",
      "\n",
      "\n",
      "\n",
      "\n",
      "It is a truth universally acknowledged, that a single man in possession\n",
      "of a good fortune,\n",
      "Chapter headings removed:\n",
      " \n",
      "\n",
      "My father's family name being Pirrip, and my Christian name Philip, my\n",
      "infant tongue could make of\n",
      "Chapter headings removed:\n",
      " \n",
      "\n",
      "\n",
      "I have just returned from a visit to my landlord--the solitary\n",
      "neighbour that I shall be troubled\n"
     ]
    }
   ],
   "source": [
    "# Now we'll match and remove chapter headings.\n",
    "pride = re.sub(r'Chapter .*', '', pride)\n",
    "great = re.sub(r'Chapter .*', '', great)\n",
    "wuthering = re.sub(r'CHAPTER .*', '', wuthering)\n",
    "\n",
    "# Ok, what's it look like now?\n",
    "print('Chapter headings removed:\\n', pride[0:100])\n",
    "print('Chapter headings removed:\\n', great[0:100])\n",
    "print('Chapter headings removed:\\n', wuthering[0:100])"
   ]
  },
  {
   "cell_type": "code",
   "execution_count": 9,
   "metadata": {},
   "outputs": [
    {
     "name": "stdout",
     "output_type": "stream",
     "text": [
      "Volume headings removed:\n",
      " \n",
      "\n",
      "My father's family name being Pirrip, and my Christian name Philip, my\n",
      "infant tongue could make of\n"
     ]
    }
   ],
   "source": [
    "# Now we'll match and remove volume headings.\n",
    "great = re.sub(r'VOLUME .*', '', great)\n",
    "wuthering = re.sub(r'VOLUME .*', '', wuthering)\n",
    "\n",
    "# Ok, what's it look like now?\n",
    "print('Volume headings removed:\\n', great[0:100])"
   ]
  },
  {
   "cell_type": "code",
   "execution_count": 10,
   "metadata": {},
   "outputs": [
    {
     "name": "stdout",
     "output_type": "stream",
     "text": [
      "Extra whitespace removed:\n",
      " It is a truth universally acknowledged, that a single man in possession of a good fortune, must be i\n",
      "Extra whitespace removed:\n",
      " My father's family name being Pirrip, and my Christian name Philip, my infant tongue could make of b\n",
      "Extra whitespace removed:\n",
      " I have just returned from a visit to my landlord--the solitary neighbour that I shall be troubled wi\n"
     ]
    }
   ],
   "source": [
    "# Remove newlines and other extra whitespace by splitting and rejoining.\n",
    "pride = ' '.join(pride.split())\n",
    "great = ' '.join(great.split())\n",
    "wuthering = ' '.join(wuthering.split())\n",
    "\n",
    "# All done with cleanup? Let's see how it looks.\n",
    "\n",
    "print('Extra whitespace removed:\\n', pride[0:100])\n",
    "print('Extra whitespace removed:\\n', great[0:100])\n",
    "print('Extra whitespace removed:\\n', wuthering[0:100])"
   ]
  },
  {
   "cell_type": "markdown",
   "metadata": {},
   "source": [
    "spaCy will be used to tokenize our documents. Tokenization is important in our to create our Bag of Words and later, our supervised learning models."
   ]
  },
  {
   "cell_type": "code",
   "execution_count": 11,
   "metadata": {},
   "outputs": [],
   "source": [
    "#load spacy's english library\n",
    "nlp = spacy.load('en')"
   ]
  },
  {
   "cell_type": "code",
   "execution_count": 12,
   "metadata": {},
   "outputs": [],
   "source": [
    "#tokenize books\n",
    "pride_doc = nlp(pride)\n",
    "great_doc = nlp(great)\n",
    "wuthering_doc = nlp(wuthering)"
   ]
  },
  {
   "cell_type": "code",
   "execution_count": 13,
   "metadata": {},
   "outputs": [
    {
     "name": "stdout",
     "output_type": "stream",
     "text": [
      "The emma_doc object is a <class 'spacy.tokens.doc.Doc'> object.\n",
      "It is 144601 tokens long\n",
      "The first three tokens are 'It is a'\n",
      "The type of each token is <class 'spacy.tokens.token.Token'>\n"
     ]
    }
   ],
   "source": [
    "# Let's explore the objects we've built.\n",
    "print(\"The emma_doc object is a {} object.\".format(type(pride_doc)))\n",
    "print(\"It is {} tokens long\".format(len(pride_doc)))\n",
    "print(\"The first three tokens are '{}'\".format(pride_doc[:3]))\n",
    "print(\"The type of each token is {}\".format(type(pride_doc[0])))"
   ]
  },
  {
   "cell_type": "code",
   "execution_count": 15,
   "metadata": {},
   "outputs": [
    {
     "name": "stdout",
     "output_type": "stream",
     "text": [
      "Pride & Prejudice: [('Mr.', 782), ('Elizabeth', 633), ('Darcy', 415), ('said', 401), ('Mrs.', 343), ('Bennet', 322), ('Bingley', 305), ('Jane', 291), ('Miss', 281), ('know', 238)]\n",
      "Great Expectations: [('said', 1339), ('Joe', 740), ('Mr.', 704), ('know', 377), ('Miss', 372), ('time', 366), ('little', 349), ('come', 340), ('Pip', 331), ('looked', 322)]\n",
      "Wuthering Heights: [('Heathcliff', 476), ('Linton', 403), ('Catherine', 379), ('said', 367), ('Mr.', 307), ('shall', 192), ('master', 183), ('Hareton', 177), ('little', 176), ('like', 155)]\n"
     ]
    }
   ],
   "source": [
    "from collections import Counter\n",
    "# Utility function to calculate how frequently words appear in the text.\n",
    "def word_frequencies(text, include_stop=True):\n",
    "    \n",
    "    # Build a list of words.\n",
    "    # Strip out punctuation and, optionally, stop words.\n",
    "    words = []\n",
    "    for token in text:\n",
    "        if not token.is_punct and (not token.is_stop or include_stop):\n",
    "            words.append(token.text)\n",
    "            \n",
    "    # Build and return a Counter object containing word counts.\n",
    "    return Counter(words)\n",
    "    \n",
    "# The most frequent words:\n",
    "pride_freq = word_frequencies(pride_doc, include_stop=False).most_common(10)\n",
    "great_freq = word_frequencies(great_doc, include_stop=False).most_common(10)\n",
    "wuthering_freq = word_frequencies(wuthering_doc, include_stop=False).most_common(10)\n",
    "\n",
    "print('Pride & Prejudice:', pride_freq)\n",
    "print('Great Expectations:', great_freq)\n",
    "print('Wuthering Heights:', wuthering_freq)"
   ]
  },
  {
   "cell_type": "code",
   "execution_count": 16,
   "metadata": {},
   "outputs": [
    {
     "name": "stdout",
     "output_type": "stream",
     "text": [
      "Unique to Pride & Prejudice: {'Mrs.', 'Bennet', 'Darcy', 'Bingley', 'Jane', 'Elizabeth'}\n",
      "Unique to Great Expectations: {'Joe', 'come', 'time', 'Pip', 'looked'}\n",
      "Unique to Wuthering Heights: {'Catherine', 'like', 'master', 'Heathcliff', 'Hareton', 'shall', 'Linton'}\n"
     ]
    }
   ],
   "source": [
    "# Pull out just the text from our frequency lists.\n",
    "pride_common = [pair[0] for pair in pride_freq]\n",
    "great_common = [pair[0] for pair in great_freq]\n",
    "wuthering_common = [pair[0] for pair in wuthering_freq]\n",
    "\n",
    "# Use sets to find the unique values in each top ten.\n",
    "print('Unique to Pride & Prejudice:', set(pride_common) - set(great_common) - set(wuthering_common))\n",
    "print('Unique to Great Expectations:', set(great_common) - set(pride_common) - set(wuthering_common))\n",
    "print('Unique to Wuthering Heights:', set(wuthering_common) - set(great_common) - set(pride_common))"
   ]
  },
  {
   "cell_type": "markdown",
   "metadata": {},
   "source": [
    "Lemmatization is implemented so that we don't have an abundance of repetitive words that essentially mean the same thing. For instance, marriage is a common theme amongst these novels, but we don't need \"marry, marriage, married.\" Lemmatization will take the root of the word, rather than all three."
   ]
  },
  {
   "cell_type": "code",
   "execution_count": 17,
   "metadata": {},
   "outputs": [
    {
     "name": "stdout",
     "output_type": "stream",
     "text": [
      "Pride & Prejudice: [('Mr.', 782), ('Elizabeth', 633), ('say', 450), ('Darcy', 413), ('know', 385), ('Mrs.', 343), ('think', 331), ('Bennet', 322), ('Bingley', 305), ('sister', 294)]\n",
      "Great Expectations: [('say', 1438), ('Joe', 740), ('come', 722), ('look', 714), ('Mr.', 704), ('know', 656), ('go', 648), ('think', 487), ('hand', 466), ('time', 458)]\n",
      "Wuthering Heights: [('Heathcliff', 476), ('say', 409), ('Linton', 403), ('Catherine', 373), ('come', 362), ('Mr.', 307), ('think', 236), ('go', 235), ('look', 228), ('tell', 213)]\n",
      "Unique to Pride & Prejudice: {'Mrs.', 'Bennet', 'sister', 'Darcy', 'Bingley', 'Elizabeth'}\n",
      "Unique to Great Expectations: {'Joe', 'time', 'hand'}\n",
      "Unique to Wuthering Heights: {'Catherine', 'tell', 'Heathcliff', 'Linton'}\n"
     ]
    }
   ],
   "source": [
    "\n",
    "# Utility function to calculate how frequently lemas appear in the text.\n",
    "def lemma_frequencies(text, include_stop=True):\n",
    "    \n",
    "    # Build a list of lemas.\n",
    "    # Strip out punctuation and, optionally, stop words.\n",
    "    lemmas = []\n",
    "    for token in text:\n",
    "        if not token.is_punct and (not token.is_stop or include_stop):\n",
    "            lemmas.append(token.lemma_)\n",
    "            \n",
    "    # Build and return a Counter object containing word counts.\n",
    "    return Counter(lemmas)\n",
    "\n",
    "# Instantiate our list of most common lemmas.\n",
    "pride_lemma_freq = lemma_frequencies(pride_doc, include_stop=False).most_common(10)\n",
    "great_lemma_freq = lemma_frequencies(great_doc, include_stop=False).most_common(10)\n",
    "wuthering_lemma_freq = lemma_frequencies(wuthering_doc, include_stop=False).most_common(10)\n",
    "\n",
    "\n",
    "print('Pride & Prejudice:', pride_lemma_freq)\n",
    "print('Great Expectations:', great_lemma_freq)\n",
    "print('Wuthering Heights:', wuthering_lemma_freq)\n",
    "\n",
    "# Again, identify the lemmas common to one text but not the other.\n",
    "\n",
    "pride_lemma_common = [pair[0] for pair in pride_lemma_freq]\n",
    "great_lemma_common = [pair[0] for pair in great_lemma_freq]\n",
    "wuthering_lemma_common = [pair[0] for pair in wuthering_lemma_freq]\n",
    "\n",
    "\n",
    "print('Unique to Pride & Prejudice:', set(pride_lemma_common) - set(great_lemma_common) - set(wuthering_lemma_common))\n",
    "print('Unique to Great Expectations:', set(great_lemma_common) - set(wuthering_lemma_common) - set(pride_lemma_common))\n",
    "print('Unique to Wuthering Heights:', set(wuthering_lemma_common) - set(great_lemma_common) - set(pride_lemma_common))"
   ]
  },
  {
   "cell_type": "code",
   "execution_count": 18,
   "metadata": {},
   "outputs": [],
   "source": [
    "# Utility function for standard text cleaning.\n",
    "def text_cleaner(text):\n",
    "    # Visual inspection identifies a form of punctuation spaCy does not\n",
    "    # recognize: the double dash '--'.  Better get rid of it now!\n",
    "    text = re.sub(r'--',' ',text)\n",
    "    text = re.sub(\"[\\[].*?[\\]]\", \"\", text)\n",
    "    text = ' '.join(text.split())\n",
    "    return text\n",
    "\n",
    "    \n",
    "\n",
    "pride_clean = text_cleaner(pride[:int(len(pride)/10)])\n",
    "great_clean = text_cleaner(great[:int(len(great)/10)])\n",
    "wuthering_clean = text_cleaner(wuthering[:int(len(wuthering)/10)])"
   ]
  },
  {
   "cell_type": "code",
   "execution_count": 19,
   "metadata": {},
   "outputs": [],
   "source": [
    "# Group into sentences.\n",
    "pride_sents = [[sent, \"Pride_Prejudice\"] for sent in pride_doc.sents]\n",
    "great_sents = [[sent, \"Great_Expectations\"] for sent in great_doc.sents]\n",
    "wuthering_sents = [[sent, \"Wuthering_Heights\"] for sent in wuthering_doc.sents]"
   ]
  },
  {
   "cell_type": "code",
   "execution_count": 20,
   "metadata": {},
   "outputs": [
    {
     "name": "stdout",
     "output_type": "stream",
     "text": [
      "                                                       0                  1\n",
      "0      (It, is, a, truth, universally, acknowledged, ...    Pride_Prejudice\n",
      "1      (However, little, known, the, feelings, or, vi...    Pride_Prejudice\n",
      "2      (\", My, dear, Mr., Bennet, ,, \", said, his, la...    Pride_Prejudice\n",
      "3       (Mr., Bennet, replied, that, he, had, not, ., \")    Pride_Prejudice\n",
      "4      (But, it, is, ,, \", returned, she, ;, \", for, ...    Pride_Prejudice\n",
      "...                                                  ...                ...\n",
      "24734  (had, he, not, fortunately, recognised, me, fo...  Wuthering_Heights\n",
      "24735  (My, walk, home, was, lengthened, by, a, diver...  Wuthering_Heights\n",
      "24736  (When, beneath, its, walls, ,, I, perceived, d...  Wuthering_Heights\n",
      "24737  (I, sought, ,, and, soon, discovered, ,, the, ...  Wuthering_Heights\n",
      "24738  (I, lingered, round, them, ,, under, that, ben...  Wuthering_Heights\n",
      "\n",
      "[24739 rows x 2 columns]\n"
     ]
    }
   ],
   "source": [
    "# Combine the sentences from the three novels into one data frame.\n",
    "sentences2 = pd.DataFrame(pride_sents + great_sents + wuthering_sents)\n",
    "\n",
    "print(sentences2)"
   ]
  },
  {
   "cell_type": "code",
   "execution_count": 21,
   "metadata": {},
   "outputs": [],
   "source": [
    "# Utility function to create a list of the 2000 most common words.\n",
    "def bag_of_words(text):\n",
    "    \n",
    "    # Filter out punctuation and stop words.\n",
    "    allwords = [token.lemma_\n",
    "                for token in text\n",
    "                if not token.is_punct\n",
    "                and not token.is_stop]\n",
    "    \n",
    "    # Return the most common words.\n",
    "    return [item[0] for item in Counter(allwords).most_common(2000)]\n",
    "    \n",
    "\n",
    "# Creates a data frame with features for each word in our common word set.\n",
    "# Each value is the count of the times the word appears in each sentence.\n",
    "def bow_features(sentences, common_words):\n",
    "    \n",
    "    # Scaffold the data frame and initialize counts to zero.\n",
    "    df = pd.DataFrame(columns=common_words)\n",
    "    df['text_sentence'] = sentences[0]\n",
    "    df['text_source'] = sentences[1]\n",
    "    df.loc[:, common_words] = 0\n",
    "    \n",
    "    # Process each row, counting the occurrence of words in each sentence.\n",
    "    for i, sentence in enumerate(df['text_sentence']):\n",
    "        \n",
    "        # Convert the sentence to lemmas, then filter out punctuation,\n",
    "        # stop words, and uncommon words.\n",
    "        words = [token.lemma_\n",
    "                 for token in sentence\n",
    "                 if (\n",
    "                     not token.is_punct\n",
    "                     and not token.is_stop\n",
    "                     and token.lemma_ in common_words\n",
    "                 )]\n",
    "        \n",
    "        # Populate the row with word counts.\n",
    "        for word in words:\n",
    "            df.loc[i, word] += 1\n",
    "        \n",
    "        # This counter is just to make sure the kernel didn't hang.\n",
    "        if i % 50 == 0:\n",
    "            print(\"Processing row {}\".format(i))\n",
    "            \n",
    "    return df\n",
    "\n",
    "# Set up the bags.\n",
    "pridewords = bag_of_words(pride_doc)\n",
    "greatwords = bag_of_words(great_doc)\n",
    "wutheringwords = bag_of_words(wuthering_doc)\n",
    "\n",
    "# Combine bags to create a set of unique words.\n",
    "common_words = set(pridewords + greatwords + wutheringwords)"
   ]
  },
  {
   "cell_type": "code",
   "execution_count": null,
   "metadata": {
    "scrolled": true
   },
   "outputs": [],
   "source": [
    "# Create our data frame with features. This took several days to run so it is commented out.\n",
    "#word_counts = bow_features(sentences2, common_words)\n",
    "#word_counts.head()"
   ]
  },
  {
   "cell_type": "code",
   "execution_count": null,
   "metadata": {},
   "outputs": [],
   "source": [
    "#the results of the bow is written to a csv file for future use.\n",
    "#trio_word_counts = word_counts.to_csv('trio_word_counts.csv')"
   ]
  },
  {
   "cell_type": "markdown",
   "metadata": {},
   "source": [
    "Once our Bag of Words is created, we will create a dataframe from all of the common words across the three novels. This was very computationally expensive and took several days. The result was written to a .csv file and loaded below for quicker runtime."
   ]
  },
  {
   "cell_type": "code",
   "execution_count": 363,
   "metadata": {},
   "outputs": [
    {
     "data": {
      "text/html": [
       "<div>\n",
       "<style scoped>\n",
       "    .dataframe tbody tr th:only-of-type {\n",
       "        vertical-align: middle;\n",
       "    }\n",
       "\n",
       "    .dataframe tbody tr th {\n",
       "        vertical-align: top;\n",
       "    }\n",
       "\n",
       "    .dataframe thead th {\n",
       "        text-align: right;\n",
       "    }\n",
       "</style>\n",
       "<table border=\"1\" class=\"dataframe\">\n",
       "  <thead>\n",
       "    <tr style=\"text-align: right;\">\n",
       "      <th></th>\n",
       "      <th>Unnamed: 0</th>\n",
       "      <th>scheme</th>\n",
       "      <th>loud</th>\n",
       "      <th>extremely</th>\n",
       "      <th>hatred</th>\n",
       "      <th>sufficient</th>\n",
       "      <th>drawer</th>\n",
       "      <th>uncomfortable</th>\n",
       "      <th>eh</th>\n",
       "      <th>cry</th>\n",
       "      <th>...</th>\n",
       "      <th>discomposure</th>\n",
       "      <th>library</th>\n",
       "      <th>tiresome</th>\n",
       "      <th>flat</th>\n",
       "      <th>call</th>\n",
       "      <th>Mary</th>\n",
       "      <th>Hareton</th>\n",
       "      <th>impertinence</th>\n",
       "      <th>text_sentence</th>\n",
       "      <th>text_source</th>\n",
       "    </tr>\n",
       "  </thead>\n",
       "  <tbody>\n",
       "    <tr>\n",
       "      <td>0</td>\n",
       "      <td>0</td>\n",
       "      <td>0</td>\n",
       "      <td>0</td>\n",
       "      <td>0</td>\n",
       "      <td>0</td>\n",
       "      <td>0</td>\n",
       "      <td>0</td>\n",
       "      <td>0</td>\n",
       "      <td>0</td>\n",
       "      <td>0</td>\n",
       "      <td>...</td>\n",
       "      <td>0</td>\n",
       "      <td>0</td>\n",
       "      <td>0</td>\n",
       "      <td>0</td>\n",
       "      <td>0</td>\n",
       "      <td>0</td>\n",
       "      <td>0</td>\n",
       "      <td>0</td>\n",
       "      <td>It is a truth universally acknowledged, that a...</td>\n",
       "      <td>Pride_Prejudice</td>\n",
       "    </tr>\n",
       "    <tr>\n",
       "      <td>1</td>\n",
       "      <td>1</td>\n",
       "      <td>0</td>\n",
       "      <td>0</td>\n",
       "      <td>0</td>\n",
       "      <td>0</td>\n",
       "      <td>0</td>\n",
       "      <td>0</td>\n",
       "      <td>0</td>\n",
       "      <td>0</td>\n",
       "      <td>0</td>\n",
       "      <td>...</td>\n",
       "      <td>0</td>\n",
       "      <td>0</td>\n",
       "      <td>0</td>\n",
       "      <td>0</td>\n",
       "      <td>0</td>\n",
       "      <td>0</td>\n",
       "      <td>0</td>\n",
       "      <td>0</td>\n",
       "      <td>However little known the feelings or views of ...</td>\n",
       "      <td>Pride_Prejudice</td>\n",
       "    </tr>\n",
       "    <tr>\n",
       "      <td>2</td>\n",
       "      <td>2</td>\n",
       "      <td>0</td>\n",
       "      <td>0</td>\n",
       "      <td>0</td>\n",
       "      <td>0</td>\n",
       "      <td>0</td>\n",
       "      <td>0</td>\n",
       "      <td>0</td>\n",
       "      <td>0</td>\n",
       "      <td>0</td>\n",
       "      <td>...</td>\n",
       "      <td>0</td>\n",
       "      <td>0</td>\n",
       "      <td>0</td>\n",
       "      <td>0</td>\n",
       "      <td>0</td>\n",
       "      <td>0</td>\n",
       "      <td>0</td>\n",
       "      <td>0</td>\n",
       "      <td>\"My dear Mr. Bennet,\" said his lady to him one...</td>\n",
       "      <td>Pride_Prejudice</td>\n",
       "    </tr>\n",
       "    <tr>\n",
       "      <td>3</td>\n",
       "      <td>3</td>\n",
       "      <td>0</td>\n",
       "      <td>0</td>\n",
       "      <td>0</td>\n",
       "      <td>0</td>\n",
       "      <td>0</td>\n",
       "      <td>0</td>\n",
       "      <td>0</td>\n",
       "      <td>0</td>\n",
       "      <td>0</td>\n",
       "      <td>...</td>\n",
       "      <td>0</td>\n",
       "      <td>0</td>\n",
       "      <td>0</td>\n",
       "      <td>0</td>\n",
       "      <td>0</td>\n",
       "      <td>0</td>\n",
       "      <td>0</td>\n",
       "      <td>0</td>\n",
       "      <td>Mr. Bennet replied that he had not. \"</td>\n",
       "      <td>Pride_Prejudice</td>\n",
       "    </tr>\n",
       "    <tr>\n",
       "      <td>4</td>\n",
       "      <td>4</td>\n",
       "      <td>0</td>\n",
       "      <td>0</td>\n",
       "      <td>0</td>\n",
       "      <td>0</td>\n",
       "      <td>0</td>\n",
       "      <td>0</td>\n",
       "      <td>0</td>\n",
       "      <td>0</td>\n",
       "      <td>0</td>\n",
       "      <td>...</td>\n",
       "      <td>0</td>\n",
       "      <td>0</td>\n",
       "      <td>0</td>\n",
       "      <td>0</td>\n",
       "      <td>0</td>\n",
       "      <td>0</td>\n",
       "      <td>0</td>\n",
       "      <td>0</td>\n",
       "      <td>But it is,\" returned she; \"for Mrs. Long has j...</td>\n",
       "      <td>Pride_Prejudice</td>\n",
       "    </tr>\n",
       "  </tbody>\n",
       "</table>\n",
       "<p>5 rows × 3451 columns</p>\n",
       "</div>"
      ],
      "text/plain": [
       "   Unnamed: 0  scheme  loud  extremely  hatred  sufficient  drawer  \\\n",
       "0           0       0     0          0       0           0       0   \n",
       "1           1       0     0          0       0           0       0   \n",
       "2           2       0     0          0       0           0       0   \n",
       "3           3       0     0          0       0           0       0   \n",
       "4           4       0     0          0       0           0       0   \n",
       "\n",
       "   uncomfortable  eh  cry  ...  discomposure  library  tiresome  flat  call  \\\n",
       "0              0   0    0  ...             0        0         0     0     0   \n",
       "1              0   0    0  ...             0        0         0     0     0   \n",
       "2              0   0    0  ...             0        0         0     0     0   \n",
       "3              0   0    0  ...             0        0         0     0     0   \n",
       "4              0   0    0  ...             0        0         0     0     0   \n",
       "\n",
       "   Mary  Hareton  impertinence  \\\n",
       "0     0        0             0   \n",
       "1     0        0             0   \n",
       "2     0        0             0   \n",
       "3     0        0             0   \n",
       "4     0        0             0   \n",
       "\n",
       "                                       text_sentence      text_source  \n",
       "0  It is a truth universally acknowledged, that a...  Pride_Prejudice  \n",
       "1  However little known the feelings or views of ...  Pride_Prejudice  \n",
       "2  \"My dear Mr. Bennet,\" said his lady to him one...  Pride_Prejudice  \n",
       "3              Mr. Bennet replied that he had not. \"  Pride_Prejudice  \n",
       "4  But it is,\" returned she; \"for Mrs. Long has j...  Pride_Prejudice  \n",
       "\n",
       "[5 rows x 3451 columns]"
      ]
     },
     "execution_count": 363,
     "metadata": {},
     "output_type": "execute_result"
    }
   ],
   "source": [
    "trio_word_counts = pd.read_csv('trio_word_counts.csv')\n",
    "trio_word_counts.head()"
   ]
  },
  {
   "cell_type": "markdown",
   "metadata": {},
   "source": [
    "# Supervised Learning Models\n",
    "\n",
    "Now that we have our BoW, we can run some supervised models. I believe one way we can prove Jane Austen as a feminist author is to see if we can attribute the correct books to the correct authors. If there is a large margin of error, it might prove she wasn't as much of an outlier or \"feminist rebel\" for her time period as one may have thought."
   ]
  },
  {
   "cell_type": "markdown",
   "metadata": {},
   "source": [
    "## Random Forest with BoW"
   ]
  },
  {
   "cell_type": "code",
   "execution_count": 364,
   "metadata": {},
   "outputs": [
    {
     "name": "stdout",
     "output_type": "stream",
     "text": [
      "Training set score: 1.0\n",
      "\n",
      "Test set score: 0.9995957962813258\n"
     ]
    }
   ],
   "source": [
    "from sklearn import ensemble\n",
    "from sklearn.model_selection import train_test_split\n",
    "\n",
    "rfc = ensemble.RandomForestClassifier()\n",
    "Y = trio_word_counts['text_source']\n",
    "X = np.array(trio_word_counts.drop(['text_sentence','text_source'], 1))\n",
    "\n",
    "X_train, X_test, y_train, y_test = train_test_split(X, \n",
    "                                                    Y,\n",
    "                                                    test_size=0.4,\n",
    "                                                    random_state=0)\n",
    "train = rfc.fit(X_train, y_train)\n",
    "\n",
    "print('Training set score:', rfc.score(X_train, y_train))\n",
    "print('\\nTest set score:', rfc.score(X_test, y_test))"
   ]
  },
  {
   "cell_type": "code",
   "execution_count": 365,
   "metadata": {},
   "outputs": [
    {
     "name": "stdout",
     "output_type": "stream",
     "text": [
      "[0.7172595  0.99898949 0.99939369 0.99939369 0.71922377]\n"
     ]
    }
   ],
   "source": [
    "print(cross_val_score(rfc, X, Y, cv=5))"
   ]
  },
  {
   "cell_type": "markdown",
   "metadata": {},
   "source": [
    "## Logistic Regression with BoW"
   ]
  },
  {
   "cell_type": "code",
   "execution_count": 366,
   "metadata": {},
   "outputs": [
    {
     "name": "stdout",
     "output_type": "stream",
     "text": [
      "(14843, 3449) (14843,)\n",
      "Training set score: 0.9684699858519167\n",
      "\n",
      "Test set score: 0.9666531932093775\n"
     ]
    }
   ],
   "source": [
    "from sklearn.linear_model import LogisticRegression\n",
    "\n",
    "lr = LogisticRegression(penalty='l2')\n",
    "train = lr.fit(X_train, y_train)\n",
    "print(X_train.shape, y_train.shape)\n",
    "print('Training set score:', lr.score(X_train, y_train))\n",
    "print('\\nTest set score:', lr.score(X_test, y_test))"
   ]
  },
  {
   "cell_type": "code",
   "execution_count": 367,
   "metadata": {},
   "outputs": [
    {
     "name": "stderr",
     "output_type": "stream",
     "text": [
      "/opt/anaconda3/lib/python3.7/site-packages/sklearn/linear_model/_logistic.py:939: ConvergenceWarning: lbfgs failed to converge (status=1):\n",
      "STOP: TOTAL NO. of ITERATIONS REACHED LIMIT.\n",
      "\n",
      "Increase the number of iterations (max_iter) or scale the data as shown in:\n",
      "    https://scikit-learn.org/stable/modules/preprocessing.html.\n",
      "Please also refer to the documentation for alternative solver options:\n",
      "    https://scikit-learn.org/stable/modules/linear_model.html#logistic-regression\n",
      "  extra_warning_msg=_LOGISTIC_SOLVER_CONVERGENCE_MSG)\n",
      "/opt/anaconda3/lib/python3.7/site-packages/sklearn/linear_model/_logistic.py:939: ConvergenceWarning: lbfgs failed to converge (status=1):\n",
      "STOP: TOTAL NO. of ITERATIONS REACHED LIMIT.\n",
      "\n",
      "Increase the number of iterations (max_iter) or scale the data as shown in:\n",
      "    https://scikit-learn.org/stable/modules/preprocessing.html.\n",
      "Please also refer to the documentation for alternative solver options:\n",
      "    https://scikit-learn.org/stable/modules/linear_model.html#logistic-regression\n",
      "  extra_warning_msg=_LOGISTIC_SOLVER_CONVERGENCE_MSG)\n",
      "/opt/anaconda3/lib/python3.7/site-packages/sklearn/linear_model/_logistic.py:939: ConvergenceWarning: lbfgs failed to converge (status=1):\n",
      "STOP: TOTAL NO. of ITERATIONS REACHED LIMIT.\n",
      "\n",
      "Increase the number of iterations (max_iter) or scale the data as shown in:\n",
      "    https://scikit-learn.org/stable/modules/preprocessing.html.\n",
      "Please also refer to the documentation for alternative solver options:\n",
      "    https://scikit-learn.org/stable/modules/linear_model.html#logistic-regression\n",
      "  extra_warning_msg=_LOGISTIC_SOLVER_CONVERGENCE_MSG)\n"
     ]
    },
    {
     "name": "stdout",
     "output_type": "stream",
     "text": [
      "[0.72554568 0.9997979  1.         0.99858529 0.73478876]\n"
     ]
    }
   ],
   "source": [
    "from sklearn.metrics import roc_curve, auc, classification_report, confusion_matrix, accuracy_score\n",
    "print(cross_val_score(lr, X, Y, cv=5))"
   ]
  },
  {
   "cell_type": "markdown",
   "metadata": {},
   "source": [
    "Both of our models are rather overfit and unstable. Perhaps this is because we left the entities in the text before running our BoW? That would definitely make it easier to attribute the correct novel. At any rate, logistic regression performed much better than the random forest, so let's check out our confusion matrix below."
   ]
  },
  {
   "cell_type": "code",
   "execution_count": 368,
   "metadata": {},
   "outputs": [
    {
     "data": {
      "text/html": [
       "<div>\n",
       "<style scoped>\n",
       "    .dataframe tbody tr th:only-of-type {\n",
       "        vertical-align: middle;\n",
       "    }\n",
       "\n",
       "    .dataframe tbody tr th {\n",
       "        vertical-align: top;\n",
       "    }\n",
       "\n",
       "    .dataframe thead th {\n",
       "        text-align: right;\n",
       "    }\n",
       "</style>\n",
       "<table border=\"1\" class=\"dataframe\">\n",
       "  <thead>\n",
       "    <tr style=\"text-align: right;\">\n",
       "      <th>col_0</th>\n",
       "      <th>Great_Expectations</th>\n",
       "      <th>Pride_Prejudice</th>\n",
       "      <th>Wuthering_Heights</th>\n",
       "    </tr>\n",
       "    <tr>\n",
       "      <th>text_source</th>\n",
       "      <th></th>\n",
       "      <th></th>\n",
       "      <th></th>\n",
       "    </tr>\n",
       "  </thead>\n",
       "  <tbody>\n",
       "    <tr>\n",
       "      <td>Great_Expectations</td>\n",
       "      <td>4032</td>\n",
       "      <td>24</td>\n",
       "      <td>162</td>\n",
       "    </tr>\n",
       "    <tr>\n",
       "      <td>Pride_Prejudice</td>\n",
       "      <td>24</td>\n",
       "      <td>2546</td>\n",
       "      <td>0</td>\n",
       "    </tr>\n",
       "    <tr>\n",
       "      <td>Wuthering_Heights</td>\n",
       "      <td>120</td>\n",
       "      <td>0</td>\n",
       "      <td>2988</td>\n",
       "    </tr>\n",
       "  </tbody>\n",
       "</table>\n",
       "</div>"
      ],
      "text/plain": [
       "col_0               Great_Expectations  Pride_Prejudice  Wuthering_Heights\n",
       "text_source                                                               \n",
       "Great_Expectations                4032               24                162\n",
       "Pride_Prejudice                     24             2546                  0\n",
       "Wuthering_Heights                  120                0               2988"
      ]
     },
     "execution_count": 368,
     "metadata": {},
     "output_type": "execute_result"
    }
   ],
   "source": [
    "lr_predicted = lr.predict(X_test)\n",
    "pd.crosstab(y_test, lr_predicted)"
   ]
  },
  {
   "cell_type": "code",
   "execution_count": 369,
   "metadata": {
    "scrolled": true
   },
   "outputs": [
    {
     "name": "stdout",
     "output_type": "stream",
     "text": [
      "PRIDE AND PREJUDICE\n",
      "[[4032   24  162]\n",
      " [  24 2546    0]\n",
      " [ 120    0 2988]]\n"
     ]
    },
    {
     "data": {
      "image/png": "[encoded data removed]",
      "text/plain": [
       "<Figure size 432x288 with 2 Axes>"
      ]
     },
     "metadata": {
      "needs_background": "light"
     },
     "output_type": "display_data"
    }
   ],
   "source": [
    "disp = plot_confusion_matrix(lr, X_test, y_test,\n",
    "                                 display_labels=['Austen', 'Dickens', 'Bronte'],\n",
    "                                 cmap=plt.cm.Blues,\n",
    "                                 normalize=None)\n",
    "disp.ax_.set_title('Confusion Matrix')\n",
    "\n",
    "print(title)\n",
    "print(disp.confusion_matrix)\n",
    "\n",
    "plt.show()"
   ]
  },
  {
   "cell_type": "markdown",
   "metadata": {},
   "source": [
    "# Unsupervised Learning\n",
    "\n",
    "Again, we will need to import our texts and clean them. This time we will be storing the data in respective dataframes, split by sentence. We will then do some topic modeling to see if when we take into account the context of the sentence, we are better able to see what prevalent themes are within these books."
   ]
  },
  {
   "cell_type": "code",
   "execution_count": 159,
   "metadata": {},
   "outputs": [],
   "source": [
    "f = open('dickens-great.txt','r')\n",
    "great_text = f.read()\n",
    "great_text = re.sub(r'Chapter .*', '', great_text)\n",
    "great_text = great_text.strip().replace('\\n', ' ')\n",
    "\n",
    "f.close()"
   ]
  },
  {
   "cell_type": "code",
   "execution_count": 160,
   "metadata": {},
   "outputs": [
    {
     "name": "stderr",
     "output_type": "stream",
     "text": [
      "<>:1: DeprecationWarning: invalid escape sequence \\w\n",
      "<>:1: DeprecationWarning: invalid escape sequence \\w\n",
      "<>:1: DeprecationWarning: invalid escape sequence \\w\n",
      "<ipython-input-160-a5229b9e8c54>:1: DeprecationWarning: invalid escape sequence \\w\n",
      "  sent = re.split('(?<!\\w\\.\\w.)(?<![A-Z][a-z]\\.)(?<=\\.|\\?)(\\s|[A-Z].*)',great_text)\n"
     ]
    }
   ],
   "source": [
    "sent = re.split('(?<!\\w\\.\\w.)(?<![A-Z][a-z]\\.)(?<=\\.|\\?)(\\s|[A-Z].*)',great_text)\n"
   ]
  },
  {
   "cell_type": "code",
   "execution_count": 43,
   "metadata": {},
   "outputs": [
    {
     "data": {
      "text/html": [
       "<div>\n",
       "<style scoped>\n",
       "    .dataframe tbody tr th:only-of-type {\n",
       "        vertical-align: middle;\n",
       "    }\n",
       "\n",
       "    .dataframe tbody tr th {\n",
       "        vertical-align: top;\n",
       "    }\n",
       "\n",
       "    .dataframe thead th {\n",
       "        text-align: right;\n",
       "    }\n",
       "</style>\n",
       "<table border=\"1\" class=\"dataframe\">\n",
       "  <thead>\n",
       "    <tr style=\"text-align: right;\">\n",
       "      <th></th>\n",
       "      <th>sentences</th>\n",
       "    </tr>\n",
       "  </thead>\n",
       "  <tbody>\n",
       "    <tr>\n",
       "      <td>0</td>\n",
       "      <td>My father's family name being Pirrip, and my C...</td>\n",
       "    </tr>\n",
       "    <tr>\n",
       "      <td>1</td>\n",
       "      <td></td>\n",
       "    </tr>\n",
       "    <tr>\n",
       "      <td>2</td>\n",
       "      <td>So, I called myself Pip, and came to be called...</td>\n",
       "    </tr>\n",
       "    <tr>\n",
       "      <td>3</td>\n",
       "      <td></td>\n",
       "    </tr>\n",
       "    <tr>\n",
       "      <td>4</td>\n",
       "      <td>I give Pirrip as my father's family name, on ...</td>\n",
       "    </tr>\n",
       "    <tr>\n",
       "      <td>5</td>\n",
       "      <td></td>\n",
       "    </tr>\n",
       "    <tr>\n",
       "      <td>6</td>\n",
       "      <td>Joe Gargery, who married the blacksmith.</td>\n",
       "    </tr>\n",
       "    <tr>\n",
       "      <td>7</td>\n",
       "      <td></td>\n",
       "    </tr>\n",
       "    <tr>\n",
       "      <td>8</td>\n",
       "      <td>As I never saw my father or my mother, and nev...</td>\n",
       "    </tr>\n",
       "    <tr>\n",
       "      <td>9</td>\n",
       "      <td></td>\n",
       "    </tr>\n",
       "  </tbody>\n",
       "</table>\n",
       "</div>"
      ],
      "text/plain": [
       "                                           sentences\n",
       "0  My father's family name being Pirrip, and my C...\n",
       "1                                                   \n",
       "2  So, I called myself Pip, and came to be called...\n",
       "3                                                   \n",
       "4   I give Pirrip as my father's family name, on ...\n",
       "5                                                   \n",
       "6           Joe Gargery, who married the blacksmith.\n",
       "7                                                   \n",
       "8  As I never saw my father or my mother, and nev...\n",
       "9                                                   "
      ]
     },
     "execution_count": 43,
     "metadata": {},
     "output_type": "execute_result"
    }
   ],
   "source": [
    "dickens_df = pd.DataFrame(sent, columns=['sentences'])\n",
    "dickens_df.head(10)"
   ]
  },
  {
   "cell_type": "code",
   "execution_count": 44,
   "metadata": {},
   "outputs": [
    {
     "data": {
      "text/html": [
       "<div>\n",
       "<style scoped>\n",
       "    .dataframe tbody tr th:only-of-type {\n",
       "        vertical-align: middle;\n",
       "    }\n",
       "\n",
       "    .dataframe tbody tr th {\n",
       "        vertical-align: top;\n",
       "    }\n",
       "\n",
       "    .dataframe thead th {\n",
       "        text-align: right;\n",
       "    }\n",
       "</style>\n",
       "<table border=\"1\" class=\"dataframe\">\n",
       "  <thead>\n",
       "    <tr style=\"text-align: right;\">\n",
       "      <th></th>\n",
       "      <th>sentences</th>\n",
       "    </tr>\n",
       "  </thead>\n",
       "  <tbody>\n",
       "    <tr>\n",
       "      <td>0</td>\n",
       "      <td>My father's family name being Pirrip, and my C...</td>\n",
       "    </tr>\n",
       "    <tr>\n",
       "      <td>2</td>\n",
       "      <td>So, I called myself Pip, and came to be called...</td>\n",
       "    </tr>\n",
       "    <tr>\n",
       "      <td>4</td>\n",
       "      <td>I give Pirrip as my father's family name, on ...</td>\n",
       "    </tr>\n",
       "    <tr>\n",
       "      <td>6</td>\n",
       "      <td>Joe Gargery, who married the blacksmith.</td>\n",
       "    </tr>\n",
       "    <tr>\n",
       "      <td>8</td>\n",
       "      <td>As I never saw my father or my mother, and nev...</td>\n",
       "    </tr>\n",
       "    <tr>\n",
       "      <td>10</td>\n",
       "      <td>The shape of the letters on my father's, gave ...</td>\n",
       "    </tr>\n",
       "    <tr>\n",
       "      <td>12</td>\n",
       "      <td>From the character and turn of the inscription...</td>\n",
       "    </tr>\n",
       "    <tr>\n",
       "      <td>14</td>\n",
       "      <td>To five little stone lozenges, each about a fo...</td>\n",
       "    </tr>\n",
       "    <tr>\n",
       "      <td>16</td>\n",
       "      <td>Ours was the marsh country, down by the river...</td>\n",
       "    </tr>\n",
       "    <tr>\n",
       "      <td>18</td>\n",
       "      <td>My first most vivid and broad impression of th...</td>\n",
       "    </tr>\n",
       "  </tbody>\n",
       "</table>\n",
       "</div>"
      ],
      "text/plain": [
       "                                            sentences\n",
       "0   My father's family name being Pirrip, and my C...\n",
       "2   So, I called myself Pip, and came to be called...\n",
       "4    I give Pirrip as my father's family name, on ...\n",
       "6            Joe Gargery, who married the blacksmith.\n",
       "8   As I never saw my father or my mother, and nev...\n",
       "10  The shape of the letters on my father's, gave ...\n",
       "12  From the character and turn of the inscription...\n",
       "14  To five little stone lozenges, each about a fo...\n",
       "16   Ours was the marsh country, down by the river...\n",
       "18  My first most vivid and broad impression of th..."
      ]
     },
     "execution_count": 44,
     "metadata": {},
     "output_type": "execute_result"
    }
   ],
   "source": [
    "dickens_df = dickens_df.iloc[::2]\n",
    "dickens_df.head(10)"
   ]
  },
  {
   "cell_type": "code",
   "execution_count": 45,
   "metadata": {},
   "outputs": [],
   "source": [
    "pattern = \"[\\[].*?[\\]]\"\n",
    "title = \"PRIDE AND PREJUDICE\"\n",
    "author = \"By Jane Austen\""
   ]
  },
  {
   "cell_type": "code",
   "execution_count": 46,
   "metadata": {},
   "outputs": [],
   "source": [
    "f = open(\"austen-pride.txt\", \"r\")\n",
    "pride = f.read()\n",
    "pride = re.sub(r'Chapter .*', '', pride)\n",
    "pride = pride.strip().replace('\\n', ' ')\n",
    "pride = re.sub(title, \"\", pride)\n",
    "pride = re.sub(author, \"\", pride)\n",
    "f.close()"
   ]
  },
  {
   "cell_type": "code",
   "execution_count": 47,
   "metadata": {},
   "outputs": [],
   "source": [
    "pride_sent = re.split('(?<!\\w\\.\\w.)(?<![A-Z][a-z]\\.)(?<=\\.|\\?)(\\s|[A-Z].*)',pride)\n"
   ]
  },
  {
   "cell_type": "code",
   "execution_count": 48,
   "metadata": {},
   "outputs": [
    {
     "data": {
      "text/html": [
       "<div>\n",
       "<style scoped>\n",
       "    .dataframe tbody tr th:only-of-type {\n",
       "        vertical-align: middle;\n",
       "    }\n",
       "\n",
       "    .dataframe tbody tr th {\n",
       "        vertical-align: top;\n",
       "    }\n",
       "\n",
       "    .dataframe thead th {\n",
       "        text-align: right;\n",
       "    }\n",
       "</style>\n",
       "<table border=\"1\" class=\"dataframe\">\n",
       "  <thead>\n",
       "    <tr style=\"text-align: right;\">\n",
       "      <th></th>\n",
       "      <th>sentences</th>\n",
       "    </tr>\n",
       "  </thead>\n",
       "  <tbody>\n",
       "    <tr>\n",
       "      <td>0</td>\n",
       "      <td>It is a truth universally acknowledge...</td>\n",
       "    </tr>\n",
       "    <tr>\n",
       "      <td>1</td>\n",
       "      <td></td>\n",
       "    </tr>\n",
       "    <tr>\n",
       "      <td>2</td>\n",
       "      <td>However little known the feelings or views of...</td>\n",
       "    </tr>\n",
       "    <tr>\n",
       "      <td>3</td>\n",
       "      <td></td>\n",
       "    </tr>\n",
       "    <tr>\n",
       "      <td>4</td>\n",
       "      <td>\"My dear Mr. Bennet,\" said his lady to him on...</td>\n",
       "    </tr>\n",
       "    <tr>\n",
       "      <td>5</td>\n",
       "      <td></td>\n",
       "    </tr>\n",
       "    <tr>\n",
       "      <td>6</td>\n",
       "      <td>\"But it is,\" returned she; \"for Mrs.</td>\n",
       "    </tr>\n",
       "    <tr>\n",
       "      <td>7</td>\n",
       "      <td></td>\n",
       "    </tr>\n",
       "    <tr>\n",
       "      <td>8</td>\n",
       "      <td>Long has just been here, and she told me all a...</td>\n",
       "    </tr>\n",
       "    <tr>\n",
       "      <td>9</td>\n",
       "      <td></td>\n",
       "    </tr>\n",
       "  </tbody>\n",
       "</table>\n",
       "</div>"
      ],
      "text/plain": [
       "                                           sentences\n",
       "0           It is a truth universally acknowledge...\n",
       "1                                                   \n",
       "2   However little known the feelings or views of...\n",
       "3                                                   \n",
       "4   \"My dear Mr. Bennet,\" said his lady to him on...\n",
       "5                                                   \n",
       "6               \"But it is,\" returned she; \"for Mrs.\n",
       "7                                                   \n",
       "8  Long has just been here, and she told me all a...\n",
       "9                                                   "
      ]
     },
     "execution_count": 48,
     "metadata": {},
     "output_type": "execute_result"
    }
   ],
   "source": [
    "pride_sent_df = pd.DataFrame(pride_sent, columns=['sentences'])\n",
    "pride_sent_df.head(10)"
   ]
  },
  {
   "cell_type": "code",
   "execution_count": 49,
   "metadata": {},
   "outputs": [
    {
     "data": {
      "text/html": [
       "<div>\n",
       "<style scoped>\n",
       "    .dataframe tbody tr th:only-of-type {\n",
       "        vertical-align: middle;\n",
       "    }\n",
       "\n",
       "    .dataframe tbody tr th {\n",
       "        vertical-align: top;\n",
       "    }\n",
       "\n",
       "    .dataframe thead th {\n",
       "        text-align: right;\n",
       "    }\n",
       "</style>\n",
       "<table border=\"1\" class=\"dataframe\">\n",
       "  <thead>\n",
       "    <tr style=\"text-align: right;\">\n",
       "      <th></th>\n",
       "      <th>sentences</th>\n",
       "    </tr>\n",
       "  </thead>\n",
       "  <tbody>\n",
       "    <tr>\n",
       "      <td>0</td>\n",
       "      <td>It is a truth universally acknowledge...</td>\n",
       "    </tr>\n",
       "    <tr>\n",
       "      <td>2</td>\n",
       "      <td>However little known the feelings or views of...</td>\n",
       "    </tr>\n",
       "    <tr>\n",
       "      <td>4</td>\n",
       "      <td>\"My dear Mr. Bennet,\" said his lady to him on...</td>\n",
       "    </tr>\n",
       "    <tr>\n",
       "      <td>6</td>\n",
       "      <td>\"But it is,\" returned she; \"for Mrs.</td>\n",
       "    </tr>\n",
       "    <tr>\n",
       "      <td>8</td>\n",
       "      <td>Long has just been here, and she told me all a...</td>\n",
       "    </tr>\n",
       "    <tr>\n",
       "      <td>10</td>\n",
       "      <td>\"Do you not want to know who has taken it?\" c...</td>\n",
       "    </tr>\n",
       "    <tr>\n",
       "      <td>12</td>\n",
       "      <td>\"_You_ want to tell me, and I have no objecti...</td>\n",
       "    </tr>\n",
       "    <tr>\n",
       "      <td>14</td>\n",
       "      <td>\"Why, my dear, you must know, Mrs.</td>\n",
       "    </tr>\n",
       "    <tr>\n",
       "      <td>16</td>\n",
       "      <td>Long says that Netherfield is taken by a young...</td>\n",
       "    </tr>\n",
       "    <tr>\n",
       "      <td>18</td>\n",
       "      <td>What a fine thing for our girls!\"  \"How so?</td>\n",
       "    </tr>\n",
       "  </tbody>\n",
       "</table>\n",
       "</div>"
      ],
      "text/plain": [
       "                                            sentences\n",
       "0            It is a truth universally acknowledge...\n",
       "2    However little known the feelings or views of...\n",
       "4    \"My dear Mr. Bennet,\" said his lady to him on...\n",
       "6                \"But it is,\" returned she; \"for Mrs.\n",
       "8   Long has just been here, and she told me all a...\n",
       "10   \"Do you not want to know who has taken it?\" c...\n",
       "12   \"_You_ want to tell me, and I have no objecti...\n",
       "14                 \"Why, my dear, you must know, Mrs.\n",
       "16  Long says that Netherfield is taken by a young...\n",
       "18        What a fine thing for our girls!\"  \"How so?"
      ]
     },
     "execution_count": 49,
     "metadata": {},
     "output_type": "execute_result"
    }
   ],
   "source": [
    "pride_sent_df = pride_sent_df.iloc[::2]\n",
    "pride_sent_df.head(10)"
   ]
  },
  {
   "cell_type": "code",
   "execution_count": 117,
   "metadata": {},
   "outputs": [],
   "source": [
    "f = open(\"bronte-wuthering.txt\", \"r\")\n",
    "wuthering = f.read()\n",
    "wuthering = re.sub(r'CHAPTER .*', '', wuthering)\n",
    "wuthering = wuthering.strip().replace('\\n', ' ')\n",
    "wuthering = wuthering.strip().replace('_', ' ')\n",
    "f.close()"
   ]
  },
  {
   "cell_type": "code",
   "execution_count": 118,
   "metadata": {},
   "outputs": [],
   "source": [
    "wuthering_sent = re.split('(?<!\\w\\.\\w.)(?<![A-Z][a-z]\\.)(?<=\\.|\\?)(\\s|[A-Z].*)',wuthering)\n"
   ]
  },
  {
   "cell_type": "code",
   "execution_count": 119,
   "metadata": {},
   "outputs": [
    {
     "data": {
      "text/html": [
       "<div>\n",
       "<style scoped>\n",
       "    .dataframe tbody tr th:only-of-type {\n",
       "        vertical-align: middle;\n",
       "    }\n",
       "\n",
       "    .dataframe tbody tr th {\n",
       "        vertical-align: top;\n",
       "    }\n",
       "\n",
       "    .dataframe thead th {\n",
       "        text-align: right;\n",
       "    }\n",
       "</style>\n",
       "<table border=\"1\" class=\"dataframe\">\n",
       "  <thead>\n",
       "    <tr style=\"text-align: right;\">\n",
       "      <th></th>\n",
       "      <th>sentences</th>\n",
       "    </tr>\n",
       "  </thead>\n",
       "  <tbody>\n",
       "    <tr>\n",
       "      <td>0</td>\n",
       "      <td>I have just returned from a visit to my landlo...</td>\n",
       "    </tr>\n",
       "    <tr>\n",
       "      <td>1</td>\n",
       "      <td></td>\n",
       "    </tr>\n",
       "    <tr>\n",
       "      <td>2</td>\n",
       "      <td>This is certainly a beautiful country!  In al...</td>\n",
       "    </tr>\n",
       "    <tr>\n",
       "      <td>3</td>\n",
       "      <td></td>\n",
       "    </tr>\n",
       "    <tr>\n",
       "      <td>4</td>\n",
       "      <td>A perfect misanthropist's heaven: and Mr. Hea...</td>\n",
       "    </tr>\n",
       "    <tr>\n",
       "      <td>5</td>\n",
       "      <td></td>\n",
       "    </tr>\n",
       "    <tr>\n",
       "      <td>6</td>\n",
       "      <td>A capital fellow!  He little imagined how my ...</td>\n",
       "    </tr>\n",
       "    <tr>\n",
       "      <td>7</td>\n",
       "      <td></td>\n",
       "    </tr>\n",
       "    <tr>\n",
       "      <td>8</td>\n",
       "      <td>'Mr. Heathcliff?' I said.</td>\n",
       "    </tr>\n",
       "    <tr>\n",
       "      <td>9</td>\n",
       "      <td></td>\n",
       "    </tr>\n",
       "  </tbody>\n",
       "</table>\n",
       "</div>"
      ],
      "text/plain": [
       "                                           sentences\n",
       "0  I have just returned from a visit to my landlo...\n",
       "1                                                   \n",
       "2   This is certainly a beautiful country!  In al...\n",
       "3                                                   \n",
       "4   A perfect misanthropist's heaven: and Mr. Hea...\n",
       "5                                                   \n",
       "6   A capital fellow!  He little imagined how my ...\n",
       "7                                                   \n",
       "8                          'Mr. Heathcliff?' I said.\n",
       "9                                                   "
      ]
     },
     "execution_count": 119,
     "metadata": {},
     "output_type": "execute_result"
    }
   ],
   "source": [
    "wuthering_sent_df = pd.DataFrame(wuthering_sent, columns=['sentences'])\n",
    "wuthering_sent_df.head(10)"
   ]
  },
  {
   "cell_type": "code",
   "execution_count": 120,
   "metadata": {},
   "outputs": [
    {
     "data": {
      "text/html": [
       "<div>\n",
       "<style scoped>\n",
       "    .dataframe tbody tr th:only-of-type {\n",
       "        vertical-align: middle;\n",
       "    }\n",
       "\n",
       "    .dataframe tbody tr th {\n",
       "        vertical-align: top;\n",
       "    }\n",
       "\n",
       "    .dataframe thead th {\n",
       "        text-align: right;\n",
       "    }\n",
       "</style>\n",
       "<table border=\"1\" class=\"dataframe\">\n",
       "  <thead>\n",
       "    <tr style=\"text-align: right;\">\n",
       "      <th></th>\n",
       "      <th>sentences</th>\n",
       "    </tr>\n",
       "  </thead>\n",
       "  <tbody>\n",
       "    <tr>\n",
       "      <td>0</td>\n",
       "      <td>I have just returned from a visit to my landlo...</td>\n",
       "    </tr>\n",
       "    <tr>\n",
       "      <td>2</td>\n",
       "      <td>This is certainly a beautiful country!  In al...</td>\n",
       "    </tr>\n",
       "    <tr>\n",
       "      <td>4</td>\n",
       "      <td>A perfect misanthropist's heaven: and Mr. Hea...</td>\n",
       "    </tr>\n",
       "    <tr>\n",
       "      <td>6</td>\n",
       "      <td>A capital fellow!  He little imagined how my ...</td>\n",
       "    </tr>\n",
       "    <tr>\n",
       "      <td>8</td>\n",
       "      <td>'Mr. Heathcliff?' I said.</td>\n",
       "    </tr>\n",
       "    <tr>\n",
       "      <td>10</td>\n",
       "      <td>A nod was the answer.</td>\n",
       "    </tr>\n",
       "    <tr>\n",
       "      <td>12</td>\n",
       "      <td>'Mr. Lockwood, your new tenant, sir.</td>\n",
       "    </tr>\n",
       "    <tr>\n",
       "      <td>14</td>\n",
       "      <td>I do myself the honour of calling as soon as ...</td>\n",
       "    </tr>\n",
       "    <tr>\n",
       "      <td>16</td>\n",
       "      <td>'I should not allow any one to inconvenience ...</td>\n",
       "    </tr>\n",
       "    <tr>\n",
       "      <td>18</td>\n",
       "      <td>When he saw my horse's breast fairly pushing ...</td>\n",
       "    </tr>\n",
       "  </tbody>\n",
       "</table>\n",
       "</div>"
      ],
      "text/plain": [
       "                                            sentences\n",
       "0   I have just returned from a visit to my landlo...\n",
       "2    This is certainly a beautiful country!  In al...\n",
       "4    A perfect misanthropist's heaven: and Mr. Hea...\n",
       "6    A capital fellow!  He little imagined how my ...\n",
       "8                           'Mr. Heathcliff?' I said.\n",
       "10                              A nod was the answer.\n",
       "12               'Mr. Lockwood, your new tenant, sir.\n",
       "14   I do myself the honour of calling as soon as ...\n",
       "16   'I should not allow any one to inconvenience ...\n",
       "18   When he saw my horse's breast fairly pushing ..."
      ]
     },
     "execution_count": 120,
     "metadata": {},
     "output_type": "execute_result"
    }
   ],
   "source": [
    "wuthering_sent_df = wuthering_sent_df.iloc[::2]\n",
    "wuthering_sent_df.head(10)"
   ]
  },
  {
   "cell_type": "markdown",
   "metadata": {},
   "source": [
    "# Vectorization\n",
    "\n",
    "Now that we have our dataframes, we will implement vectorization to extract words that are most prevalent by topic. This time we will remove necessary entities."
   ]
  },
  {
   "cell_type": "markdown",
   "metadata": {},
   "source": [
    "## Great Expectations\n",
    "Before vectorizing our texts, we need to remove entities, so that our topics do not surround pronouns that do not offer a great deal of insight with regards to themes contained in the book."
   ]
  },
  {
   "cell_type": "code",
   "execution_count": 54,
   "metadata": {},
   "outputs": [],
   "source": [
    "great_doc_vec = nlp(text)"
   ]
  },
  {
   "cell_type": "code",
   "execution_count": 56,
   "metadata": {},
   "outputs": [
    {
     "name": "stdout",
     "output_type": "stream",
     "text": [
      "{'Abel', 'Pip,--which', 'chandler', 'Philip Pip', 'Tom-cats', 'Buster', 'indeed,--more', 'Little Jane', 'performance,--“we', 'Run', 'Mithter Jaggerth', 'recognized,--“it', 'Sarah Pocket', \"Uncle Pumblechook's\", 'Bondsman', 'Black Bill', 'Good Night', 'fox', 'Cobbs', 'Jaggers', 'Carols', 'Sarah', 'Pip', 'Ask Wemmick', 'Impostor', \"Georgiana M'ria\", 'Wemmick', 'Bibles', 'Camberwell Green', 'Cousin Raymond', \"Miss Havisham's\", 'was--“as', \"Mother Hubbard's\", 'Providence', 'Tom', 'Dependent', 'Lodge', 'Alexander', 'Philip Pirrip', 'Aged P.', \"Saint Paul's\", 'company,--making', 'Slower', 'Camberwell', 'fire,--destined', 'I. Which', 'Mary Anne', \"t'other\", 'mitre', 'Wopsle,--and', 'Joseph Gargery', 'green,--a', 'George Barnwell', 'Bobtail', 'Jaggers:--', 'Moses', 'I.', 'candle,--which', 'Joseph.--Joseph', 'Barley', 'Uncle Pumblechook', 'Bridge', 'down,--with', 'Devil', 'knives', 'Die', 'face,--on', 'debt,--very', 'action,--“I', 'Southwark', 'Blandley', 'fungus,--when', 'Dear Pip', 'Mithter--', 'Tar-water', 'sir,”--began Joe', 'doorway,--to', 'Mudbank', 'Provis', 'Havisham', 'Battery', 'Mum', 'Biddy', 'JAGGERS', 'Rums', 'aloud', 'again,--still', 'Roger', \"o'yourn\", 'Gargery', 'Knight', 'Hown', 'Witches', 'Kent', 'Hubble,--I', 'Amelia', 'Lookee', 'book,--this', 'Richard', 'heart,--and', 'Steam', 'rob Joe', 'Barnard', 'Rag', 'Windy', 'Never', 'Twilight', 'Boots', 'Luck', 'Miss Havisham', 'Havishams', 'Pick', 'gun,--and', 'Bolt', 'Joe Gargery', 'Tickler', 'Joe,--“I', 'Matthew Pocket', 'Compeyson', \"Miss Skiffins's\", 'bush', 'Quintin Matsys', 'Papa', 'Guilty', 'Wopsle', 'Kew', 'I.  Wemmick', 'Breakfast', 'betwixt', 'Waldengarver', 'you,--you', 'POCKET', 'midday', 'Young', 'Herbert', 'down,--to', 'Mill Pond', 'ones,--which', 'baker', 'Majesty King George', 'eh?--Well', 'Camilla', 'Campbell', 'Entreating Herbert', 'Clarriker', 'fowl,--which', 'Jo', 'Bentley Drummle', 'Captain Cook', 'Argus', 'Ceptin Wopsle', 'Potkins', 'Old Orlick', 'Punctual', 'Swine', 'Brandley', 'Jack', 'more,--from', 'Mooncalfs', \"Mas'r Jaggers\", 'whereon', 'JUN', 'Fanny', 'Jaggers--', 'Pray', 'Windsor', 'Smithfield', 'Tar', 'Habraham Latharuth', 'Abel Magwitch', 'guard,--he', 'Matthew', 'Raymond', 'wolf', 'canary waistcoat', 'Orlick', 'messenger', 'Arthur', 'Squeaker', 'Mike', 'Camels', 'room,--where', 'know,--very flighty,--quite', 'Rantipole', 'dustpan,--which', \"Mark Antony's\", 'Young Pip', 'Joseph', 'Drama', 'Tag', 'Traveller', 'materials,--satins', 'him,--not', 'Miserably', 'Boar', 'Mamma', 'Bill Barley', 'Noah', 'Chorus', 'Mr Jaggers', 'Rotterdam', 'Morning', 'Drummle lagging', 'National Bard', 'Spider', 'Old Clem', 'Halloa', \"a'most\", 'Felon', 'jack-towel', 'Wolf', 'Abraham', 'Jacks', 'Ophelia', 'Aberdeen', 'Tobias', 'N.B.', 'Walworth', 'town,--which', 'Parks', 'PIP:--', 'hair,--which', 'Jaggers.--And', 'here.--It', 'Trabb', 'Herbert Pocket', 'Clara Barley', 'impart', 'Charlotte', 'knoweth', 'Flopson', 'Queens', '--Then', 'I. “', 'windy marsh view', 'Bartholomew Close', 'Bill', 'George', 'gore', 'Philip', 'Lobbs', 'Whimple', 'William', \"Old Clem's\", 'Greenwich', 'know,--quite', 'Pocket', 'Drummle', 'beast,--which', 'Miss Skiffins', 'Coiler', 'Millwood', 'tramp', 'Molly', 'Bartholomew', 'Boy', 'Jane Pocket', 'Inn', 'Skiffins', 'J. Gargery', 'Mithter Wemmick', \"Bill Barley's\", 'Joe', 'DEER JO', 'Hulk', 'Clem', 'Jane', 'Hulks', 'Ogre', 'rang', 'Jeweller', 'Handel', 'moon', 'betwixt man', 'JO', 'Eastward', 'Dear Anything', 'Looked', 'Tea', 'Larks', 'the Wemmick of Walworth', 'Estella', 'Magwitch', 'Cain', 'Summun', 'Arter', 'Collins', 'Archbishop', 'Gout', \"p'raps\", 'Godliness', \"Sarah Pocket's\", 'Hark', 'Startop', 'together,--which', \"J. Gargery's\", 'Georgiana', 'Almost', 'spectre', 'Sally', 'Clara', 'Prettily', 'Thankee', 'Grove', 'Essex', 'Avenger', 'Pumblechook', 'Portsmouth', 'Churchyard', 'Muzzled', 'the Betsy of Yarmouth', 'Hammersmith', 'know,--but', 'jack', 'Buttons', 'Close', 'Majesty', 'John', 'me,--I', 'in--', 'Barnwell', 'Wemmicks', 'Briton', 'wrote,--do', 'Hubble', 'ma', 'Macbeth'}\n"
     ]
    }
   ],
   "source": [
    "# All of the unique entities spaCy thinks are people.\n",
    "people = [entity.text for entity in list(great_doc_vec.ents) if entity.label_ == \"PERSON\"]\n",
    "print(set(people))"
   ]
  },
  {
   "cell_type": "code",
   "execution_count": 73,
   "metadata": {},
   "outputs": [],
   "source": [
    "stop_vec = stopwords.words('english')\n",
    "additional_stopwords = \"\"\"pip joe collins estella havisham abel whimple gargery pirrip philip ah ha mr mrs oh\"\"\"\n",
    "stop_vec += additional_stopwords.split()"
   ]
  },
  {
   "cell_type": "code",
   "execution_count": 74,
   "metadata": {},
   "outputs": [],
   "source": [
    "tfidf = TfidfVectorizer(max_df=0.95, min_df=2, stop_words=stop_vec)"
   ]
  },
  {
   "cell_type": "code",
   "execution_count": 75,
   "metadata": {},
   "outputs": [
    {
     "data": {
      "text/plain": [
       "<333x557 sparse matrix of type '<class 'numpy.float64'>'\n",
       "\twith 2370 stored elements in Compressed Sparse Row format>"
      ]
     },
     "execution_count": 75,
     "metadata": {},
     "output_type": "execute_result"
    }
   ],
   "source": [
    "dtm = tfidf.fit_transform(dickens_df['sentences'])\n",
    "dtm"
   ]
  },
  {
   "cell_type": "code",
   "execution_count": 76,
   "metadata": {},
   "outputs": [
    {
     "data": {
      "text/plain": [
       "NMF(alpha=0.0, beta_loss='frobenius', init=None, l1_ratio=0.0, max_iter=200,\n",
       "    n_components=5, random_state=42, shuffle=False, solver='cd', tol=0.0001,\n",
       "    verbose=0)"
      ]
     },
     "execution_count": 76,
     "metadata": {},
     "output_type": "execute_result"
    }
   ],
   "source": [
    "nmf_model = NMF(n_components=5,random_state=42)\n",
    "nmf_model.fit(dtm)"
   ]
  },
  {
   "cell_type": "code",
   "execution_count": 78,
   "metadata": {},
   "outputs": [
    {
     "name": "stdout",
     "output_type": "stream",
     "text": [
      "hand\n",
      "going\n",
      "waiting\n",
      "ankle\n",
      "eyes\n",
      "else\n",
      "ships\n",
      "best\n",
      "bib\n",
      "often\n"
     ]
    }
   ],
   "source": [
    "#this is a random sampling of our feature words to be sure our code is working properly.\n",
    "for i in range(10):\n",
    "    random_word_id = random.randint(0,557)\n",
    "    print(tfidf.get_feature_names()[random_word_id])"
   ]
  },
  {
   "cell_type": "code",
   "execution_count": 79,
   "metadata": {},
   "outputs": [],
   "source": [
    "single_topic = nmf_model.components_[0]"
   ]
  },
  {
   "cell_type": "code",
   "execution_count": 81,
   "metadata": {},
   "outputs": [
    {
     "name": "stdout",
     "output_type": "stream",
     "text": [
      "THE TOP 15 WORDS FOR TOPIC #0\n",
      "['hold', 'thought', 'feeling', 'sir', 'terror', 'hears', 'eating', 'liver', 'hid', 'dreadful', 'secret', 'heart', 'boy', 'young', 'man']\n",
      "\n",
      "\n",
      "THE TOP 15 WORDS FOR TOPIC #1\n",
      "['wonder', 'never', 'us', 'stared', 'shaking', 'bite', 'general', 'churchyard', 'way', 'matter', 'exclaimed', 'repeated', 'boy', 'know', 'sister']\n",
      "\n",
      "\n",
      "THE TOP 15 WORDS FOR TOPIC #2\n",
      "['brandy', 'hulks', 'lookee', 'brought', 'blacksmith', 'firing', 'hear', 'looking', 'cough', 'know', 'us', 'took', 'mother', 'sir', 'said']\n",
      "\n",
      "\n",
      "THE TOP 15 WORDS FOR TOPIC #3\n",
      "['put', 'one', 'thought', 'say', 'got', 'upon', 'church', 'never', 'came', 'made', 'would', 'time', 'going', 'like', 'much']\n",
      "\n",
      "\n",
      "THE TOP 15 WORDS FOR TOPIC #4\n",
      "['eyes', 'iron', 'moment', 'tilted', 'yes', 'way', 'got', 'great', 'file', 'round', 'bread', 'took', 'butter', 'leg', 'looked']\n",
      "\n",
      "\n"
     ]
    }
   ],
   "source": [
    "for index,topic in enumerate(nmf_model.components_):\n",
    "    print(f'THE TOP 15 WORDS FOR TOPIC #{index}')\n",
    "    print([tfidf.get_feature_names()[i] for i in topic.argsort()[-15:]])\n",
    "    print('\\n')"
   ]
  },
  {
   "cell_type": "markdown",
   "metadata": {},
   "source": [
    "It's interesting that our topics are not necessarily clearly defined by the naked eye, yet, mathematically they are grouped."
   ]
  },
  {
   "cell_type": "code",
   "execution_count": 82,
   "metadata": {},
   "outputs": [
    {
     "data": {
      "text/plain": [
       "array([0.  , 0.02, 0.01, 0.07, 0.  ])"
      ]
     },
     "execution_count": 82,
     "metadata": {},
     "output_type": "execute_result"
    }
   ],
   "source": [
    "topic_results = nmf_model.transform(dtm)\n",
    "topic_results[0].round(2)"
   ]
  },
  {
   "cell_type": "markdown",
   "metadata": {},
   "source": [
    "Below we can add a column to our dataframe that assigns each sentence to it's respective topic. Very interesting!"
   ]
  },
  {
   "cell_type": "code",
   "execution_count": 83,
   "metadata": {},
   "outputs": [
    {
     "data": {
      "text/html": [
       "<div>\n",
       "<style scoped>\n",
       "    .dataframe tbody tr th:only-of-type {\n",
       "        vertical-align: middle;\n",
       "    }\n",
       "\n",
       "    .dataframe tbody tr th {\n",
       "        vertical-align: top;\n",
       "    }\n",
       "\n",
       "    .dataframe thead th {\n",
       "        text-align: right;\n",
       "    }\n",
       "</style>\n",
       "<table border=\"1\" class=\"dataframe\">\n",
       "  <thead>\n",
       "    <tr style=\"text-align: right;\">\n",
       "      <th></th>\n",
       "      <th>sentences</th>\n",
       "      <th>topic</th>\n",
       "    </tr>\n",
       "  </thead>\n",
       "  <tbody>\n",
       "    <tr>\n",
       "      <td>0</td>\n",
       "      <td>My father's family name being Pirrip, and my C...</td>\n",
       "      <td>3</td>\n",
       "    </tr>\n",
       "    <tr>\n",
       "      <td>2</td>\n",
       "      <td>So, I called myself Pip, and came to be called...</td>\n",
       "      <td>3</td>\n",
       "    </tr>\n",
       "    <tr>\n",
       "      <td>4</td>\n",
       "      <td>I give Pirrip as my father's family name, on ...</td>\n",
       "      <td>1</td>\n",
       "    </tr>\n",
       "    <tr>\n",
       "      <td>6</td>\n",
       "      <td>Joe Gargery, who married the blacksmith.</td>\n",
       "      <td>2</td>\n",
       "    </tr>\n",
       "    <tr>\n",
       "      <td>8</td>\n",
       "      <td>As I never saw my father or my mother, and nev...</td>\n",
       "      <td>3</td>\n",
       "    </tr>\n",
       "    <tr>\n",
       "      <td>10</td>\n",
       "      <td>The shape of the letters on my father's, gave ...</td>\n",
       "      <td>0</td>\n",
       "    </tr>\n",
       "    <tr>\n",
       "      <td>12</td>\n",
       "      <td>From the character and turn of the inscription...</td>\n",
       "      <td>2</td>\n",
       "    </tr>\n",
       "    <tr>\n",
       "      <td>14</td>\n",
       "      <td>To five little stone lozenges, each about a fo...</td>\n",
       "      <td>3</td>\n",
       "    </tr>\n",
       "    <tr>\n",
       "      <td>16</td>\n",
       "      <td>Ours was the marsh country, down by the river...</td>\n",
       "      <td>3</td>\n",
       "    </tr>\n",
       "    <tr>\n",
       "      <td>18</td>\n",
       "      <td>My first most vivid and broad impression of th...</td>\n",
       "      <td>3</td>\n",
       "    </tr>\n",
       "  </tbody>\n",
       "</table>\n",
       "</div>"
      ],
      "text/plain": [
       "                                            sentences  topic\n",
       "0   My father's family name being Pirrip, and my C...      3\n",
       "2   So, I called myself Pip, and came to be called...      3\n",
       "4    I give Pirrip as my father's family name, on ...      1\n",
       "6            Joe Gargery, who married the blacksmith.      2\n",
       "8   As I never saw my father or my mother, and nev...      3\n",
       "10  The shape of the letters on my father's, gave ...      0\n",
       "12  From the character and turn of the inscription...      2\n",
       "14  To five little stone lozenges, each about a fo...      3\n",
       "16   Ours was the marsh country, down by the river...      3\n",
       "18  My first most vivid and broad impression of th...      3"
      ]
     },
     "execution_count": 83,
     "metadata": {},
     "output_type": "execute_result"
    }
   ],
   "source": [
    "dickens_df['topic'] = topic_results.argmax(axis=1)\n",
    "dickens_df.head(10)"
   ]
  },
  {
   "cell_type": "markdown",
   "metadata": {},
   "source": [
    "## Pride & Prejudice"
   ]
  },
  {
   "cell_type": "code",
   "execution_count": 84,
   "metadata": {},
   "outputs": [],
   "source": [
    "pride_doc_vec = nlp(pride)"
   ]
  },
  {
   "cell_type": "code",
   "execution_count": 85,
   "metadata": {},
   "outputs": [
    {
     "name": "stdout",
     "output_type": "stream",
     "text": [
      "{'Pulvis Lodge', 'Hurst', 'Scarborough', 'Bingley', 'Phillips', 'Louisa', 'God', 'George Wickham', 'Morris', 'Lucas', 'Darcy!--and', 'Lady Anne', 'Maria', 'Aye', 'Jones', 'Liverpool', 'aloud', 'Miss de Bourgh', 'Lydia Bennet', 'Georgiana Darcy', 'Hatfield', 'Lizzy', 'Younge', 'Epsom', 'Nay', 'Lady Catherine', 'Lucas Lodge', 'Brighton', 'Gardiner', 'Longbourn', \"Lady Catherine de Bourgh's\", 'Mary King', 'Kent', 'Bromley', 'Lady Lucas', 'Jane', 'Miller', 'Catherine', 'Derbyshire', 'Forster', 'Richard', '_', 'Reynolds', 'Pemberley Woods', \"what's\", 'Miss King', 'Gardiners', 'Miss Eliza', 'Sarah', 'Bennet', 'W.', 'Eastbourne', 'Dawson', 'Clapham', 'Elizabeth', 'Phillip', 'Lydia', 'Anxiety', 'Ashworth', 'lustre', 'Mamma', 'Dove Dale', 'Caroline', 'Jane Bennet', \"Miss Bingley's\", \"Elizabeth Bennet's\", 'Charles', 'Collins', 'Pope', 'Harriet', 'They_', 'Nicholls', 'Annesley', 'Maria Lucas', 'Pen', 'Netherfield', 'Collinses', 'William Goulding', 'He_', 'Fitzwilliam', 'Haggerston', 'Hertfordshire', 'papa', 'Mary', 'Georgiana', 'Lucases', 'Pemberley', 'Sally', 'nay', 'Eliza Bennet', 'this_', 'Kitty', \"Lewis de Bourgh's\", 'Breakfast', 'desire,--splendid', 'Hill', 'Lewis de Bourgh', 'Miss Bingley', 'Lady Catherine de Bourgh', 'Lady Anne Darcy', 'hang Kitty', \"Lady Metcalf's\", \"Lady Catherine's\", 'Esq', 'Charlotte', 'Gretna Green', 'Carter', 'Dearest Lizzy', \"Miss Bennet's\", 'York', 'Meryton', 'Miss Bennet', 'Denny', 'All Meryton', 'George', 'Pratt', 'Jenkinson', 'Easter', 'de Bourgh', 'F.', 'Lydia Wickham', 'headstrong', 'Darcy _', 'Long', 'Wickham', \"William Lucas's\", 'Lakes', 'Grantley', 'William', 'William Lucas', 'Eliza', 'Clarke', 'Elizabeth Bennet', 'Captain Carter', \"Miss Watson's\", 'John', 'Matlock', 'Till Elizabeth', 'Caroline Bingley', 'Darcy', 'Anne', \"Miss de Bourgh's\", 'Robinson', 'Fitzwilliam Darcy', 'The Courier', 'Charlotte Lucas', 'Dear Lizzy', 'Fordyce', 'Stone'}\n"
     ]
    }
   ],
   "source": [
    "# All of the unique entities spaCy thinks are people.\n",
    "people = [entity.text for entity in list(pride_doc_vec.ents) if entity.label_ == \"PERSON\"]\n",
    "print(set(people))"
   ]
  },
  {
   "cell_type": "code",
   "execution_count": 96,
   "metadata": {},
   "outputs": [],
   "source": [
    "stop_vec2 = stopwords.words('english')\n",
    "additional_stopwords = \"\"\"_you_ bingley darcy lizzy lady catherine lydia kitty elizabeth bennet scarborough gardiner ah ha mr mrs oh\"\"\"\n",
    "stop_vec2 += additional_stopwords.split()"
   ]
  },
  {
   "cell_type": "code",
   "execution_count": 97,
   "metadata": {},
   "outputs": [],
   "source": [
    "pride_tfidf = TfidfVectorizer(max_df=0.95, min_df=2, stop_words=stop_vec2)"
   ]
  },
  {
   "cell_type": "code",
   "execution_count": 98,
   "metadata": {},
   "outputs": [
    {
     "data": {
      "text/plain": [
       "<4606x3774 sparse matrix of type '<class 'numpy.float64'>'\n",
       "\twith 48072 stored elements in Compressed Sparse Row format>"
      ]
     },
     "execution_count": 98,
     "metadata": {},
     "output_type": "execute_result"
    }
   ],
   "source": [
    "dtm_pride = pride_tfidf.fit_transform(pride_sent_df['sentences'])\n",
    "dtm_pride"
   ]
  },
  {
   "cell_type": "code",
   "execution_count": 99,
   "metadata": {},
   "outputs": [
    {
     "data": {
      "text/plain": [
       "NMF(alpha=0.0, beta_loss='frobenius', init=None, l1_ratio=0.0, max_iter=200,\n",
       "    n_components=5, random_state=42, shuffle=False, solver='cd', tol=0.0001,\n",
       "    verbose=0)"
      ]
     },
     "execution_count": 99,
     "metadata": {},
     "output_type": "execute_result"
    }
   ],
   "source": [
    "nmf_model.fit(dtm_pride)"
   ]
  },
  {
   "cell_type": "code",
   "execution_count": 100,
   "metadata": {},
   "outputs": [
    {
     "name": "stdout",
     "output_type": "stream",
     "text": [
      "dearest\n",
      "_appearance_\n",
      "entrance\n",
      "meanly\n",
      "astonished\n",
      "reason\n",
      "impulse\n",
      "assembly\n",
      "belongs\n",
      "usage\n"
     ]
    }
   ],
   "source": [
    "for i in range(10):\n",
    "    random_word_id = random.randint(0,3775)\n",
    "    print(tfidf.get_feature_names()[random_word_id])"
   ]
  },
  {
   "cell_type": "code",
   "execution_count": 101,
   "metadata": {},
   "outputs": [
    {
     "name": "stdout",
     "output_type": "stream",
     "text": [
      "THE TOP 15 WORDS FOR TOPIC #0\n",
      "['things', 'date', 'settlement', 'sincerely', 'collect', 'evenings', 'neighbour', 'go', 'minutes', 'throughout', 'solitude', 'offers', 'involved', 'mortifying', 'work']\n",
      "\n",
      "\n",
      "THE TOP 15 WORDS FOR TOPIC #1\n",
      "['incumbent', 'astonish', 'welcome', 'settlement', 'unreasonable', 'solitude', 'suppose', 'seated', 'date', 'nobody', 'women', 'thanked', 'neighbour', 'minutes', 'ruin']\n",
      "\n",
      "\n",
      "THE TOP 15 WORDS FOR TOPIC #2\n",
      "['colour', 'worst', 'altogether', 'satin', 'led', 'came', 'credit', 'reach', 'sought', 'nobody', 'glancing', 'days', 'thanked', 'kindness', 'motives']\n",
      "\n",
      "\n",
      "THE TOP 15 WORDS FOR TOPIC #3\n",
      "['george', 'least', 'feels', 'merely', 'sought', 'thanked', 'hearty', 'divide', 'happier', 'things', 'seated', 'willingness', 'satin', 'nobody', 'correspondent']\n",
      "\n",
      "\n",
      "THE TOP 15 WORDS FOR TOPIC #4\n",
      "['months', 'done', 'perceive', 'home', 'playful', 'master', 'kissed', 'question', 'betray', 'reach', 'lively', 'whims', 'lord', 'wretchedness', 'weather']\n",
      "\n",
      "\n"
     ]
    }
   ],
   "source": [
    "for index,topic in enumerate(nmf_model.components_):\n",
    "    print(f'THE TOP 15 WORDS FOR TOPIC #{index}')\n",
    "    print([tfidf.get_feature_names()[i] for i in topic.argsort()[-15:]])\n",
    "    print('\\n')"
   ]
  },
  {
   "cell_type": "code",
   "execution_count": 102,
   "metadata": {},
   "outputs": [
    {
     "data": {
      "text/plain": [
       "array([0.02, 0.  , 0.08, 0.  , 0.  ])"
      ]
     },
     "execution_count": 102,
     "metadata": {},
     "output_type": "execute_result"
    }
   ],
   "source": [
    "topic_results = nmf_model.transform(dtm_pride)\n",
    "topic_results[0].round(2)"
   ]
  },
  {
   "cell_type": "code",
   "execution_count": 103,
   "metadata": {},
   "outputs": [
    {
     "data": {
      "text/html": [
       "<div>\n",
       "<style scoped>\n",
       "    .dataframe tbody tr th:only-of-type {\n",
       "        vertical-align: middle;\n",
       "    }\n",
       "\n",
       "    .dataframe tbody tr th {\n",
       "        vertical-align: top;\n",
       "    }\n",
       "\n",
       "    .dataframe thead th {\n",
       "        text-align: right;\n",
       "    }\n",
       "</style>\n",
       "<table border=\"1\" class=\"dataframe\">\n",
       "  <thead>\n",
       "    <tr style=\"text-align: right;\">\n",
       "      <th></th>\n",
       "      <th>sentences</th>\n",
       "      <th>topic</th>\n",
       "    </tr>\n",
       "  </thead>\n",
       "  <tbody>\n",
       "    <tr>\n",
       "      <td>0</td>\n",
       "      <td>It is a truth universally acknowledge...</td>\n",
       "      <td>2</td>\n",
       "    </tr>\n",
       "    <tr>\n",
       "      <td>2</td>\n",
       "      <td>However little known the feelings or views of...</td>\n",
       "      <td>4</td>\n",
       "    </tr>\n",
       "    <tr>\n",
       "      <td>4</td>\n",
       "      <td>\"My dear Mr. Bennet,\" said his lady to him on...</td>\n",
       "      <td>1</td>\n",
       "    </tr>\n",
       "    <tr>\n",
       "      <td>6</td>\n",
       "      <td>\"But it is,\" returned she; \"for Mrs.</td>\n",
       "      <td>0</td>\n",
       "    </tr>\n",
       "    <tr>\n",
       "      <td>8</td>\n",
       "      <td>Long has just been here, and she told me all a...</td>\n",
       "      <td>0</td>\n",
       "    </tr>\n",
       "    <tr>\n",
       "      <td>10</td>\n",
       "      <td>\"Do you not want to know who has taken it?\" c...</td>\n",
       "      <td>2</td>\n",
       "    </tr>\n",
       "    <tr>\n",
       "      <td>12</td>\n",
       "      <td>\"_You_ want to tell me, and I have no objecti...</td>\n",
       "      <td>0</td>\n",
       "    </tr>\n",
       "    <tr>\n",
       "      <td>14</td>\n",
       "      <td>\"Why, my dear, you must know, Mrs.</td>\n",
       "      <td>2</td>\n",
       "    </tr>\n",
       "    <tr>\n",
       "      <td>16</td>\n",
       "      <td>Long says that Netherfield is taken by a young...</td>\n",
       "      <td>0</td>\n",
       "    </tr>\n",
       "    <tr>\n",
       "      <td>18</td>\n",
       "      <td>What a fine thing for our girls!\"  \"How so?</td>\n",
       "      <td>0</td>\n",
       "    </tr>\n",
       "  </tbody>\n",
       "</table>\n",
       "</div>"
      ],
      "text/plain": [
       "                                            sentences  topic\n",
       "0            It is a truth universally acknowledge...      2\n",
       "2    However little known the feelings or views of...      4\n",
       "4    \"My dear Mr. Bennet,\" said his lady to him on...      1\n",
       "6                \"But it is,\" returned she; \"for Mrs.      0\n",
       "8   Long has just been here, and she told me all a...      0\n",
       "10   \"Do you not want to know who has taken it?\" c...      2\n",
       "12   \"_You_ want to tell me, and I have no objecti...      0\n",
       "14                 \"Why, my dear, you must know, Mrs.      2\n",
       "16  Long says that Netherfield is taken by a young...      0\n",
       "18        What a fine thing for our girls!\"  \"How so?      0"
      ]
     },
     "execution_count": 103,
     "metadata": {},
     "output_type": "execute_result"
    }
   ],
   "source": [
    "pride_sent_df['topic'] = topic_results.argmax(axis=1)\n",
    "pride_sent_df.head(10)"
   ]
  },
  {
   "cell_type": "markdown",
   "metadata": {},
   "source": [
    "## Wuthering Heights"
   ]
  },
  {
   "cell_type": "code",
   "execution_count": 121,
   "metadata": {},
   "outputs": [],
   "source": [
    "wuth_doc_vec = nlp(wuthering)"
   ]
  },
  {
   "cell_type": "code",
   "execution_count": 122,
   "metadata": {},
   "outputs": [
    {
     "name": "stdout",
     "output_type": "stream",
     "text": [
      "{'Hareton Earnshaw', 'Miss--', 'Lockwood', 'Master Edgar', 'Maister Linton', 'Penistone Crags', 'Begone', 'Heathcliff', 'Fanny', 'Umph', 'God', 'Milo', 'Noa', 'Answer', 'my--', 'Shoo', 'Pray', 'Na', 'Gipsy', 'Run', 'Unluckily', 'Somebody', 'Linton Heathcliff', 'Kenneth', 'Crags', 'marry Edgar Linton', 'flung Hareton', 'Matthew', 'Catherine Earnshaw', 'aloud', \"mun tak'\", 'Side', 'Spring', 'Cathy', 'sit ye down', 'King Lear', 'Edgar Linton', 'Nay', 'Minny', 'amang', 'Isabella Linton', 'Inform Edgar', 'Thou', 'Wuthering Heights Catherine', 'yer hankerchir', 'Happily', 'ye', 'sich bonny', 'Thrushcross Grange', 'messenger', 'Drag', 'Lintons', 'Miss Catherine', 'Catherine', 'Gimmerton Kirk', 'Go--', 'Fie', 'is--', 'yon bonny', 'lady--', 'Draw', 'Gnasher', 'Eea', 'mun', 'Juno', 'Joseph', 'Shame', 'Earnshaw', 'Jenny', 'Joseph swung', 'moon', 'Jabez Branderham', 'Thear', 'Jabez', \"thou'rt\", 'Little Hareton', 'yon', 'Divine', 'amang us', 'Wuthering Heights', 'Miss Linton', \"t'fooil\", 'Nelly Dean', 'Tush', 'lo', 'Robert', 'Hindley Earnshaw', 'Return', 'Notwithstanding', 'norther Paul', 'H.', 'Disturbed', 'Niver', 'Hathecliff', 'Aunt Isabella', 'Master Heathcliff', 'mutton', 'Noah', 'Bibles', 'Pretty', 'Oho', 'Zillah', 'Master Linton', 'you!--If', 'Sabbath', 'Edgar', 'Ellen Dean', 'ye norther', 'Th', 'Wicked Ellen', 'Ellen', 'Howsiver', 'Dawn', 'quarrel', 'ye darr', 'Rich', \"boath ye un'\", 'Providence', 'Skulker', 'Sundays', 'T. G. It', 'stealthy tread', 'Throttler', 'Michael', 'Shielders', 'Leaving', 'papa', 'Missis', 'Wolf', 'Mary', 'knighthood', \"Catherine Heathcliff's\", 'Wah', 'thou', 'Bud', 'Varrah', 'Grimalkin', 'spectre', 'doze', \"ails th'\", 'Quarrel', 'thee', 'Papa', 'marry Heathcliff', 'thur fingers', 'Dree', 'Leaving Joseph', 'Send Ellen', 'Maister Hareton', 'Pretty Linton', 'Maister', 'Dean', 'Heights', 'Miss', 'Hush', 'Kissing', 'Frances', 'Catherine Heathcliff', 'Walk', 'Doubtless Catherine', \"Catherine Linton's\", 'hazel-nut', \"out--'Oh\", 'noa', 'Green', 'Grange', \"a'most getten\", \"t'other\", 'th', 'Nick', 'W. H.', 'Grief', 'Linton', 'nur Peter', 'Lot', 'Judas', 'Monster', 'Hahsomdiver', 'Hereafter', 'thur lugs', 'Earnshaws', 'kirk', \"observed--'Miss Catherine\", 'Dame Catherine', \"wer a'most\", 'Easter', 'kirkyard', 'I.', 'Nelly', 'headstrong', 'Penistone', 'Will Hathecliff', 'ye skift', 'Gie', 'Isabella', 'Lo', 'Catherine Earnshaw--Heathcliff', \"Edgar Linton's\", 'Devil', 'Kiss', 'John', 'Maister Hindley', 'in--', 'mim', 'Whet', 'Ho', 'Nell', 'Catherine Linton', 'Worthy', \"he--'As\", \"begin--'I've\", 'Charlie', 'Hindley', \"Catherine Linton'\", 'nur John', 'Hareton'}\n"
     ]
    }
   ],
   "source": [
    "# All of the unique entities spaCy thinks are people.\n",
    "people = [entity.text for entity in list(wuth_doc_vec.ents) if entity.label_ == \"PERSON\"]\n",
    "print(set(people))"
   ]
  },
  {
   "cell_type": "code",
   "execution_count": 123,
   "metadata": {},
   "outputs": [],
   "source": [
    "stop_vec3 = stopwords.words('english')\n",
    "additional_stopwords = \"\"\"_are_ wuthering heathcliff lockwood linton edgar isabella matthew thou robert ah ha mr mrs oh\"\"\"\n",
    "stop_vec3 += additional_stopwords.split()"
   ]
  },
  {
   "cell_type": "code",
   "execution_count": 124,
   "metadata": {},
   "outputs": [],
   "source": [
    "wuth_tfidf = TfidfVectorizer(max_df=0.95, min_df=2, stop_words=stop_vec3)"
   ]
  },
  {
   "cell_type": "code",
   "execution_count": 125,
   "metadata": {},
   "outputs": [
    {
     "data": {
      "text/plain": [
       "<67x102 sparse matrix of type '<class 'numpy.float64'>'\n",
       "\twith 249 stored elements in Compressed Sparse Row format>"
      ]
     },
     "execution_count": 125,
     "metadata": {},
     "output_type": "execute_result"
    }
   ],
   "source": [
    "dtm_wuthering = wuth_tfidf.fit_transform(wuthering_sent_df['sentences'])\n",
    "dtm_wuthering"
   ]
  },
  {
   "cell_type": "code",
   "execution_count": 126,
   "metadata": {},
   "outputs": [
    {
     "data": {
      "text/plain": [
       "NMF(alpha=0.0, beta_loss='frobenius', init=None, l1_ratio=0.0, max_iter=200,\n",
       "    n_components=5, random_state=42, shuffle=False, solver='cd', tol=0.0001,\n",
       "    verbose=0)"
      ]
     },
     "execution_count": 126,
     "metadata": {},
     "output_type": "execute_result"
    }
   ],
   "source": [
    "nmf_model.fit(dtm_wuthering)"
   ]
  },
  {
   "cell_type": "code",
   "execution_count": 127,
   "metadata": {},
   "outputs": [
    {
     "name": "stdout",
     "output_type": "stream",
     "text": [
      "abominable\n",
      "_insist_\n",
      "able\n",
      "abominable\n",
      "absolute\n",
      "_is_\n",
      "absurd\n",
      "_will_\n",
      "acceptable\n",
      "_there_\n"
     ]
    }
   ],
   "source": [
    "for i in range(10):\n",
    "    random_word_id = random.randint(0,102)\n",
    "    print(tfidf.get_feature_names()[random_word_id])"
   ]
  },
  {
   "cell_type": "code",
   "execution_count": 128,
   "metadata": {},
   "outputs": [
    {
     "name": "stdout",
     "output_type": "stream",
     "text": [
      "THE TOP 15 WORDS FOR TOPIC #0\n",
      "['accusations', '_heard_', 'accused', 'absolute', 'absurd', 'accomplishment', 'abominably', 'accomplished', 'accounting', 'abode', '_may_', '_me_', '_them_', '_they_', 'absolutely']\n",
      "\n",
      "\n",
      "THE TOP 15 WORDS FOR TOPIC #1\n",
      "['_now_', 'abused', 'accidental', 'absent', '_you_', 'accident', '_one_', 'acknowledgment', '_your_', 'abusing', '_him_', 'accustomed', 'accompanied', 'acknowledged', 'acceptable']\n",
      "\n",
      "\n",
      "THE TOP 15 WORDS FOR TOPIC #2\n",
      "['accomplished', '_have_', 'acknowledgment', 'accompany', '_such_', '_never_', '_i_', 'accompanying', 'abundantly', '_does_', '_his_', '_my_', '_insist_', 'accepted', '_here_']\n",
      "\n",
      "\n",
      "THE TOP 15 WORDS FOR TOPIC #3\n",
      "['abruptly', '_very_', '_that_', '_appearance_', 'abhorrence', '_did_', 'absurdities', '_never_', '_know_', 'absent', 'abominate', 'accent', 'accidentally', 'accosted', '_is_']\n",
      "\n",
      "\n",
      "THE TOP 15 WORDS FOR TOPIC #4\n",
      "['abusive', '_more_', 'abruptness', '_we_', '_must_', '_will_', 'accomplishments', 'absence', 'abilities', 'accents', 'acknowledged', '_all_', 'accepting', '_her_', 'accordingly']\n",
      "\n",
      "\n"
     ]
    }
   ],
   "source": [
    "for index,topic in enumerate(nmf_model.components_):\n",
    "    print(f'THE TOP 15 WORDS FOR TOPIC #{index}')\n",
    "    print([tfidf.get_feature_names()[i] for i in topic.argsort()[-15:]])\n",
    "    print('\\n')"
   ]
  },
  {
   "cell_type": "code",
   "execution_count": 129,
   "metadata": {},
   "outputs": [
    {
     "data": {
      "text/plain": [
       "array([0.  , 0.  , 0.02, 0.03, 0.13])"
      ]
     },
     "execution_count": 129,
     "metadata": {},
     "output_type": "execute_result"
    }
   ],
   "source": [
    "topic_results = nmf_model.transform(dtm_wuthering)\n",
    "topic_results[0].round(2)"
   ]
  },
  {
   "cell_type": "code",
   "execution_count": 130,
   "metadata": {},
   "outputs": [
    {
     "data": {
      "text/html": [
       "<div>\n",
       "<style scoped>\n",
       "    .dataframe tbody tr th:only-of-type {\n",
       "        vertical-align: middle;\n",
       "    }\n",
       "\n",
       "    .dataframe tbody tr th {\n",
       "        vertical-align: top;\n",
       "    }\n",
       "\n",
       "    .dataframe thead th {\n",
       "        text-align: right;\n",
       "    }\n",
       "</style>\n",
       "<table border=\"1\" class=\"dataframe\">\n",
       "  <thead>\n",
       "    <tr style=\"text-align: right;\">\n",
       "      <th></th>\n",
       "      <th>sentences</th>\n",
       "      <th>topic</th>\n",
       "    </tr>\n",
       "  </thead>\n",
       "  <tbody>\n",
       "    <tr>\n",
       "      <td>0</td>\n",
       "      <td>I have just returned from a visit to my landlo...</td>\n",
       "      <td>4</td>\n",
       "    </tr>\n",
       "    <tr>\n",
       "      <td>2</td>\n",
       "      <td>This is certainly a beautiful country!  In al...</td>\n",
       "      <td>2</td>\n",
       "    </tr>\n",
       "    <tr>\n",
       "      <td>4</td>\n",
       "      <td>A perfect misanthropist's heaven: and Mr. Hea...</td>\n",
       "      <td>3</td>\n",
       "    </tr>\n",
       "    <tr>\n",
       "      <td>6</td>\n",
       "      <td>A capital fellow!  He little imagined how my ...</td>\n",
       "      <td>4</td>\n",
       "    </tr>\n",
       "    <tr>\n",
       "      <td>8</td>\n",
       "      <td>'Mr. Heathcliff?' I said.</td>\n",
       "      <td>4</td>\n",
       "    </tr>\n",
       "    <tr>\n",
       "      <td>10</td>\n",
       "      <td>A nod was the answer.</td>\n",
       "      <td>0</td>\n",
       "    </tr>\n",
       "    <tr>\n",
       "      <td>12</td>\n",
       "      <td>'Mr. Lockwood, your new tenant, sir.</td>\n",
       "      <td>2</td>\n",
       "    </tr>\n",
       "    <tr>\n",
       "      <td>14</td>\n",
       "      <td>I do myself the honour of calling as soon as ...</td>\n",
       "      <td>2</td>\n",
       "    </tr>\n",
       "    <tr>\n",
       "      <td>16</td>\n",
       "      <td>'I should not allow any one to inconvenience ...</td>\n",
       "      <td>2</td>\n",
       "    </tr>\n",
       "    <tr>\n",
       "      <td>18</td>\n",
       "      <td>When he saw my horse's breast fairly pushing ...</td>\n",
       "      <td>1</td>\n",
       "    </tr>\n",
       "  </tbody>\n",
       "</table>\n",
       "</div>"
      ],
      "text/plain": [
       "                                            sentences  topic\n",
       "0   I have just returned from a visit to my landlo...      4\n",
       "2    This is certainly a beautiful country!  In al...      2\n",
       "4    A perfect misanthropist's heaven: and Mr. Hea...      3\n",
       "6    A capital fellow!  He little imagined how my ...      4\n",
       "8                           'Mr. Heathcliff?' I said.      4\n",
       "10                              A nod was the answer.      0\n",
       "12               'Mr. Lockwood, your new tenant, sir.      2\n",
       "14   I do myself the honour of calling as soon as ...      2\n",
       "16   'I should not allow any one to inconvenience ...      2\n",
       "18   When he saw my horse's breast fairly pushing ...      1"
      ]
     },
     "execution_count": 130,
     "metadata": {},
     "output_type": "execute_result"
    }
   ],
   "source": [
    "wuthering_sent_df['topic'] = topic_results.argmax(axis=1)\n",
    "wuthering_sent_df.head(10)"
   ]
  },
  {
   "cell_type": "markdown",
   "metadata": {},
   "source": [
    "# Refocus on Austen Themes\n",
    "\n",
    "Now that we have looked at topics related to works of early 1800s, let's focus more on works by Austen. Perhaps if we analyze text on a broader scope--perhaps by paragraph--we would have more context for topic modeling. I am going to do some tfidf modeling on Austen works below."
   ]
  },
  {
   "cell_type": "code",
   "execution_count": 131,
   "metadata": {},
   "outputs": [
    {
     "name": "stdout",
     "output_type": "stream",
     "text": [
      "['[ Emma by Jane Austen 1816 ]', 'VOLUME I', 'CHAPTER I', 'Emma Woodhouse , handsome , clever , and rich , with a comfortable home and happy disposition , seemed to unite some of the best blessings of existence ; and had lived nearly twenty - one years in the world with very little to distress or vex her .']\n"
     ]
    }
   ],
   "source": [
    "#reading in the data, this time in the form of paragraphs\n",
    "emma=gutenberg.paras('austen-emma.txt')\n",
    "#processing\n",
    "emma_paras=[]\n",
    "for paragraph in emma:\n",
    "    para=paragraph[0]\n",
    "    #removing the double-dash from all words\n",
    "    para=[re.sub(r'--','',word) for word in para]\n",
    "    #Forming each paragraph into a string and adding it to the list of strings.\n",
    "    emma_paras.append(' '.join(para))\n",
    "\n",
    "print(emma_paras[0:4])"
   ]
  },
  {
   "cell_type": "code",
   "execution_count": 132,
   "metadata": {},
   "outputs": [],
   "source": [
    "stoplist = stopwords.words('english')\n",
    "additional_stopwords = \"\"\"oh ah chapter\"\"\"\n",
    "stoplist += additional_stopwords.split()"
   ]
  },
  {
   "cell_type": "code",
   "execution_count": 133,
   "metadata": {},
   "outputs": [
    {
     "name": "stdout",
     "output_type": "stream",
     "text": [
      "Number of features: 2058\n",
      "Original sentence: A very few minutes more , however , completed the present trial .\n",
      "Tf_idf vector: {'minutes': 0.6006147997775391, 'present': 0.5910741471393728, 'however': 0.5384173240820265}\n"
     ]
    }
   ],
   "source": [
    "X_train, X_test = train_test_split(emma_paras, test_size=0.4, random_state=0)\n",
    "\n",
    "vectorizer = TfidfVectorizer(max_df=0.5, # drop words that occur in more than half the paragraphs\n",
    "                             min_df=2, # only use words that appear at least twice\n",
    "                             stop_words=stoplist, \n",
    "                             lowercase=True, #convert everything to lower case (since Alice in Wonderland has the HABIT of CAPITALIZING WORDS for EMPHASIS)\n",
    "                             use_idf=True,#we definitely want to use inverse document frequencies in our weighting\n",
    "                             norm=u'l2', #Applies a correction factor so that longer paragraphs and shorter paragraphs get treated equally\n",
    "                             smooth_idf=True #Adds 1 to all document frequencies, as if an extra document existed that used every word once.  Prevents divide-by-zero errors\n",
    "                            )\n",
    "\n",
    "\n",
    "#Applying the vectorizer\n",
    "emma_paras_tfidf=vectorizer.fit_transform(emma_paras)\n",
    "print(\"Number of features: %d\" % emma_paras_tfidf.get_shape()[1])\n",
    "\n",
    "#splitting into training and test sets\n",
    "X_train_tfidf, X_test_tfidf= train_test_split(emma_paras_tfidf, test_size=0.4, random_state=0)\n",
    "\n",
    "\n",
    "#Reshapes the vectorizer output into something people can read\n",
    "X_train_tfidf_csr = X_train_tfidf.tocsr()\n",
    "\n",
    "#number of paragraphs\n",
    "n = X_train_tfidf_csr.shape[0]\n",
    "#A list of dictionaries, one per paragraph\n",
    "tfidf_bypara = [{} for _ in range(0,n)]\n",
    "#List of features\n",
    "terms = vectorizer.get_feature_names()\n",
    "#for each paragraph, lists the feature words and their tf-idf scores\n",
    "for i, j in zip(*X_train_tfidf_csr.nonzero()):\n",
    "    tfidf_bypara[i][terms[j]] = X_train_tfidf_csr[i, j]\n",
    "\n",
    "#Keep in mind that the log base 2 of 1 is 0, so a tf-idf score of 0 indicates that the word was present once in that sentence.\n",
    "print('Original sentence:', X_train[5])\n",
    "print('Tf_idf vector:', tfidf_bypara[5])"
   ]
  },
  {
   "cell_type": "code",
   "execution_count": 135,
   "metadata": {},
   "outputs": [
    {
     "name": "stdout",
     "output_type": "stream",
     "text": [
      "Percent variance captured by all components: 42.01548049820076\n",
      "Component 0:\n",
      "\" I do not know what your opinion may be , Mrs . Weston ,\" said Mr . Knightley , \" of this great intimacy between Emma and Harriet Smith , but I think it a bad thing .\"                                                                                                                                                                                                                                                                                                                                                                                                                                                                                                                                                                                                                                                                                                                                                                         0.531976\n",
      "Mrs . Weston was acting no part , feigning no feelings in all that she said to him in favour of the event . She had been extremely surprized , never more so , than when Emma first opened the affair to her ; but she saw in it only increase of happiness to all , and had no scruple in urging him to the utmost . She had such a regard for Mr . Knightley , as to think he deserved even her dearest Emma ; and it was in every respect so proper , suitable , and unexceptionable a connexion , and in one respect , one point of the highest importance , so peculiarly eligible , so singularly fortunate , that now it seemed as if Emma could not safely have attached herself to any other creature , and that she had herself been the stupidest of beings in not having thought of it , and wished it long ago . How very few of those men in a rank of life to address Emma would have renounced their own home for Hartfield !    0.513231\n",
      "\" You are right , Mrs . Weston ,\" said Mr . Knightley warmly , \" Miss Fairfax is as capable as any of us of forming a just opinion of Mrs . Elton .                                                                                                                                                                                                                                                                                                                                                                                                                                                                                                                                                                                                                                                                                                                                                                                              0.511742\n",
      "\" You have made her too tall , Emma ,\" said Mr . Knightley .                                                                                                                                                                                                                                                                                                                                                                                                                                                                                                                                                                                                                                                                                                                                                                                                                                                                                     0.499661\n",
      "\" You get upon delicate subjects , Emma ,\" said Mrs . Weston smiling ; \" remember that I am here . Mr .                                                                                                                                                                                                                                                                                                                                                                                                                                                                                                                                                                                                                                                                                                                                                                                                                                          0.485186\n",
      "\" Emma ,\" said Mr . Knightley presently , \" I have a piece of news for you .                                                                                                                                                                                                                                                                                                                                                                                                                                                                                                                                                                                                                                                                                                                                                                                                                                                                     0.475917\n",
      "This was so very well understood between them , that Emma could not but feel some surprise , and a little displeasure , on hearing from Mr . Weston that he had been proposing to Mrs . Elton , as her brother and sister had failed her , that the two parties should unite , and go together ; and that as Mrs . Elton had very readily acceded to it , so it was to be , if she had no objection .                                                                                                                                                                                                                                                                                                                                                                                                                                                                                                                                            0.473405\n",
      "\" Now ,\" said Emma , when they were fairly beyond the sweep gates , \" now Mr . Weston , do let me know what has happened .\"                                                                                                                                                                                                                                                                                                                                                                                                                                                                                                                                                                                                                                                                                                                                                                                                                      0.469743\n",
      "\" There were misunderstandings between them , Emma ; he said so expressly .                                                                                                                                                                                                                                                                                                                                                                                                                                                                                                                                                                                                                                                                                                                                                                                                                                                                      0.467951\n",
      "The carriage came : and Mr . Woodhouse , always the first object on such occasions , was carefully attended to his own by Mr . Knightley and Mr . Weston ; but not all that either could say could prevent some renewal of alarm at the sight of the snow which had actually fallen , and the discovery of a much darker night than he had been prepared for .                                                                                                                                                                                                                                                                                                                                                                                                                                                                                                                                                                                   0.467331\n",
      "Name: 0, dtype: float64\n",
      "Component 1:\n",
      "\" Indeed !                                                0.962946\n",
      "\" Indeed I will .                                         0.962946\n",
      "\" Indeed !                                                0.962946\n",
      "\" Will he , indeed ?                                      0.962946\n",
      "\" No indeed I have not .                                  0.962946\n",
      "\" Indeed you did .                                        0.962946\n",
      "\" No , indeed I do not .\"                                 0.962946\n",
      "\" Have you indeed no idea ?\"                              0.914301\n",
      "\" Proof indeed !\"                                         0.911654\n",
      "\" No , indeed , I have no doubts at all on that head .    0.793842\n",
      "Name: 1, dtype: float64\n",
      "Component 2:\n",
      "\" There were misunderstandings between them , Emma ; he said so expressly .    0.576963\n",
      "Emma demurred .                                                                0.553294\n",
      "Emma was silenced .                                                            0.539156\n",
      "\" For shame , Emma !                                                           0.516120\n",
      "\" It is not now worth a regret ,\" said Emma .                                  0.513340\n",
      "The speech was more to Emma than to Harriet , which Emma could understand .    0.503130\n",
      "Emma was out of hearing .                                                      0.468861\n",
      "\" I am ready ,\" said Emma , \" whenever I am wanted .\"                          0.451730\n",
      "This wretched note was the finale of Emma ' s breakfast .                      0.445016\n",
      "\" Emma , my dear Emma \"                                                        0.438604\n",
      "Name: 2, dtype: float64\n",
      "Component 3:\n",
      "\" Mr . Knightley was there too , was he ?\"                                                                                                               0.636115\n",
      "\"` Mr .                                                                                                                                                  0.614385\n",
      "\" In one respect , perhaps , Mr . Elton ' s manners are superior to Mr . Knightley ' s or Mr . Weston ' s .                                              0.586104\n",
      "Mr . Knightley grew angry .                                                                                                                              0.534674\n",
      "\" Mr . Knightley ' s air is so remarkably good that it is not fair to compare Mr . Martin with _him_ .                                                   0.504500\n",
      "\" I do not admire it ,\" said Mr . Knightley .                                                                                                            0.454207\n",
      "Mr . John Knightley smiled , and replied ,                                                                                                               0.444916\n",
      "Mr . Woodhouse at last was off ; but Mr . Knightley , instead of being immediately off likewise , sat down again , seemingly inclined for more chat .    0.433380\n",
      "\" But Mr . Knightley does not want to marry .                                                                                                            0.426166\n",
      "Mr . Knightley had done all in his power for Mr . Woodhouse ' s entertainment .                                                                          0.419821\n",
      "Name: 3, dtype: float64\n",
      "Component 4:\n",
      "[ To Mrs .                                                       0.693698\n",
      "Mrs . Elton turned to Mrs . Weston .                             0.675653\n",
      "Mrs . Weston was disappointed .                                  0.652798\n",
      "\" I suspect they do not satisfy Mrs . Weston .                   0.621979\n",
      "\" Mrs . Dixon !                                                  0.577460\n",
      "Mrs . Bates and Mrs . Elton were together .                      0.543896\n",
      "\" How do you do , Mrs . Ford ?                                   0.540654\n",
      "Mrs . Elton was spoken of .                                      0.525273\n",
      "\" Should I send it to Mrs . Goddard ' s , ma ' am ?\"             0.517697\n",
      "Such a conclusion could not pass unanswered by Mrs . Weston .    0.505683\n",
      "Name: 4, dtype: float64\n",
      "Component 5:\n",
      "The misfortune of Harriet ' s cold had been pretty well gone through before her arrival .                                                     0.637338\n",
      "\" Very well .                                                                                                                                 0.553101\n",
      "\" Well !                                                                                                                                      0.553101\n",
      "\" Very well ; I will not plague you any more .                                                                                                0.553101\n",
      "\" Why , pretty well ; but not quite well .                                                                                                    0.522400\n",
      "\" Well , I always shall think that you play quite as well as she does , or that if there is any difference nobody would ever find it out .    0.509843\n",
      "\" Is not she looking well ?\"                                                                                                                  0.505092\n",
      "\" Well ,\" said the still waiting Harriet ;\" well  and  and what shall I do ?\"                                                                 0.477286\n",
      "\" Well , well , I have that note ; and can shew it after dinner to convince Mr .                                                              0.474841\n",
      "\" It is as well , perhaps , that I have not had the possibility .                                                                             0.454425\n",
      "Name: 5, dtype: float64\n",
      "Component 6:\n",
      "\" Yes ,\" said he , smiling .                                        0.735563\n",
      "\" Yes ,\" said his brother hesitatingly , \" there is a likeness .    0.683100\n",
      "\" Yes .\"                                                            0.679039\n",
      "\" Yes , oh !                                                        0.679039\n",
      "\" Yes  I imagined  that is  I did not \"                             0.657787\n",
      "\" Yes , that of course .\"                                           0.619534\n",
      "\" Your command ? Yes .\"                                             0.604084\n",
      "\" Yes  what should hurt me ? I walk fast .                          0.592332\n",
      "\" Yes , I would .                                                   0.589509\n",
      "\" Oh yes ; next week .\"                                             0.558614\n",
      "Name: 6, dtype: float64\n",
      "Component 7:\n",
      "\" Very well ; I will not plague you any more .                                      0.676768\n",
      "\" Very well .                                                                       0.676768\n",
      "\" Well !                                                                            0.676768\n",
      "\" Is not she looking well ?\"                                                        0.613529\n",
      "\" Why , pretty well ; but not quite well .                                          0.598243\n",
      "\" Well , well , I have that note ; and can shew it after dinner to convince Mr .    0.586737\n",
      "\" Are you well , my Emma ?\"                                                         0.566060\n",
      "\" It is as well , perhaps , that I have not had the possibility .                   0.554978\n",
      "In general , it was a very well approved match .                                    0.507606\n",
      "\" It is certainly very well regulated .\"                                            0.470944\n",
      "Name: 7, dtype: float64\n",
      "Component 8:\n",
      "\" Dear me !                                                                                                0.469120\n",
      "\" Dear me !                                                                                                0.469120\n",
      "\" Emma , my dear Emma \"                                                                                    0.464174\n",
      "\" My dear Jane , say no more about it .                                                                    0.461042\n",
      "\" My dear madam !                                                                                          0.457431\n",
      "\" I have the greatest pleasure , my dear Emma , in forwarding to you the enclosed .                        0.436230\n",
      "\" Yes , oh !                                                                                               0.434998\n",
      "\" Yes .\"                                                                                                   0.434998\n",
      "\" Yes , my dear , if there is time . But ( in a very depressed tone ) she is coming for only one week .    0.434731\n",
      "\" Yes  I imagined  that is  I did not \"                                                                    0.423716\n",
      "Name: 8, dtype: float64\n",
      "Component 9:\n",
      "\" Dear me !                                                                                               0.681349\n",
      "\" Dear me !                                                                                               0.681349\n",
      "\" My dear , you are too particular ,\" said her husband .                                                  0.667476\n",
      "\" My dear madam !                                                                                         0.666922\n",
      "\" My poor dear Harriet !                                                                                  0.565814\n",
      "\" What is it my dear friend ?                                                                             0.528051\n",
      "\" If you please , my dear .                                                                               0.519427\n",
      "\" Thank you , dear Miss Woodhouse .                                                                       0.462031\n",
      "\" But it is never safe to sit out of doors , my dear .\"                                                   0.461144\n",
      "\" In that respect how unlike dear Mrs . Elton , who wants to be wiser and wittier than all the world !    0.419317\n",
      "Name: 9, dtype: float64\n",
      "Component 10:\n",
      "\" No , not now , I thank you .                                                                                                                                 0.791090\n",
      "\" No , I thank you .                                                                                                                                           0.791090\n",
      "\" Thank you .                                                                                                                                                  0.791090\n",
      "\" Thank you .                                                                                                                                                  0.791090\n",
      "\" Thank you .                                                                                                                                                  0.791090\n",
      "\" Thank you , thank you . This is just what I wanted to be assured of . Oh !                                                                                   0.788558\n",
      "\" Thank you , thank you , my own sweet little friend .                                                                                                         0.691050\n",
      "\" I have not the least wish for it , I thank you .\"                                                                                                            0.668735\n",
      "\" Thank you , thank you  but on no account . I would rather walk . And for _me_ to be afraid of walking alone ! I , who may so soon have to guard others !\"    0.648669\n",
      "\" How d ' ye do ? how d ' ye do ? Very well , I thank you .                                                                                                    0.639997\n",
      "Name: 10, dtype: float64\n",
      "Component 11:\n",
      "\" Yes , very true .                                                                     0.505871\n",
      "\" True .                                                                                0.477192\n",
      "This was too true for contradiction .                                                   0.472319\n",
      "\" Very true , Mr . Weston , perfectly true .                                            0.467375\n",
      "\" Very true ,\" said Harriet .                                                           0.458303\n",
      "\" True , true ,\" cried Mr . Knightley , with most ready interposition  \" very true .    0.444493\n",
      "\" True , true ,\" he answered , warmly .                                                 0.444109\n",
      "\" Very true , very true , indeed .                                                      0.441239\n",
      "\" Very true , Miss Woodhouse , so she will .                                            0.409800\n",
      "\" Such an eye ! the true hazle eye  and so brilliant !                                  0.384651\n",
      "Name: 11, dtype: float64\n",
      "Component 12:\n",
      "\" I dare say they are , sir .                                                   0.469623\n",
      "\" I dare say your apologies were accepted , sir .                               0.460409\n",
      "\" No , I thank you .                                                            0.453889\n",
      "\" Thank you .                                                                   0.453889\n",
      "\" Thank you .                                                                   0.453889\n",
      "\" No , not now , I thank you .                                                  0.453889\n",
      "\" Thank you .                                                                   0.453889\n",
      "\" Thank you , thank you . This is just what I wanted to be assured of . Oh !    0.453376\n",
      "\" Thank you , thank you , my own sweet little friend .                          0.419787\n",
      "\" I dare say she had .\"                                                         0.381150\n",
      "Name: 12, dtype: float64\n",
      "Component 13:\n",
      "\" True .                                                                                0.593126\n",
      "This was too true for contradiction .                                                   0.590878\n",
      "\" True , true ,\" he answered , warmly .                                                 0.572248\n",
      "\" True , true ,\" cried Mr . Knightley , with most ready interposition  \" very true .    0.560700\n",
      "\" Very true , Mr . Weston , perfectly true .                                            0.560192\n",
      "\" Very true , very true , indeed .                                                      0.515296\n",
      "\" Such an eye ! the true hazle eye  and so brilliant !                                  0.499405\n",
      "\" Aye , very true .                                                                     0.482159\n",
      "\" Very true ,\" he gravely replied ; \" it was very bad .\"                                0.482080\n",
      "\" True , sir ; and Emma , because she had Miss Fairfax .\"                               0.473849\n",
      "Name: 13, dtype: float64\n",
      "Component 14:\n",
      "\" About Jane Fairfax .                                                                                       0.559119\n",
      "\" Poor Jane Fairfax !\"                                                                                       0.487039\n",
      "\" That sweet , amiable Jane Fairfax !\"                                                                       0.461850\n",
      "\" Jane Fairfax ! Good God !                                                                                  0.450252\n",
      "It was not to oblige Jane Fairfax therefore that he would have preferred the society of William Larkins .    0.443779\n",
      "[ Emma by Jane Austen 1816 ]                                                                                 0.441373\n",
      "\" True .                                                                                                     0.430115\n",
      "Mrs . Elton took a great fancy to Jane Fairfax ; and from the first .                                        0.429984\n",
      "This was too true for contradiction .                                                                        0.429581\n",
      "\" True , true ,\" he answered , warmly .                                                                      0.429311\n",
      "Name: 14, dtype: float64\n",
      "Component 15:\n",
      "\" If so , you must extend your suspicions and comprehend _Mr_ .                                                                                                                                                                                                                                                                                                                   0.659551\n",
      "\" These are difficulties which you must settle for yourself .                                                                                                                                                                                                                                                                                                                     0.633163\n",
      "A young lady who faints , must be recovered ; questions must be answered , and surprizes be explained .                                                                                                                                                                                                                                                                           0.519816\n",
      "\" And you must be off this very morning ?\"                                                                                                                                                                                                                                                                                                                                        0.497239\n",
      "\" You must make my apologies to your friend ; but so good a charade must not be confined to one or two .                                                                                                                                                                                                                                                                          0.497118\n",
      "\" But you must have found it very damp and dirty .                                                                                                                                                                                                                                                                                                                                0.496979\n",
      "Harriet , necessarily drawn away by her engagements with the Martins , was less and less at Hartfield ; which was not to be regretted . The intimacy between her and Emma must sink ; their friendship must change into a calmer sort of goodwill ; and , fortunately , what ought to be , and must be , seemed already beginning , and in the most gradual , natural manner .    0.492981\n",
      "\" Emma , I must once more speak to you as I have been used to do : a privilege rather endured than allowed , perhaps , but I must still use it .                                                                                                                                                                                                                                  0.474871\n",
      "\" And now that I understand your question , I must pronounce it to be a very unfair one .                                                                                                                                                                                                                                                                                         0.450641\n",
      "Mr . Weston , on his side , added a virtue to the account which must have some weight .                                                                                                                                                                                                                                                                                           0.445184\n",
      "Name: 15, dtype: float64\n",
      "Component 16:\n",
      "\" Not at all , sir .                                                                                                                                   0.558570\n",
      "\" Both sir !                                                                                                                                           0.558570\n",
      "\" From the very circumstance of its being larger , sir .                                                                                               0.545891\n",
      "\" Dirty , sir !                                                                                                                                        0.541232\n",
      "\" I admired your resolution very much , sir ,\" said he , \" in venturing out in such weather , for of course you saw there would be snow very soon .    0.512987\n",
      "\" I perfectly agree with you , sir ,\" was then his remark .                                                                                            0.483557\n",
      "\" But , my dear sir , the difference of the journey ; only consider how great it would have been . An hundred miles , perhaps , instead of forty .\"    0.453239\n",
      "\" You cannot do better , sir .\"                                                                                                                        0.441549\n",
      "\" No , sir ,\" cried Emma , \" it confesses no such thing .                                                                                              0.430058\n",
      "\" But , unfortunately , sir , my time is so limited \"                                                                                                  0.412256\n",
      "Name: 16, dtype: float64\n",
      "Component 17:\n",
      "Mr . Elton must now be left to himself .                                                                     0.519325\n",
      "\" I do own myself to have been completely mistaken in Mr . Elton .                                           0.431856\n",
      "\" Has he so ! Then I know nothing of Mr . Elton .                                                            0.414235\n",
      "Mr . Elton certainly did not very well know what to say .                                                    0.388019\n",
      "\" If it were admissible to contradict a lady ,\" said the gallant Mr . Elton                                  0.382933\n",
      "Emma knew that she had , but would not own it ; and Mr . Elton warmly added ,                                0.381118\n",
      "But Mr . Elton had only drunk wine enough to elevate his spirits , not at all to confuse his intellects .    0.350117\n",
      "Mrs . Elton was spoken of .                                                                                  0.349411\n",
      "\" I am very much astonished , Mr . Elton .                                                                   0.347907\n",
      "The mention of the Coles was sure to be followed by that of Mr . Elton .                                     0.337560\n",
      "Name: 17, dtype: float64\n",
      "Component 18:\n",
      "\" That I am sure you would .                                                                                                                                                                                             0.490697\n",
      "\" You would not have encouraged me , then , if you had understood me ?                                                                                                                                                   0.412857\n",
      "\" No , my dear , I never encouraged any body to marry , but I would always wish to pay every proper attention to a lady  and a bride , especially , is never to be neglected .                                           0.382178\n",
      "\" Then it would not be so strong a sense .                                                                                                                                                                               0.378012\n",
      "\" Something that would do !\"                                                                                                                                                                                             0.370045\n",
      "She comforted her father better than she could comfort herself , by representing that though he certainly would make them nine , yet he always said so little , that the increase of noise would be very immaterial .    0.369544\n",
      "She would not look again .                                                                                                                                                                                               0.368202\n",
      "\" And I am sure I should never want to go there ; for I am never happy but at Hartfield .\"                                                                                                                               0.358696\n",
      "He had hoped she would speak again , but she did not .                                                                                                                                                                   0.349736\n",
      "\" If he would be so good as to read to them , it would be a kindness indeed !                                                                                                                                            0.322743\n",
      "Name: 18, dtype: float64\n",
      "Component 19:\n",
      "\" Knightley !\"                                                                                                                                                          0.451574\n",
      "\" No  Mrs . Knightley ; and till she is in being , I will manage such matters myself .\"                                                                                 0.389192\n",
      "\" That I am sure you would .                                                                                                                                            0.374622\n",
      "\" He promised to come to me as soon as he could disengage himself from Knightley ; but he and Knightley are shut up together in deep consultation . Mr .                0.365896\n",
      "\" When I got to Donwell ,\" said he , \" Knightley could not be found .                                                                                                   0.351989\n",
      "\" Mrs . John Knightley is easily alarmed , and might be made unhappy about her sister .\"                                                                                0.317748\n",
      "After a few minutes of entire silence between them , John Knightley began with                                                                                          0.313808\n",
      "Mr . and Mrs . John Knightley were not detained long at Hartfield .                                                                                                     0.291317\n",
      "And not all that could be urged to detain her succeeded .                                                                                                               0.288913\n",
      "\" He appears rough to you ,\" said Emma , \" because you are so very gentle yourself ; but if you could compare him with other papas , you would not think him rough .    0.288132\n",
      "Name: 19, dtype: float64\n"
     ]
    }
   ],
   "source": [
    "#Our SVD data reducer.  We are going to reduce the feature space from 1379 to 130.\n",
    "svd= TruncatedSVD(130)\n",
    "lsa = make_pipeline(svd, Normalizer(copy=False))\n",
    "# Run SVD on the training data, then project the training data.\n",
    "X_train_lsa = lsa.fit_transform(X_train_tfidf)\n",
    "\n",
    "variance_explained=svd.explained_variance_ratio_\n",
    "total_variance = variance_explained.sum()\n",
    "print(\"Percent variance captured by all components:\",total_variance*100)\n",
    "\n",
    "#Looking at what sorts of paragraphs our solution considers similar, for the first five identified topics\n",
    "paras_by_component=pd.DataFrame(X_train_lsa,index=X_train)\n",
    "for i in range(20):\n",
    "    print('Component {}:'.format(i))\n",
    "    print(paras_by_component.loc[:,i].sort_values(ascending=False)[0:10])\n",
    "\n",
    "\n"
   ]
  },
  {
   "cell_type": "markdown",
   "metadata": {},
   "source": [
    "Many of these topics seemed to grouped by a common word such as \"indeed\", \"true\", or \"yes\". However, Component 2 seems to directly correlate to our hope that some feminist topics might be extracted."
   ]
  },
  {
   "cell_type": "code",
   "execution_count": 136,
   "metadata": {},
   "outputs": [
    {
     "data": {
      "image/png": "[encoded data removed]",
      "text/plain": [
       "<Figure size 432x288 with 2 Axes>"
      ]
     },
     "metadata": {
      "needs_background": "light"
     },
     "output_type": "display_data"
    },
    {
     "name": "stdout",
     "output_type": "stream",
     "text": [
      "Key:\n",
      "0 That is _court_ .\n",
      "1 \" Yes , sir , I did indeed ; and I am very much obliged by your kind solicitude about me .\"\n",
      "2 \" How much his business engrosses him already is very plain from the circumstance of his forgetting to inquire for the book you recommended .\n",
      "3 To restrain him as much as might be , by her own manners , she was immediately preparing to speak with exquisite calmness and gravity of the weather and the night ; but scarcely had she begun , scarcely had they passed the sweep - gate and joined the other carriage , than she found her subject cut up  her hand seized  her attention demanded , and Mr . Elton actually making violent love to her : availing himself of the precious opportunity , declaring sentiments which must be already well known , hoping  fearing  adoring  ready to die if she refused him ; but flattering himself that his ardent attachment and unequalled love and unexampled passion could not fail of having some effect , and in short , very much resolved on being seriously accepted as soon as possible .\n",
      "4 Emma smiled and answered \" My visit was of use to the nervous part of her complaint , I hope ; but not even I can charm away a sore throat ; it is a most severe cold indeed .\n",
      "5 A very few minutes more , however , completed the present trial .\n",
      "6 \" I am delighted to hear you speak so stoutly on the subject ,\" replied Emma , smiling ; \" but you do not mean to deny that there was a time  and not very distant either  when you gave me reason to understand that you did care about him ?\"\n",
      "7 \" Very well ; and if he had intended to give her one , he would have told her so .\"\n",
      "8 Some laughed , and answered good - humouredly .\n",
      "9 \" There appeared such a perfectly good understanding among them all \" he began rather quickly , but checking himself , added , \" however , it is impossible for me to say on what terms they really were  how it might all be behind the scenes .\n",
      "10 \" And when she had come away , Mrs . Martin was so very kind as to send Mrs . Goddard a beautiful goose  the finest goose Mrs . Goddard had ever seen .\n",
      "11 \" I am afraid ,\" said he , composing his features , \" I am very much afraid , my dear Emma , that you will not smile when you hear it .\"\n",
      "12 Mr . Weston , with triumph of a different sort , was confessing that he had known it to be snowing some time , but had not said a word , lest it should make Mr . Woodhouse uncomfortable , and be an excuse for his hurrying away .\n",
      "13 All this spoken extremely fast obliged Miss Bates to stop for breath ; and Emma said something very civil about the excellence of Miss Fairfax ' s handwriting .\n",
      "14 \" He knew nothing about it , Emma .\n",
      "15 \" Oh !\n",
      "16 He had time only to say ,\n",
      "17 \" Oh !\n",
      "18 \" Nonsense !\n",
      "19 \" I can never think of it ,\" she cried , \" without extreme shame .\"\n"
     ]
    }
   ],
   "source": [
    "# Compute document similarity using LSA components\n",
    "similarity = np.asarray(np.asmatrix(X_train_lsa) * np.asmatrix(X_train_lsa).T)\n",
    "#Only taking the first 10 sentences\n",
    "sim_matrix=pd.DataFrame(similarity,index=X_train).iloc[0:20,0:20]\n",
    "#Making a plot\n",
    "ax = sns.heatmap(sim_matrix,yticklabels=range(20))\n",
    "plt.show()\n",
    "\n",
    "#Generating a key for the plot.\n",
    "print('Key:')\n",
    "for i in range(20):\n",
    "    print(i,sim_matrix.index[i])\n"
   ]
  },
  {
   "cell_type": "markdown",
   "metadata": {},
   "source": [
    "## Sense & Sensibility"
   ]
  },
  {
   "cell_type": "code",
   "execution_count": 137,
   "metadata": {},
   "outputs": [
    {
     "name": "stdout",
     "output_type": "stream",
     "text": [
      "['[ Sense and Sensibility by Jane Austen 1811 ]', 'CHAPTER 1', 'The family of Dashwood had long been settled in Sussex .', 'By a former marriage , Mr . Henry Dashwood had one son : by his present lady , three daughters .']\n"
     ]
    }
   ],
   "source": [
    "#reading in the data, this time in the form of paragraphs\n",
    "sense2=gutenberg.paras('austen-sense.txt')\n",
    "#processing\n",
    "sense_paras=[]\n",
    "for paragraph in sense2:\n",
    "    para=paragraph[0]\n",
    "    #removing the double-dash from all words\n",
    "    para=[re.sub(r'--','',word) for word in para]\n",
    "    #Forming each paragraph into a string and adding it to the list of strings.\n",
    "    sense_paras.append(' '.join(para))\n",
    "\n",
    "print(sense_paras[0:4])"
   ]
  },
  {
   "cell_type": "code",
   "execution_count": 138,
   "metadata": {},
   "outputs": [
    {
     "name": "stdout",
     "output_type": "stream",
     "text": [
      "Number of features: 2051\n",
      "Original sentence: \" Nay , Edward ,\" said Marianne , \" you need not reproach me .\n",
      "Tf_idf vector: {'reproach': 0.5129885711936102, 'nay': 0.524999072102738, 'edward': 0.2997985561865538, 'said': 0.23409196183287145, 'need': 0.5129885711936102, 'marianne': 0.23104805788934007}\n"
     ]
    }
   ],
   "source": [
    "X_train2, X_test2 = train_test_split(sense_paras, test_size=0.4, random_state=0)\n",
    "\n",
    "vectorizer = TfidfVectorizer(max_df=0.5, # drop words that occur in more than half the paragraphs\n",
    "                             min_df=2, # only use words that appear at least twice\n",
    "                             stop_words=stoplist, \n",
    "                             lowercase=True, #convert everything to lower case (since Alice in Wonderland has the HABIT of CAPITALIZING WORDS for EMPHASIS)\n",
    "                             use_idf=True,#we definitely want to use inverse document frequencies in our weighting\n",
    "                             norm=u'l2', #Applies a correction factor so that longer paragraphs and shorter paragraphs get treated equally\n",
    "                             smooth_idf=True #Adds 1 to all document frequencies, as if an extra document existed that used every word once.  Prevents divide-by-zero errors\n",
    "                            )\n",
    "\n",
    "\n",
    "#Applying the vectorizer\n",
    "sense_paras_tfidf=vectorizer.fit_transform(sense_paras)\n",
    "print(\"Number of features: %d\" % sense_paras_tfidf.get_shape()[1])\n",
    "\n",
    "#splitting into training and test sets\n",
    "X_train_tfidf2, X_test_tfidf2= train_test_split(sense_paras_tfidf, test_size=0.4, random_state=0)\n",
    "\n",
    "\n",
    "#Reshapes the vectorizer output into something people can read\n",
    "X_train_tfidf_csr2 = X_train_tfidf2.tocsr()\n",
    "\n",
    "#number of paragraphs\n",
    "n = X_train_tfidf_csr2.shape[0]\n",
    "#A list of dictionaries, one per paragraph\n",
    "tfidf_bypara2 = [{} for _ in range(0,n)]\n",
    "#List of features\n",
    "terms = vectorizer.get_feature_names()\n",
    "#for each paragraph, lists the feature words and their tf-idf scores\n",
    "for i, j in zip(*X_train_tfidf_csr2.nonzero()):\n",
    "    tfidf_bypara2[i][terms[j]] = X_train_tfidf_csr2[i, j]\n",
    "\n",
    "#Keep in mind that the log base 2 of 1 is 0, so a tf-idf score of 0 indicates that the word was present once in that sentence.\n",
    "print('Original sentence:', X_train2[5])\n",
    "print('Tf_idf vector:', tfidf_bypara2[5])"
   ]
  },
  {
   "cell_type": "code",
   "execution_count": 139,
   "metadata": {},
   "outputs": [
    {
     "name": "stdout",
     "output_type": "stream",
     "text": [
      "Percent variance captured by all components: 42.01548049820076\n",
      "Component 0:\n",
      "\" Marianne has not shyness to excuse any inattention of hers ,\" said Elinor .                                                                                                                                                                                                                                                                                                                                                                                                                                                                                                                                                                                                                                                                                                                                                                                                        0.531888\n",
      "Elinor said no more .                                                                                                                                                                                                                                                                                                                                                                                                                                                                                                                                                                                                                                                                                                                                                                                                                                                                0.512580\n",
      "Mrs . Jennings repeated her assurance that Mrs . Dashwood could spare them perfectly well ; and Elinor , who now understood her sister , and saw to what indifference to almost every thing else she was carried by her eagerness to be with Willoughby again , made no farther direct opposition to the plan , and merely referred it to her mother ' s decision , from whom however she scarcely expected to receive any support in her endeavour to prevent a visit , which she could not approve of for Marianne , and which on her own account she had particular reasons to avoid .                                                                                                                                                                                                                                                                                            0.460137\n",
      "\" Well , sir , and what said Mrs .                                                                                                                                                                                                                                                                                                                                                                                                                                                                                                                                                                                                                                                                                                                                                                                                                                                   0.445189\n",
      "\" Well , sir ,\" said Mrs . Jennings , \" and how did it end ?\"                                                                                                                                                                                                                                                                                                                                                                                                                                                                                                                                                                                                                                                                                                                                                                                                                        0.437115\n",
      "\" Well ,\" said Elinor , \" it is a comfort to be prepared against the worst .                                                                                                                                                                                                                                                                                                                                                                                                                                                                                                                                                                                                                                                                                                                                                                                                         0.435061\n",
      "\" You know him then ,\" said Mrs . Dashwood .                                                                                                                                                                                                                                                                                                                                                                                                                                                                                                                                                                                                                                                                                                                                                                                                                                         0.429458\n",
      "Of Edward , or at least of some of his concerns , she now received intelligence from Colonel Brandon , who had been into Dorsetshire lately ; and who , treating her at once as the disinterested friend of Mr . Ferrars , and the kind of confidant of himself , talked to her a great deal of the parsonage at Delaford , described its deficiencies , and told her what he meant to do himself towards removing them . His behaviour to her in this , as well as in every other particular , his open pleasure in meeting her after an absence of only ten days , his readiness to converse with her , and his deference for her opinion , might very well justify Mrs . Jennings ' s persuasion of his attachment , and would have been enough , perhaps , had not Elinor still , as from the first , believed Marianne his real favourite , to make her suspect it herself .    0.429391\n",
      "\" I meant ,\" said Elinor , taking up some work from the table , \" to inquire for Mrs . EDWARD Ferrars .\"                                                                                                                                                                                                                                                                                                                                                                                                                                                                                                                                                                                                                                                                                                                                                                             0.421528\n",
      "\" Marianne is as steadfast as ever , you see ,\" said Elinor , \" she is not at all altered .\"                                                                                                                                                                                                                                                                                                                                                                                                                                                                                                                                                                                                                                                                                                                                                                                         0.415408\n",
      "Name: 0, dtype: float64\n",
      "Component 1:\n",
      "\" No , indeed , it is not .\"                      0.967575\n",
      "\" A mighty concession indeed !                    0.967575\n",
      "\" Can you , indeed !\"                             0.967575\n",
      "\" Did he indeed ?\"                                0.967575\n",
      "\" Indeed !\"                                       0.967575\n",
      "\" What , indeed , ma ' am !                       0.967575\n",
      "\" Beautifully indeed !                            0.963315\n",
      "\" Excellent indeed .                              0.949633\n",
      "\" It is he ; it is indeed ; I know it is !\"       0.772246\n",
      "\" But , indeed , Elinor , it is Marianne ' s .    0.767798\n",
      "Name: 1, dtype: float64\n",
      "Component 2:\n",
      "\" Yes .                                                                                                       0.960938\n",
      "\" Yes , ma ' am .                                                                                             0.960938\n",
      "\" Yes .                                                                                                       0.960938\n",
      "\" Yes , very .\"                                                                                               0.960938\n",
      "\" Yes .\"                                                                                                      0.960938\n",
      "\" Yes , yes , THAT in particular .                                                                            0.955359\n",
      "\" Yes ; and he was up again at eight to ride to covert .\"                                                     0.894411\n",
      "\" Yes , yes , we can guess where he is ; at his own house at Norland to be sure .                             0.846891\n",
      "\" Yes ; Mr . Pratt .                                                                                          0.762910\n",
      "\" Yes , but I had only the credit of servilely copying such sentences as I was ashamed to put my name to .    0.755912\n",
      "Name: 2, dtype: float64\n",
      "Component 3:\n",
      "\" My dear Mrs .                                                                         0.814477\n",
      "\" Oh dear !\"                                                                            0.780689\n",
      "\" Her guardians , my dear .                                                             0.780689\n",
      "\" How do you do my dear ?\"                                                              0.780689\n",
      "\" DEAR SIR ,                                                                            0.765838\n",
      "\" Ay , my dear , I ' ll warrant you we do .                                             0.757158\n",
      "\" Law , my dear !                                                                       0.738677\n",
      "\" Dear , dear Elinor , don ' t mind them .                                              0.644457\n",
      "\" Well , my dear ,\" said Mrs . Jennings , \" and how did you travel ?\"                   0.642464\n",
      "\" My dear ,\" said he to his lady , \" it is very provoking that we should be so few .    0.595304\n",
      "Name: 3, dtype: float64\n",
      "Component 4:\n",
      "Elinor said no more .                                                                                        0.546795\n",
      "\" Dear , dear Elinor , don ' t mind them .                                                                   0.503610\n",
      "\" Dear , dear Norland ,\" said Elinor , \" probably looks much as it always does at this time of the year .    0.476349\n",
      "\" Oh , Elinor !\"                                                                                             0.462749\n",
      "\" Marianne has not shyness to excuse any inattention of hers ,\" said Elinor .                                0.460928\n",
      "Elinor laughed .                                                                                             0.446270\n",
      "\" Her guardians , my dear .                                                                                  0.427729\n",
      "\" How do you do my dear ?\"                                                                                   0.427729\n",
      "\" Oh dear !\"                                                                                                 0.427729\n",
      "Elinor blushed in spite of herself .                                                                         0.419565\n",
      "Name: 4, dtype: float64\n"
     ]
    }
   ],
   "source": [
    "svd2= TruncatedSVD(130)\n",
    "lsa2 = make_pipeline(svd2, Normalizer(copy=False))\n",
    "# Run SVD on the training data, then project the training data.\n",
    "X_train_lsa2 = lsa2.fit_transform(X_train_tfidf2)\n",
    "\n",
    "variance_explained2=svd2.explained_variance_ratio_\n",
    "total_variance2 = variance_explained2.sum()\n",
    "print(\"Percent variance captured by all components:\",total_variance*100)\n",
    "\n",
    "#Looking at what sorts of paragraphs our solution considers similar, for the first five identified topics\n",
    "paras_by_component2=pd.DataFrame(X_train_lsa2,index=X_train2)\n",
    "for i in range(5):\n",
    "    print('Component {}:'.format(i))\n",
    "    print(paras_by_component2.loc[:,i].sort_values(ascending=False)[0:10])\n",
    "\n"
   ]
  },
  {
   "cell_type": "code",
   "execution_count": 372,
   "metadata": {},
   "outputs": [
    {
     "data": {
      "image/png": "[encoded data removed]",
      "text/plain": [
       "<Figure size 432x288 with 2 Axes>"
      ]
     },
     "metadata": {
      "needs_background": "light"
     },
     "output_type": "display_data"
    },
    {
     "name": "stdout",
     "output_type": "stream",
     "text": [
      "Key:\n",
      "0 She paused . Her daughter could not quite agree with her , but her dissent was not heard , and therefore gave no offence .\n",
      "1 Elinor DID think the question a very odd one , and her countenance expressed it , as she answered that she had never seen Mrs . Ferrars .\n",
      "2 \" I am extremely glad to hear it , upon my word ; extremely glad indeed .\n",
      "3 How soon he had walked himself into the proper resolution , however , how soon an opportunity of exercising it occurred , in what manner he expressed himself , and how he was received , need not be particularly told .\n",
      "4 \" He WOULD have told me so , I doubt not , had I made any such inquiries , but they happened to be points on which I had been previously informed .\"\n",
      "5 \" Nay , Edward ,\" said Marianne , \" you need not reproach me .\n",
      "6 Their man - servant had been sent one morning to Exeter on business ; and when , as he waited at table , he had satisfied the inquiries of his mistress as to the event of his errand , this was his voluntary communication \n",
      "7 \" Did he come from your uncle ' s , then , when he visited us ?\"\n",
      "8 \" I am so glad to see you !\"\n",
      "9 \" Four months ! and yet you loved him !\"\n",
      "10 The contempt which she had , very early in their acquaintance , felt for her daughter - in - law , was very much increased by the farther knowledge of her character , which half a year ' s residence in her family afforded ; and perhaps in spite of every consideration of politeness or maternal affection on the side of the former , the two ladies might have found it impossible to have lived together so long , had not a particular circumstance occurred to give still greater eligibility , according to the opinions of Mrs . Dashwood , to her daughters ' continuance at Norland .\n",
      "11 \" Our situations have borne little resemblance .\"\n",
      "12 \" Oh , la !\n",
      "13 \" Yet I hardly know how ,\" cried Marianne , \" unless it had been under totally different circumstances .\n",
      "14 \" No ,\" replied Elinor , most feelingly sensible of every fresh circumstance in favour of Lucy ' s veracity ; \" I remember he told us , that he had been staying a fortnight with some friends near Plymouth .\"\n",
      "15 Another pause ensued ; Marianne was greatly agitated , and it ended thus .\n",
      "16 \" And his manners , the Colonel ' s manners are not only more pleasing to me than Willoughby ' s ever were , but they are of a kind I well know to be more solidly attaching to Marianne .\n",
      "17 \" So my daughter Middleton told me , for it seems Sir John met him somewhere in the street this morning .\"\n",
      "18 Elinor flattered herself that some one of their connections in London would write to them to announce the event , and give farther particulars , but day after day passed off , and brought no letter , no tidings .\n",
      "19 \" I am , dear Madam , \" Your most obedient \" humble servant , \" JOHN WILLOUGHBY .\"\n"
     ]
    }
   ],
   "source": [
    "# Compute document similarity using LSA components\n",
    "similarity2 = np.asarray(np.asmatrix(X_train_lsa2) * np.asmatrix(X_train_lsa2).T)\n",
    "#Only taking the first 10 sentences\n",
    "sim_matrix2=pd.DataFrame(similarity2,index=X_train2).iloc[0:20,0:20]\n",
    "#Making a plot\n",
    "ax = sns.heatmap(sim_matrix2,yticklabels=range(20))\n",
    "plt.show()\n",
    "\n",
    "#Generating a key for the plot.\n",
    "print('Key:')\n",
    "for i in range(20):\n",
    "    print(i,sim_matrix2.index[i])"
   ]
  },
  {
   "cell_type": "markdown",
   "metadata": {},
   "source": [
    "## Persuasion"
   ]
  },
  {
   "cell_type": "code",
   "execution_count": 141,
   "metadata": {},
   "outputs": [
    {
     "name": "stdout",
     "output_type": "stream",
     "text": [
      "['[ Persuasion by Jane Austen 1818 ]', 'Chapter 1', 'Sir Walter Elliot , of Kellynch Hall , in Somersetshire , was a man who , for his own amusement , never took up any book but the Baronetage ; there he found occupation for an idle hour , and consolation in a distressed one ; there his faculties were roused into admiration and respect , by contemplating the limited remnant of the earliest patents ; there any unwelcome sensations , arising from domestic affairs changed naturally into pity and contempt as he turned over the almost endless creations of the last century ; and there , if every other leaf were powerless , he could read his own history with an interest which never failed .', '\" ELLIOT OF KELLYNCH HALL .']\n"
     ]
    }
   ],
   "source": [
    "#reading in the data, this time in the form of paragraphs\n",
    "persuasion2=gutenberg.paras('austen-persuasion.txt')\n",
    "#processing\n",
    "persuasion_paras=[]\n",
    "for paragraph in persuasion2:\n",
    "    para=paragraph[0]\n",
    "    #removing the double-dash from all words\n",
    "    para=[re.sub(r'--','',word) for word in para]\n",
    "    #Forming each paragraph into a string and adding it to the list of strings.\n",
    "    persuasion_paras.append(' '.join(para))\n",
    "\n",
    "print(persuasion_paras[0:4])"
   ]
  },
  {
   "cell_type": "code",
   "execution_count": 142,
   "metadata": {},
   "outputs": [
    {
     "name": "stdout",
     "output_type": "stream",
     "text": [
      "Number of features: 1330\n",
      "Original sentence: \" My expressions startle you .\n",
      "Tf_idf vector: {'expressions': 1.0}\n"
     ]
    }
   ],
   "source": [
    "X_train3, X_test3 = train_test_split(persuasion_paras, test_size=0.4, random_state=0)\n",
    "\n",
    "vectorizer = TfidfVectorizer(max_df=0.5, # drop words that occur in more than half the paragraphs\n",
    "                             min_df=2, # only use words that appear at least twice\n",
    "                             stop_words=stoplist, \n",
    "                             lowercase=True, #convert everything to lower case (since Alice in Wonderland has the HABIT of CAPITALIZING WORDS for EMPHASIS)\n",
    "                             use_idf=True,#we definitely want to use inverse document frequencies in our weighting\n",
    "                             norm=u'l2', #Applies a correction factor so that longer paragraphs and shorter paragraphs get treated equally\n",
    "                             smooth_idf=True #Adds 1 to all document frequencies, as if an extra document existed that used every word once.  Prevents divide-by-zero errors\n",
    "                            )\n",
    "\n",
    "\n",
    "#Applying the vectorizer\n",
    "persuasion_paras_tfidf=vectorizer.fit_transform(persuasion_paras)\n",
    "print(\"Number of features: %d\" % persuasion_paras_tfidf.get_shape()[1])\n",
    "\n",
    "#splitting into training and test sets\n",
    "X_train_tfidf3, X_test_tfidf3= train_test_split(persuasion_paras_tfidf, test_size=0.4, random_state=0)\n",
    "\n",
    "\n",
    "#Reshapes the vectorizer output into something people can read\n",
    "X_train_tfidf_csr3 = X_train_tfidf3.tocsr()\n",
    "\n",
    "#number of paragraphs\n",
    "n = X_train_tfidf_csr3.shape[0]\n",
    "#A list of dictionaries, one per paragraph\n",
    "tfidf_bypara3 = [{} for _ in range(0,n)]\n",
    "#List of features\n",
    "terms = vectorizer.get_feature_names()\n",
    "#for each paragraph, lists the feature words and their tf-idf scores\n",
    "for i, j in zip(*X_train_tfidf_csr3.nonzero()):\n",
    "    tfidf_bypara3[i][terms[j]] = X_train_tfidf_csr3[i, j]\n",
    "\n",
    "#Keep in mind that the log base 2 of 1 is 0, so a tf-idf score of 0 indicates that the word was present once in that sentence.\n",
    "print('Original sentence:', X_train3[5])\n",
    "print('Tf_idf vector:', tfidf_bypara3[5])"
   ]
  },
  {
   "cell_type": "code",
   "execution_count": 143,
   "metadata": {},
   "outputs": [
    {
     "name": "stdout",
     "output_type": "stream",
     "text": [
      "Percent variance captured by all components: 42.01548049820076\n",
      "Component 0:\n",
      "From this time Captain Wentworth and Anne Elliot were repeatedly in the same circle .                                                                                                                                                                                                                                                                                                                                                                                                                                                                                                                                                                                                        0.453407\n",
      "This was an opportunity which Anne could not resist ; she said , therefore , \" I hope , Admiral , I hope there is nothing in the style of Captain Wentworth ' s letter to make you and Mrs Croft particularly uneasy .                                                                                                                                                                                                                                                                                                                                                                                                                                                                       0.441319\n",
      "\" Captain Wentworth is not very gallant by you , Anne , though he was so attentive to me .                                                                                                                                                                                                                                                                                                                                                                                                                                                                                                                                                                                                   0.416441\n",
      "\" So do I , Anne ,\" said Charles .                                                                                                                                                                                                                                                                                                                                                                                                                                                                                                                                                                                                                                                           0.415376\n",
      "\" There we differ , Mary ,\" said Anne .                                                                                                                                                                                                                                                                                                                                                                                                                                                                                                                                                                                                                                                      0.411864\n",
      "The morning hours of the Cottage were always later than those of the other house , and on the morrow the difference was so great that Mary and Anne were not more than beginning breakfast when Charles came in to say that they were just setting off , that he was come for his dogs , that his sisters were following with Captain Wentworth ; his sisters meaning to visit Mary and the child , and Captain Wentworth proposing also to wait on her for a few minutes if not inconvenient ; and though Charles had answered for the child ' s being in no such state as could make it inconvenient , Captain Wentworth would not be satisfied without his running on to give notice .    0.406677\n",
      "As to the wretched party left behind , it could scarcely be said which of the three , who were completely rational , was suffering most : Captain Wentworth , Anne , or Charles , who , really a very affectionate brother , hung over Louisa with sobs of grief , and could only turn his eyes from one sister , to see the other in a state as insensible , or to witness the hysterical agitations of his wife , calling on him for help which he could not give .                                                                                                                                                                                                                        0.401082\n",
      "The news of his cousins Anne ' s engagement burst on Mr Elliot most unexpectedly .                                                                                                                                                                                                                                                                                                                                                                                                                                                                                                                                                                                                           0.392287\n",
      "How eloquent could Anne Elliot have been !                                                                                                                                                                                                                                                                                                                                                                                                                                                                                                                                                                                                                                                   0.390656\n",
      "Anne said what was proper , and enquired after her husband .                                                                                                                                                                                                                                                                                                                                                                                                                                                                                                                                                                                                                                 0.386992\n",
      "Name: 0, dtype: float64\n",
      "Component 1:\n",
      "\" Mr Elliot !\"                                                                                                                                                                                                       0.696350\n",
      "Mr Elliot was rational , discreet , polished , but he was not open .                                                                                                                                                 0.629644\n",
      "\" Elliot !\"                                                                                                                                                                                                          0.620254\n",
      "The news of his cousins Anne ' s engagement burst on Mr Elliot most unexpectedly .                                                                                                                                   0.591981\n",
      "Mr Elliot was too generally agreeable .                                                                                                                                                                              0.562217\n",
      "But Mr Elliot was not done with .                                                                                                                                                                                    0.553447\n",
      "\" Mr Elliot does not dislike his cousin , I fancy ?\"                                                                                                                                                                 0.526767\n",
      "She learned that ( the intimacy between them continuing unimpaired by Mr Elliot ' s marriage ) they had been as before always together , and Mr Elliot had led his friend into expenses much beyond his fortune .    0.483896\n",
      "Mr Elliot was attending his two cousins and Mrs Clay .                                                                                                                                                               0.467166\n",
      "\" Pray ,\" said Mrs Smith , \" is Mr Elliot aware of your acquaintance with me ?                                                                                                                                       0.460854\n",
      "Name: 1, dtype: float64\n",
      "Component 2:\n",
      "\" Yes , yes , I see you are .                                                                                                                  0.901365\n",
      "\" Yes .                                                                                                                                        0.896852\n",
      "\" Yes , I do .                                                                                                                                 0.896852\n",
      "\" Oh yes !                                                                                                                                     0.896852\n",
      "\" Yes ; you see his papa can , and why should not I ?                                                                                          0.825009\n",
      "\" Yes , and you may guess who it is for .                                                                                                      0.782268\n",
      "\" Yes , yes , to the inn ,\" repeated Captain Wentworth , comparatively collected , and eager to be doing something .                           0.627368\n",
      "\" Yes ; he was not married when I knew him first .\"                                                                                            0.544480\n",
      "\" Yes ,\" said Mrs Smith more doubtingly , \" sometimes it may , though I fear its lessons are not often in the elevated style you describe .    0.528400\n",
      "\" Yes , here I am , Sophia , quite ready to make a foolish match .                                                                             0.458270\n",
      "Name: 2, dtype: float64\n",
      "Component 3:\n",
      "\" Mr Elliot !\"                                                                                                                                                                                                       0.526403\n",
      "Mr Elliot was rational , discreet , polished , but he was not open .                                                                                                                                                 0.491801\n",
      "\" Elliot !\"                                                                                                                                                                                                          0.449182\n",
      "\" Yes , yes , to the inn ,\" repeated Captain Wentworth , comparatively collected , and eager to be doing something .                                                                                                 0.440538\n",
      "Captain Wentworth had no fortune .                                                                                                                                                                                   0.418855\n",
      "Mr Elliot was too generally agreeable .                                                                                                                                                                              0.417520\n",
      "But Mr Elliot was not done with .                                                                                                                                                                                    0.409384\n",
      "From this time Captain Wentworth and Anne Elliot were repeatedly in the same circle .                                                                                                                                0.402320\n",
      "\" Mr Elliot does not dislike his cousin , I fancy ?\"                                                                                                                                                                 0.393022\n",
      "She learned that ( the intimacy between them continuing unimpaired by Mr Elliot ' s marriage ) they had been as before always together , and Mr Elliot had led his friend into expenses much beyond his fortune .    0.374199\n",
      "Name: 3, dtype: float64\n",
      "Component 4:\n",
      "\" And I am sure , Sir .\"                                                                          0.676407\n",
      "\" To be sure he is .                                                                              0.518456\n",
      "\" To be sure you did .                                                                            0.518456\n",
      "\" Aye , to be sure .                                                                              0.518456\n",
      "\" To be sure I did ; very often .                                                                 0.494162\n",
      "Sir Walter has resented it .                                                                      0.487860\n",
      "\" To be sure I will , if you wish it .                                                            0.427674\n",
      "\" Miss Elliot , I am sure you are tired ,\" cried Mrs Croft .                                      0.393043\n",
      "\" And mine ,\" added Sir Walter .                                                                  0.353783\n",
      "\" Heir presumptive , William Walter Elliot , Esq ., great grandson of the second Sir Walter .\"    0.353030\n",
      "Name: 4, dtype: float64\n"
     ]
    }
   ],
   "source": [
    "svd3= TruncatedSVD(130)\n",
    "lsa3 = make_pipeline(svd3, Normalizer(copy=False))\n",
    "# Run SVD on the training data, then project the training data.\n",
    "X_train_lsa3 = lsa3.fit_transform(X_train_tfidf3)\n",
    "\n",
    "variance_explained3=svd3.explained_variance_ratio_\n",
    "total_variance3 = variance_explained3.sum()\n",
    "print(\"Percent variance captured by all components:\",total_variance*100)\n",
    "\n",
    "#Looking at what sorts of paragraphs our solution considers similar, for the first five identified topics\n",
    "paras_by_component3=pd.DataFrame(X_train_lsa3,index=X_train3)\n",
    "for i in range(5):\n",
    "    print('Component {}:'.format(i))\n",
    "    print(paras_by_component3.loc[:,i].sort_values(ascending=False)[0:10])\n",
    "\n"
   ]
  },
  {
   "cell_type": "code",
   "execution_count": 371,
   "metadata": {},
   "outputs": [
    {
     "data": {
      "image/png": "[encoded data removed]",
      "text/plain": [
       "<Figure size 432x288 with 2 Axes>"
      ]
     },
     "metadata": {
      "needs_background": "light"
     },
     "output_type": "display_data"
    },
    {
     "name": "stdout",
     "output_type": "stream",
     "text": [
      "Key:\n",
      "0 When the evening was over , Anne could not but be amused at the idea of her coming to Lyme to preach patience and resignation to a young man whom she had never seen before ; nor could she help fearing , on more serious reflection , that , like many other great moralists and preachers , she had been eloquent on a point in which her own conduct would ill bear examination .\n",
      "1 The nights were too dark for the ladies to meet again till the morrow , but Captain Harville had promised them a visit in the evening ; and he came , bringing his friend also , which was more than had been expected , it having been agreed that Captain Benwick had all the appearance of being oppressed by the presence of so many strangers .\n",
      "2 \" No ,\" cried Anne , quickly , \" it cannot be Mr Elliot , I assure you .\n",
      "3 She paused a moment to recover from the emotion of hearing herself so spoken of .\n",
      "4 Captain Harville smiled , as much as to say , \" Do you claim that for your sex ?\"\n",
      "5 \" My expressions startle you .\n",
      "6 Her recent good offices by Anne had been enough in themselves , and their marriage , instead of depriving her of one friend , secured her two .\n",
      "7 \" I think you are very likely to suffer the most of the two ; your feelings are less reconciled to the change than mine .\n",
      "8 Such were Elizabeth Elliot ' s sentiments and sensations ; such the cares to alloy , the agitations to vary , the sameness and the elegance , the prosperity and the nothingness of her scene of life ; such the feelings to give interest to a long , uneventful residence in one country circle , to fill the vacancies which there were no habits of utility abroad , no talents or accomplishments for home , to occupy .\n",
      "9 Mrs Smith hesitated a little here .\n",
      "10 \" A well - looking man ,\" said Sir Walter , \" a very well - looking man .\"\n",
      "11 Colonel Wallis had known Mr Elliot long , had been well acquainted also with his wife , had perfectly understood the whole story .\n",
      "12 The Admiral , after taking two or three refreshing turns about the room with his hands behind him , being called to order by his wife , now came up to Captain Wentworth , and without any observation of what he might be interrupting , thinking only of his own thoughts , began with \n",
      "13 \" And I am sure , Sir .\"\n",
      "14 \" To be sure he is .\n",
      "15 Sir Walter had at first thought more of London ; but Mr Shepherd felt that he could not be trusted in London , and had been skilful enough to dissuade him from it , and make Bath preferred .\n",
      "16 Mr Shepherd was completely empowered to act ; and no sooner had such an end been reached , than Anne , who had been a most attentive listener to the whole , left the room , to seek the comfort of cool air for her flushed cheeks ; and as she walked along a favourite grove , said , with a gentle sigh , \" A few months more , and he , perhaps , may be walking here .\"\n",
      "17 The Crofts took possession with true naval alertness , and were to be visited .\n",
      "18 Anne sighed and blushed and smiled , in pity and disdain , either at her friend or herself .\n",
      "19 \" It is very unpleasant , having such connexions !\n"
     ]
    }
   ],
   "source": [
    "# Compute document similarity using LSA components\n",
    "similarity3 = np.asarray(np.asmatrix(X_train_lsa3) * np.asmatrix(X_train_lsa3).T)\n",
    "#Only taking the first 10 sentences\n",
    "sim_matrix3=pd.DataFrame(similarity3,index=X_train3).iloc[0:20,0:20]\n",
    "#Making a plot\n",
    "ax = sns.heatmap(sim_matrix3,yticklabels=range(20))\n",
    "plt.show()\n",
    "\n",
    "#Generating a key for the plot.\n",
    "print('Key:')\n",
    "for i in range(20):\n",
    "    print(i,sim_matrix3.index[i])"
   ]
  },
  {
   "cell_type": "markdown",
   "metadata": {},
   "source": [
    "Many of these sentences don't seem to offer much insight, but I like to see when there is an obvious correlation, or to even see how Emma and Sense & Sensibility's heatmaps were mostly dark, while Persusasion's is much more the same middle color."
   ]
  },
  {
   "cell_type": "markdown",
   "metadata": {},
   "source": [
    "## Implementing LDA with Gensim\n",
    "\n",
    "Each topic modeling method seems to have pros and cons so et's try LDA with Gensim and see if we get different results. We'll begin again by importing packages."
   ]
  },
  {
   "cell_type": "code",
   "execution_count": 352,
   "metadata": {},
   "outputs": [],
   "source": [
    "import sys\n",
    "from pprint import pprint\n",
    "\n",
    "# Gensim\n",
    "import gensim, logging, warnings\n",
    "import gensim.corpora as corpora\n",
    "from gensim.utils import lemmatize, simple_preprocess\n",
    "from gensim.models import CoherenceModel\n",
    "\n",
    "stop_words = stopwords.words('english')\n",
    "stop_words.extend(['from', 'subject', 're', 'edu', 'use', 'not', 'would', 'say', 'could', '_', 'be', 'know', 'good', \n",
    "                   'go', 'get', 'do', 'done', 'try', 'many', 'some', 'nice', 'think', 'see', 'rather', 'easy', \n",
    "                   'easily', 'lot', 'lack', 'make', 'want', 'seem', 'run', 'need', 'even', 'right', 'line', 'even', \n",
    "                   'also', 'may', 'take', 'come', 'emma', 'adelaide', 'chapter', 'volume', 'dashwood', 'ferrar', 'captain_wentworth'])\n",
    "\n",
    "%matplotlib inline\n",
    "warnings.filterwarnings(\"ignore\",category=DeprecationWarning)\n",
    "logging.basicConfig(format='%(asctime)s : %(levelname)s : %(message)s', level=logging.ERROR)"
   ]
  },
  {
   "cell_type": "code",
   "execution_count": 325,
   "metadata": {},
   "outputs": [
    {
     "name": "stdout",
     "output_type": "stream",
     "text": [
      "[['emma', 'by', 'jane', 'austen'], ['volume'], ['chapter'], ['emma', 'woodhouse', 'handsome', 'clever', 'and', 'rich', 'with', 'comfortable', 'home', 'and', 'happy', 'disposition', 'seemed', 'to', 'unite', 'some', 'of', 'the', 'best', 'blessings', 'of', 'existence', 'and', 'had', 'lived', 'nearly', 'twenty', 'one', 'years', 'in', 'the', 'world', 'with', 'very', 'little', 'to', 'distress', 'or', 'vex', 'her']]\n"
     ]
    }
   ],
   "source": [
    "def sent_to_words(sentences):\n",
    "    for sentence in sentences:\n",
    "        yield(gensim.utils.simple_preprocess(str(sentence), deacc=True))  # deacc=True removes punctuations\n",
    "\n",
    "data_words = list(sent_to_words(emma))\n",
    "\n",
    "print(data_words[:4])"
   ]
  },
  {
   "cell_type": "code",
   "execution_count": 326,
   "metadata": {},
   "outputs": [
    {
     "name": "stdout",
     "output_type": "stream",
     "text": [
      "['emma', 'by', 'jane', 'austen']\n"
     ]
    }
   ],
   "source": [
    "# Build the bigram and trigram models\n",
    "bigram = gensim.models.Phrases(data_words, min_count=5, threshold=100) # higher threshold fewer phrases.\n",
    "trigram = gensim.models.Phrases(bigram[data_words], threshold=100)  \n",
    "\n",
    "# Faster way to get a sentence clubbed as a trigram/bigram\n",
    "bigram_mod = gensim.models.phrases.Phraser(bigram)\n",
    "trigram_mod = gensim.models.phrases.Phraser(trigram)\n",
    "\n",
    "# See trigram example\n",
    "print(trigram_mod[bigram_mod[data_words[0]]])"
   ]
  },
  {
   "cell_type": "code",
   "execution_count": 327,
   "metadata": {},
   "outputs": [],
   "source": [
    "# Define functions for stopwords, bigrams, trigrams and lemmatization\n",
    "def remove_stopwords(texts):\n",
    "    return [[word for word in simple_preprocess(str(doc)) if word not in stop_words] for doc in texts]\n",
    "\n",
    "def make_bigrams(texts):\n",
    "    return [bigram_mod[doc] for doc in texts]\n",
    "\n",
    "def make_trigrams(texts):\n",
    "    return [trigram_mod[bigram_mod[doc]] for doc in texts]\n",
    "\n",
    "def lemmatization(texts, allowed_postags=['NOUN', 'ADJ', 'VERB', 'ADV']):\n",
    "    \"\"\"https://spacy.io/api/annotation\"\"\"\n",
    "    texts_out = []\n",
    "    for sent in texts:\n",
    "        doc = nlp(\" \".join(sent)) \n",
    "        texts_out.append([token.lemma_ for token in doc if token.pos_ in allowed_postags])\n",
    "    return texts_out"
   ]
  },
  {
   "cell_type": "code",
   "execution_count": 328,
   "metadata": {},
   "outputs": [
    {
     "name": "stdout",
     "output_type": "stream",
     "text": [
      "[[], [], [], ['clever', 'rich', 'comfortable', 'happy', 'disposition', 'seem', 'unite', 'good', 'blessing', 'existence', 'live', 'nearly', 'year', 'world', 'little', 'distress'], ['young', 'daughter', 'affectionate', 'indulgent', 'mistress', 'early', 'period', 'mother', 'die', 'long', 'ago', 'indistinct', 'remembrance', 'caress', 'place', 'supply', 'excellent', 'woman', 'governess', 'fall', 'little', 'short', 'mother', 'affection']]\n"
     ]
    }
   ],
   "source": [
    "# Remove Stop Words\n",
    "data_words_nostops = remove_stopwords(data_words)\n",
    "\n",
    "# Form Bigrams\n",
    "data_words_bigrams = make_bigrams(data_words_nostops)\n",
    "\n",
    "# Initialize spacy 'en' model, keeping only tagger component (for efficiency)\n",
    "# python3 -m spacy download en\n",
    "nlp = spacy.load('en', disable=['parser', 'ner'])\n",
    "\n",
    "# Do lemmatization keeping only noun, adj, vb, adv\n",
    "data_lemmatized = lemmatization(data_words_bigrams, allowed_postags=['NOUN', 'ADJ', 'VERB', 'ADV'])\n",
    "\n",
    "print(data_lemmatized[:5])"
   ]
  },
  {
   "cell_type": "code",
   "execution_count": 329,
   "metadata": {},
   "outputs": [
    {
     "name": "stdout",
     "output_type": "stream",
     "text": [
      "[[], [], [], [(0, 1), (1, 1), (2, 1), (3, 1), (4, 1), (5, 1), (6, 1), (7, 1), (8, 1), (9, 1), (10, 1), (11, 1), (12, 1), (13, 1), (14, 1), (15, 1)], [(8, 1), (16, 1), (17, 1), (18, 1), (19, 1), (20, 1), (21, 1), (22, 1), (23, 1), (24, 1), (25, 1), (26, 1), (27, 1), (28, 1), (29, 1), (30, 2), (31, 1), (32, 1), (33, 1), (34, 1), (35, 1), (36, 1), (37, 1)]]\n"
     ]
    }
   ],
   "source": [
    "# Create Dictionary\n",
    "id2word = corpora.Dictionary(data_lemmatized)\n",
    "\n",
    "# Create Corpus\n",
    "texts = data_lemmatized\n",
    "\n",
    "# Term Document Frequency\n",
    "corpus = [id2word.doc2bow(text) for text in texts]\n",
    "\n",
    "# View\n",
    "print(corpus[:5])"
   ]
  },
  {
   "cell_type": "code",
   "execution_count": 331,
   "metadata": {},
   "outputs": [
    {
     "name": "stderr",
     "output_type": "stream",
     "text": [
      "/opt/anaconda3/lib/python3.7/site-packages/gensim/models/ldamodel.py:821: RuntimeWarning: divide by zero encountered in double_scalars\n",
      "  perwordbound = self.bound(chunk, subsample_ratio=subsample_ratio) / (subsample_ratio * corpus_words)\n"
     ]
    }
   ],
   "source": [
    "# Build LDA model\n",
    "lda_model = gensim.models.ldamodel.LdaModel(corpus=corpus,\n",
    "                                           id2word=id2word,\n",
    "                                           num_topics=9, \n",
    "                                           random_state=42,\n",
    "                                           update_every=1,\n",
    "                                           chunksize=10,\n",
    "                                           passes=4,\n",
    "                                           alpha='symmetric',\n",
    "                                           iterations=100,\n",
    "                                           per_word_topics=True)\n",
    "                                           "
   ]
  },
  {
   "cell_type": "code",
   "execution_count": 332,
   "metadata": {},
   "outputs": [
    {
     "name": "stdout",
     "output_type": "stream",
     "text": [
      "[(0,\n",
      "  '0.067*\"must\" + 0.040*\"may\" + 0.024*\"sure\" + 0.024*\"think\" + 0.021*\"go\" + '\n",
      "  '0.021*\"cry\" + 0.020*\"love\" + 0.020*\"know\" + 0.020*\"talk\" + 0.019*\"great\"'),\n",
      " (1,\n",
      "  '0.049*\"much\" + 0.038*\"give\" + 0.033*\"little\" + 0.027*\"first\" + '\n",
      "  '0.027*\"indeed\" + 0.023*\"word\" + 0.022*\"poor\" + 0.022*\"well\" + '\n",
      "  '0.018*\"however\" + 0.017*\"answer\"'),\n",
      " (2,\n",
      "  '0.059*\"friend\" + 0.037*\"perhaps\" + 0.032*\"long\" + 0.029*\"ought\" + '\n",
      "  '0.026*\"still\" + 0.022*\"less\" + 0.021*\"thought\" + 0.021*\"daughter\" + '\n",
      "  '0.019*\"pass\" + 0.016*\"serious\"'),\n",
      " (3,\n",
      "  '0.044*\"never\" + 0.036*\"soon\" + 0.034*\"speak\" + 0.034*\"always\" + '\n",
      "  '0.031*\"feel\" + 0.028*\"wish\" + 0.027*\"day\" + 0.023*\"happiness\" + '\n",
      "  '0.023*\"find\" + 0.018*\"morning\"'),\n",
      " (4,\n",
      "  '0.058*\"time\" + 0.031*\"man\" + 0.030*\"believe\" + 0.030*\"smile\" + 0.028*\"call\" '\n",
      "  '+ 0.024*\"mind\" + 0.023*\"really\" + 0.022*\"yet\" + 0.020*\"thing\" + '\n",
      "  '0.019*\"spirit\"'),\n",
      " (5,\n",
      "  '0.082*\"say\" + 0.048*\"look\" + 0.039*\"hear\" + 0.038*\"ever\" + 0.037*\"tell\" + '\n",
      "  '0.036*\"thing\" + 0.035*\"make\" + 0.030*\"moment\" + 0.019*\"see\" + 0.019*\"ask\"'),\n",
      " (6,\n",
      "  '0.069*\"seem\" + 0.065*\"happy\" + 0.038*\"assure\" + 0.037*\"perfectly\" + '\n",
      "  '0.029*\"world\" + 0.025*\"perry\" + 0.022*\"full\" + 0.020*\"distress\" + '\n",
      "  '0.019*\"agree\" + 0.017*\"introduce\"'),\n",
      " (7,\n",
      "  '0.059*\"hope\" + 0.053*\"quite\" + 0.039*\"feeling\" + 0.036*\"letter\" + '\n",
      "  '0.029*\"want\" + 0.022*\"try\" + 0.022*\"least\" + 0.018*\"degree\" + '\n",
      "  '0.016*\"expect\" + 0.015*\"resolve\"'),\n",
      " (8,\n",
      "  '0.034*\"laugh\" + 0.030*\"bad\" + 0.030*\"continue\" + 0.030*\"understand\" + '\n",
      "  '0.026*\"woman\" + 0.025*\"place\" + 0.020*\"thank\" + 0.020*\"receive\" + '\n",
      "  '0.019*\"write\" + 0.019*\"point\"')]\n"
     ]
    }
   ],
   "source": [
    "# Print the Keyword in the 10 topics\n",
    "pprint(lda_model.print_topics())\n",
    "doc_lda = lda_model[corpus]"
   ]
  },
  {
   "cell_type": "code",
   "execution_count": 333,
   "metadata": {},
   "outputs": [
    {
     "name": "stdout",
     "output_type": "stream",
     "text": [
      "\n",
      "Perplexity:  -8.622155214972478\n",
      "\n",
      "Coherence Score:  0.35978156918896076\n"
     ]
    }
   ],
   "source": [
    "# Compute Perplexity\n",
    "print('\\nPerplexity: ', lda_model.log_perplexity(corpus))  # a measure of how good the model is. lower the better.\n",
    "\n",
    "# Compute Coherence Score\n",
    "coherence_model_lda = CoherenceModel(model=lda_model, texts=data_lemmatized, dictionary=id2word, coherence='c_v')\n",
    "coherence_lda = coherence_model_lda.get_coherence()\n",
    "print('\\nCoherence Score: ', coherence_lda)"
   ]
  },
  {
   "cell_type": "markdown",
   "metadata": {},
   "source": [
    "Our coherence score is not very high, but it seems the only way to raise it is to introduce more topics and when that is done, some topics are repeated. That isn't ideal so we'll leave it as it is."
   ]
  },
  {
   "cell_type": "code",
   "execution_count": 334,
   "metadata": {},
   "outputs": [
    {
     "data": {
      "image/png": "[encoded data removed]",
      "text/plain": [
       "<Figure size 720x720 with 9 Axes>"
      ]
     },
     "metadata": {
      "needs_background": "light"
     },
     "output_type": "display_data"
    }
   ],
   "source": [
    "# 1. Wordcloud of Top N words in each topic\n",
    "from matplotlib import pyplot as plt\n",
    "from wordcloud import WordCloud, STOPWORDS\n",
    "import matplotlib.colors as mcolors\n",
    "\n",
    "cols = [color for name, color in mcolors.TABLEAU_COLORS.items()]  # more colors: 'mcolors.XKCD_COLORS'\n",
    "\n",
    "cloud = WordCloud(stopwords=stop_words,\n",
    "                  background_color='white',\n",
    "                  width=2500,\n",
    "                  height=1800,\n",
    "                  max_words=10,\n",
    "                  colormap='tab10',\n",
    "                  color_func=lambda *args, **kwargs: cols[i],\n",
    "                  prefer_horizontal=1.0)\n",
    "\n",
    "topics = lda_model.show_topics(formatted=False)\n",
    "\n",
    "fig, axes = plt.subplots(3, 3, figsize=(10,10), sharex=True, sharey=True)\n",
    "\n",
    "for i, ax in enumerate(axes.flatten()):\n",
    "    fig.add_subplot(ax)\n",
    "    topic_words = dict(topics[i][1])\n",
    "    cloud.generate_from_frequencies(topic_words, max_font_size=300)\n",
    "    plt.gca().imshow(cloud)\n",
    "    plt.gca().set_title('Topic ' + str(i), fontdict=dict(size=16))\n",
    "    plt.gca().axis('off')\n",
    "\n",
    "\n",
    "plt.subplots_adjust(wspace=0, hspace=0)\n",
    "plt.axis('off')\n",
    "plt.margins(x=0, y=0)\n",
    "plt.tight_layout()\n",
    "plt.show()"
   ]
  },
  {
   "cell_type": "markdown",
   "metadata": {},
   "source": [
    "These topics seem much more naturally correlated than our previous NMF modeling. None of these topics seem clearly feminist, but they do seem more related."
   ]
  },
  {
   "cell_type": "markdown",
   "metadata": {},
   "source": [
    "## LDA with Persuasion"
   ]
  },
  {
   "cell_type": "code",
   "execution_count": 336,
   "metadata": {},
   "outputs": [
    {
     "name": "stdout",
     "output_type": "stream",
     "text": [
      "[['persuasion', 'by', 'jane', 'austen'], ['chapter'], ['sir', 'walter', 'elliot', 'of', 'kellynch', 'hall', 'in', 'somersetshire', 'was', 'man', 'who', 'for', 'his', 'own', 'amusement', 'never', 'took', 'up', 'any', 'book', 'but', 'the', 'baronetage', 'there', 'he', 'found', 'occupation', 'for', 'an', 'idle', 'hour', 'and', 'consolation', 'in', 'distressed', 'one', 'there', 'his', 'faculties', 'were', 'roused', 'into', 'admiration', 'and', 'respect', 'by', 'contemplating', 'the', 'limited', 'remnant', 'of', 'the', 'earliest', 'patents', 'there', 'any', 'unwelcome', 'sensations', 'arising', 'from', 'domestic', 'affairs', 'changed', 'naturally', 'into', 'pity', 'and', 'contempt', 'as', 'he', 'turned', 'over', 'the', 'almost', 'endless', 'creations', 'of', 'the', 'last', 'century', 'and', 'there', 'if', 'every', 'other', 'leaf', 'were', 'powerless', 'he', 'could', 'read', 'his', 'own', 'history', 'with', 'an', 'interest', 'which', 'never', 'failed', 'this', 'was', 'the', 'page', 'at', 'which', 'the', 'favourite', 'volume', 'always', 'opened'], ['elliot', 'of', 'kellynch', 'hall']]\n"
     ]
    }
   ],
   "source": [
    "def sent_to_words(sentences):\n",
    "    for sentence in sentences:\n",
    "        yield(gensim.utils.simple_preprocess(str(sentence), deacc=True))  # deacc=True removes punctuations\n",
    "\n",
    "pers_words = list(sent_to_words(persuasion2))\n",
    "\n",
    "print(pers_words[:4])"
   ]
  },
  {
   "cell_type": "code",
   "execution_count": 337,
   "metadata": {},
   "outputs": [
    {
     "name": "stdout",
     "output_type": "stream",
     "text": [
      "['persuasion', 'by', 'jane', 'austen']\n"
     ]
    }
   ],
   "source": [
    "# Build the bigram and trigram models\n",
    "bigram = gensim.models.Phrases(pers_words, min_count=5, threshold=100) # higher threshold fewer phrases.\n",
    "trigram = gensim.models.Phrases(bigram[pers_words], threshold=100)  \n",
    "\n",
    "# Faster way to get a sentence clubbed as a trigram/bigram\n",
    "bigram_mod = gensim.models.phrases.Phraser(bigram)\n",
    "trigram_mod = gensim.models.phrases.Phraser(trigram)\n",
    "\n",
    "# See trigram example\n",
    "print(trigram_mod[bigram_mod[pers_words[0]]])"
   ]
  },
  {
   "cell_type": "code",
   "execution_count": 338,
   "metadata": {},
   "outputs": [
    {
     "name": "stdout",
     "output_type": "stream",
     "text": [
      "[[], [], ['elliot', 'man', 'amusement', 'never', 'take', 'book', 'baronetage', 'find', 'occupation', 'idle', 'hour', 'consolation', 'distress', 'faculty', 'rouse', 'admiration', 'respect', 'contemplate', 'limit', 'remnant', 'early', 'patent', 'unwelcome', 'sensation', 'arise', 'domestic', 'affair', 'change', 'naturally', 'pity', 'contempt', 'turn', 'almost', 'endless', 'creation', 'last', 'century', 'leaf', 'powerless', 'read', 'history', 'interest', 'never', 'fail', 'page', 'favourite', 'always', 'open'], [], ['bear', 'lady', 'die', 'issue', 'bear', 'bear', 'still', 'bear', 'son', 'bear']]\n"
     ]
    }
   ],
   "source": [
    "# Remove Stop Words\n",
    "pers_words_nostops = remove_stopwords(pers_words)\n",
    "\n",
    "# Form Bigrams\n",
    "pers_words_bigrams = make_bigrams(pers_words_nostops)\n",
    "\n",
    "# Initialize spacy 'en' model, keeping only tagger component (for efficiency)\n",
    "# python3 -m spacy download en\n",
    "nlp = spacy.load('en', disable=['parser', 'ner'])\n",
    "\n",
    "# Do lemmatization keeping only noun, adj, vb, adv\n",
    "pers_lemmatized = lemmatization(pers_words_bigrams, allowed_postags=['NOUN', 'ADJ', 'VERB', 'ADV'])\n",
    "\n",
    "print(pers_lemmatized[:5])"
   ]
  },
  {
   "cell_type": "code",
   "execution_count": 339,
   "metadata": {},
   "outputs": [
    {
     "name": "stdout",
     "output_type": "stream",
     "text": [
      "[[], [], [(0, 1), (1, 1), (2, 1), (3, 1), (4, 1), (5, 1), (6, 1), (7, 1), (8, 1), (9, 1), (10, 1), (11, 1), (12, 1), (13, 1), (14, 1), (15, 1), (16, 1), (17, 1), (18, 1), (19, 1), (20, 1), (21, 1), (22, 1), (23, 1), (24, 1), (25, 1), (26, 1), (27, 1), (28, 1), (29, 1), (30, 1), (31, 1), (32, 2), (33, 1), (34, 1), (35, 1), (36, 1), (37, 1), (38, 1), (39, 1), (40, 1), (41, 1), (42, 1), (43, 1), (44, 1), (45, 1), (46, 1)], [], [(47, 5), (48, 1), (49, 1), (50, 1), (51, 1), (52, 1)]]\n"
     ]
    }
   ],
   "source": [
    "# Create Dictionary\n",
    "pers_id2word = corpora.Dictionary(pers_lemmatized)\n",
    "\n",
    "# Create Corpus\n",
    "pers_texts = pers_lemmatized\n",
    "\n",
    "# Term Document Frequency\n",
    "pers_corpus = [pers_id2word.doc2bow(text) for text in pers_texts]\n",
    "\n",
    "# View\n",
    "print(pers_corpus[:5])"
   ]
  },
  {
   "cell_type": "code",
   "execution_count": 340,
   "metadata": {},
   "outputs": [],
   "source": [
    "# Build LDA model\n",
    "pers_lda_model = gensim.models.ldamodel.LdaModel(corpus=pers_corpus,\n",
    "                                           id2word=pers_id2word,\n",
    "                                           num_topics=10, \n",
    "                                           random_state=42,\n",
    "                                           update_every=1,\n",
    "                                           chunksize=10,\n",
    "                                           passes=4,\n",
    "                                           alpha='symmetric',\n",
    "                                           iterations=100,\n",
    "                                           per_word_topics=False)\n",
    "                                           "
   ]
  },
  {
   "cell_type": "code",
   "execution_count": 341,
   "metadata": {},
   "outputs": [
    {
     "name": "stdout",
     "output_type": "stream",
     "text": [
      "[(0,\n",
      "  '0.125*\"friend\" + 0.118*\"may\" + 0.052*\"profession\" + 0.045*\"wife\" + '\n",
      "  '0.026*\"belong\" + 0.026*\"income\" + 0.025*\"mental\" + 0.024*\"absolutely\" + '\n",
      "  '0.023*\"pass\" + 0.021*\"suppose\"'),\n",
      " (1,\n",
      "  '0.035*\"say\" + 0.024*\"feel\" + 0.016*\"much\" + 0.015*\"see\" + '\n",
      "  '0.015*\"tenderness\" + 0.015*\"little\" + 0.014*\"improvement\" + 0.014*\"wish\" + '\n",
      "  '0.014*\"room\" + 0.013*\"perfectly\"'),\n",
      " (2,\n",
      "  '0.079*\"day\" + 0.079*\"word\" + 0.045*\"add\" + 0.043*\"lose\" + 0.039*\"answer\" + '\n",
      "  '0.037*\"hand\" + 0.025*\"sink\" + 0.018*\"stand\" + 0.015*\"welcome\" + '\n",
      "  '0.013*\"captain_wentworth\"'),\n",
      " (3,\n",
      "  '0.064*\"bear\" + 0.061*\"fix\" + 0.012*\"accordingly\" + 0.004*\"unnecessary\" + '\n",
      "  '0.004*\"die\" + 0.001*\"cool\" + 0.001*\"sufferer\" + 0.001*\"medium\" + '\n",
      "  '0.001*\"supplant\" + 0.001*\"unintentionally\"'),\n",
      " (4,\n",
      "  '0.056*\"must\" + 0.036*\"look\" + 0.035*\"give\" + 0.028*\"happy\" + 0.027*\"hope\" + '\n",
      "  '0.023*\"love\" + 0.020*\"enough\" + 0.019*\"never\" + 0.019*\"make\" + '\n",
      "  '0.019*\"however\"'),\n",
      " (5,\n",
      "  '0.075*\"short\" + 0.068*\"future\" + 0.044*\"doubt\" + 0.033*\"opinion\" + '\n",
      "  '0.031*\"attention\" + 0.030*\"secure\" + 0.021*\"yield\" + 0.018*\"alter\" + '\n",
      "  '0.017*\"window\" + 0.016*\"explain\"'),\n",
      " (6,\n",
      "  '0.042*\"last\" + 0.040*\"man\" + 0.038*\"find\" + 0.027*\"first\" + 0.027*\"family\" '\n",
      "  '+ 0.025*\"domestic\" + 0.025*\"fail\" + 0.024*\"distinguish\" + 0.024*\"always\" + '\n",
      "  '0.024*\"hour\"'),\n",
      " (7,\n",
      "  '0.036*\"well\" + 0.032*\"go\" + 0.029*\"great\" + 0.028*\"believe\" + '\n",
      "  '0.022*\"possible\" + 0.019*\"less\" + 0.018*\"engagement\" + 0.017*\"felicity\" + '\n",
      "  '0.017*\"remain\" + 0.016*\"other\"'),\n",
      " (8,\n",
      "  '0.057*\"moment\" + 0.043*\"begin\" + 0.030*\"place\" + 0.030*\"character\" + '\n",
      "  '0.029*\"still\" + 0.027*\"man\" + 0.026*\"consider\" + 0.020*\"situation\" + '\n",
      "  '0.019*\"wait\" + 0.017*\"appearance\"'),\n",
      " (9,\n",
      "  '0.034*\"ever\" + 0.034*\"soon\" + 0.027*\"long\" + 0.023*\"time\" + 0.020*\"shall\" + '\n",
      "  '0.019*\"know\" + 0.019*\"hear\" + 0.018*\"cry\" + 0.016*\"meet\" + 0.016*\"come\"')]\n"
     ]
    }
   ],
   "source": [
    "# Print the Keyword in the 10 topics\n",
    "pprint(pers_lda_model.print_topics())\n",
    "pers_lda = pers_lda_model[pers_corpus]"
   ]
  },
  {
   "cell_type": "code",
   "execution_count": 342,
   "metadata": {},
   "outputs": [
    {
     "name": "stdout",
     "output_type": "stream",
     "text": [
      "\n",
      "Perplexity:  -9.08714469123587\n",
      "\n",
      "Coherence Score:  0.3627759142969273\n"
     ]
    }
   ],
   "source": [
    "# Compute Perplexity\n",
    "print('\\nPerplexity: ', pers_lda_model.log_perplexity(pers_corpus))  # a measure of how good the model is. lower the better.\n",
    "\n",
    "# Compute Coherence Score\n",
    "coherence_pers_lda = CoherenceModel(model=pers_lda_model, texts=pers_lemmatized, dictionary=pers_id2word, coherence='c_v')\n",
    "pers_coherence_lda = coherence_pers_lda.get_coherence()\n",
    "print('\\nCoherence Score: ', pers_coherence_lda)"
   ]
  },
  {
   "cell_type": "code",
   "execution_count": 343,
   "metadata": {},
   "outputs": [
    {
     "data": {
      "image/png": "[encoded data removed]",
      "text/plain": [
       "<Figure size 720x720 with 9 Axes>"
      ]
     },
     "metadata": {
      "needs_background": "light"
     },
     "output_type": "display_data"
    }
   ],
   "source": [
    "cols = [color for name, color in mcolors.TABLEAU_COLORS.items()]  # more colors: 'mcolors.XKCD_COLORS'\n",
    "\n",
    "cloud = WordCloud(stopwords=stop_words,\n",
    "                  background_color='white',\n",
    "                  width=2500,\n",
    "                  height=1800,\n",
    "                  max_words=10,\n",
    "                  colormap='tab10',\n",
    "                  color_func=lambda *args, **kwargs: cols[i],\n",
    "                  prefer_horizontal=1.0)\n",
    "\n",
    "pers_topics = pers_lda_model.show_topics(formatted=False)\n",
    "\n",
    "fig, axes = plt.subplots(3, 3, figsize=(10,10), sharex=True, sharey=True)\n",
    "\n",
    "for i, ax in enumerate(axes.flatten()):\n",
    "    fig.add_subplot(ax)\n",
    "    topic_words = dict(pers_topics[i][1])\n",
    "    cloud.generate_from_frequencies(topic_words, max_font_size=300)\n",
    "    plt.gca().imshow(cloud)\n",
    "    plt.gca().set_title('Topic ' + str(i), fontdict=dict(size=16))\n",
    "    plt.gca().axis('off')\n",
    "\n",
    "\n",
    "plt.subplots_adjust(wspace=0, hspace=0)\n",
    "plt.axis('off')\n",
    "plt.margins(x=0, y=0)\n",
    "plt.tight_layout()\n",
    "plt.show()"
   ]
  },
  {
   "cell_type": "markdown",
   "metadata": {},
   "source": [
    "## Sense & Sensibility LDA"
   ]
  },
  {
   "cell_type": "code",
   "execution_count": 344,
   "metadata": {},
   "outputs": [
    {
     "name": "stdout",
     "output_type": "stream",
     "text": [
      "[['sense', 'and', 'sensibility', 'by', 'jane', 'austen'], ['chapter'], ['the', 'family', 'of', 'dashwood', 'had', 'long', 'been', 'settled', 'in', 'sussex', 'their', 'estate', 'was', 'large', 'and', 'their', 'residence', 'was', 'at', 'norland', 'park', 'in', 'the', 'centre', 'of', 'their', 'property', 'where', 'for', 'many', 'generations', 'they', 'had', 'lived', 'in', 'so', 'respectable', 'manner', 'as', 'to', 'engage', 'the', 'general', 'good', 'opinion', 'of', 'their', 'surrounding', 'acquaintance', 'the', 'late', 'owner', 'of', 'this', 'estate', 'was', 'single', 'man', 'who', 'lived', 'to', 'very', 'advanced', 'age', 'and', 'who', 'for', 'many', 'years', 'of', 'his', 'life', 'had', 'constant', 'companion', 'and', 'housekeeper', 'in', 'his', 'sister', 'but', 'her', 'death', 'which', 'happened', 'ten', 'years', 'before', 'his', 'own', 'produced', 'great', 'alteration', 'in', 'his', 'home', 'for', 'to', 'supply', 'her', 'loss', 'he', 'invited', 'and', 'received', 'into', 'his', 'house', 'the', 'family', 'of', 'his', 'nephew', 'mr', 'henry', 'dashwood', 'the', 'legal', 'inheritor', 'of', 'the', 'norland', 'estate', 'and', 'the', 'person', 'to', 'whom', 'he', 'intended', 'to', 'bequeath', 'it', 'in', 'the', 'society', 'of', 'his', 'nephew', 'and', 'niece', 'and', 'their', 'children', 'the', 'old', 'gentleman', 'days', 'were', 'comfortably', 'spent', 'his', 'attachment', 'to', 'them', 'all', 'increased', 'the', 'constant', 'attention', 'of', 'mr', 'and', 'mrs', 'henry', 'dashwood', 'to', 'his', 'wishes', 'which', 'proceeded', 'not', 'merely', 'from', 'interest', 'but', 'from', 'goodness', 'of', 'heart', 'gave', 'him', 'every', 'degree', 'of', 'solid', 'comfort', 'which', 'his', 'age', 'could', 'receive', 'and', 'the', 'cheerfulness', 'of', 'the', 'children', 'added', 'relish', 'to', 'his', 'existence'], ['by', 'former', 'marriage', 'mr', 'henry', 'dashwood', 'had', 'one', 'son', 'by', 'his', 'present', 'lady', 'three', 'daughters', 'the', 'son', 'steady', 'respectable', 'young', 'man', 'was', 'amply', 'provided', 'for', 'by', 'the', 'fortune', 'of', 'his', 'mother', 'which', 'had', 'been', 'large', 'and', 'half', 'of', 'which', 'devolved', 'on', 'him', 'on', 'his', 'coming', 'of', 'age', 'by', 'his', 'own', 'marriage', 'likewise', 'which', 'happened', 'soon', 'afterwards', 'he', 'added', 'to', 'his', 'wealth', 'to', 'him', 'therefore', 'the', 'succession', 'to', 'the', 'norland', 'estate', 'was', 'not', 'so', 'really', 'important', 'as', 'to', 'his', 'sisters', 'for', 'their', 'fortune', 'independent', 'of', 'what', 'might', 'arise', 'to', 'them', 'from', 'their', 'father', 'inheriting', 'that', 'property', 'could', 'be', 'but', 'small', 'their', 'mother', 'had', 'nothing', 'and', 'their', 'father', 'only', 'seven', 'thousand', 'pounds', 'in', 'his', 'own', 'disposal', 'for', 'the', 'remaining', 'moiety', 'of', 'his', 'first', 'wife', 'fortune', 'was', 'also', 'secured', 'to', 'her', 'child', 'and', 'he', 'had', 'only', 'life', 'interest', 'in', 'it']]\n"
     ]
    }
   ],
   "source": [
    "def sent_to_words(sentences):\n",
    "    for sentence in sentences:\n",
    "        yield(gensim.utils.simple_preprocess(str(sentence), deacc=True))  # deacc=True removes punctuations\n",
    "\n",
    "sense_words = list(sent_to_words(sense2))\n",
    "\n",
    "print(sense_words[:4])"
   ]
  },
  {
   "cell_type": "code",
   "execution_count": 345,
   "metadata": {},
   "outputs": [
    {
     "name": "stdout",
     "output_type": "stream",
     "text": [
      "['sense', 'and', 'sensibility', 'by', 'jane', 'austen']\n"
     ]
    }
   ],
   "source": [
    "# Build the bigram and trigram models\n",
    "bigram = gensim.models.Phrases(sense_words, min_count=5, threshold=100) # higher threshold fewer phrases.\n",
    "trigram = gensim.models.Phrases(bigram[sense_words], threshold=100)  \n",
    "\n",
    "# Faster way to get a sentence clubbed as a trigram/bigram\n",
    "bigram_mod = gensim.models.phrases.Phraser(bigram)\n",
    "trigram_mod = gensim.models.phrases.Phraser(trigram)\n",
    "\n",
    "# See trigram example\n",
    "print(trigram_mod[bigram_mod[sense_words[0]]])"
   ]
  },
  {
   "cell_type": "code",
   "execution_count": 353,
   "metadata": {},
   "outputs": [
    {
     "name": "stdout",
     "output_type": "stream",
     "text": [
      "[[], [], ['family', 'long', 'settle', 'sussex', 'estate', 'large', 'property', 'generation', 'live', 'respectable', 'manner', 'engage', 'general', 'opinion', 'surround', 'late', 'owner', 'single', 'man', 'live', 'advanced', 'age', 'year', 'constant', 'death', 'happen', 'year', 'produce', 'great', 'alteration', 'home', 'supply', 'invite', 'receive', 'family', 'person', 'intend', 'children', 'old', 'day', 'comfortably', 'spend', 'attachment', 'increase', 'constant', 'attention', 'proceed', 'merely', 'interest', 'goodness', 'heart', 'give', 'degree', 'solid', 'comfort', 'age', 'receive', 'cheerfulness', 'child', 'add', 'relish', 'existence'], ['former', 'marriage', 'son', 'daughter', 'son', 'steady', 'amply', 'provide', 'fortune', 'mother', 'large', 'devolve', 'come', 'age', 'marriage', 'likewise', 'happen', 'soon', 'afterwards', 'add', 'wealth', 'therefore', 'estate', 'really', 'important', 'sister', 'fortune', 'independent', 'may', 'arise', 'inherit', 'property', 'small', 'mother', 'father', 'disposal', 'remain', 'moiety', 'first', 'wife', 'fortune', 'secure', 'child', 'life', 'interest'], ['die', 'read', 'almost', 'give', 'much', 'disappointment', 'pleasure', 'unjust', 'ungrateful', 'leave', 'estate', 'nephew', 'leave', 'term', 'destroy', 'value', 'bequest', 'wish', 'sake', 'wife', 'daughter', 'year', 'old', 'secure', 'way', 'leave', 'power', 'provide', 'dear', 'need', 'provision', 'charge', 'estate', 'sale', 'valuable', 'wood', 'whole', 'tie', 'benefit', 'child', 'far', 'gain', 'affection', 'attraction', 'mean', 'unusual', 'child', 'year', 'old', 'desire', 'cunne', 'trick', 'noise', 'outweigh', 'value', 'attention', 'year', 'receive', 'niece', 'daughter', 'mean', 'however', 'affection', 'girl', 'leave', 'thousand_pound', 'piece']]\n"
     ]
    }
   ],
   "source": [
    "# Remove Stop Words\n",
    "sense_words_nostops = remove_stopwords(sense_words)\n",
    "\n",
    "# Form Bigrams\n",
    "sense_words_bigrams = make_bigrams(sense_words_nostops)\n",
    "\n",
    "# Initialize spacy 'en' model, keeping only tagger component (for efficiency)\n",
    "# python3 -m spacy download en\n",
    "nlp = spacy.load('en', disable=['parser', 'ner'])\n",
    "\n",
    "# Do lemmatization keeping only noun, adj, vb, adv\n",
    "sense_lemmatized = lemmatization(sense_words_bigrams, allowed_postags=['NOUN', 'ADJ', 'VERB', 'ADV'])\n",
    "\n",
    "print(sense_lemmatized[:5])"
   ]
  },
  {
   "cell_type": "code",
   "execution_count": 354,
   "metadata": {},
   "outputs": [
    {
     "name": "stdout",
     "output_type": "stream",
     "text": [
      "[[], [], [(0, 1), (1, 1), (2, 2), (3, 1), (4, 1), (5, 1), (6, 1), (7, 1), (8, 1), (9, 1), (10, 1), (11, 2), (12, 1), (13, 1), (14, 1), (15, 1), (16, 1), (17, 1), (18, 2), (19, 1), (20, 1), (21, 1), (22, 1), (23, 1), (24, 1), (25, 1), (26, 1), (27, 1), (28, 1), (29, 1), (30, 1), (31, 1), (32, 1), (33, 2), (34, 1), (35, 1), (36, 1), (37, 1), (38, 1), (39, 1), (40, 1), (41, 1), (42, 1), (43, 1), (44, 1), (45, 2), (46, 1), (47, 1), (48, 1), (49, 1), (50, 1), (51, 1), (52, 1), (53, 1), (54, 1), (55, 2)], [(0, 1), (2, 1), (7, 1), (16, 1), (24, 1), (29, 1), (31, 1), (44, 1), (56, 1), (57, 1), (58, 1), (59, 1), (60, 1), (61, 1), (62, 1), (63, 1), (64, 1), (65, 1), (66, 3), (67, 1), (68, 1), (69, 1), (70, 1), (71, 1), (72, 2), (73, 1), (74, 1), (75, 2), (76, 1), (77, 1), (78, 1), (79, 1), (80, 1), (81, 1), (82, 2), (83, 1), (84, 1), (85, 1), (86, 1), (87, 1)], [(5, 1), (7, 2), (16, 2), (21, 1), (38, 2), (45, 1), (55, 3), (60, 2), (76, 1), (79, 1), (87, 1), (88, 2), (89, 1), (90, 1), (91, 1), (92, 1), (93, 1), (94, 1), (95, 1), (96, 1), (97, 1), (98, 1), (99, 1), (100, 1), (101, 1), (102, 1), (103, 1), (104, 4), (105, 2), (106, 1), (107, 1), (108, 1), (109, 1), (110, 1), (111, 1), (112, 1), (113, 1), (114, 1), (115, 1), (116, 1), (117, 1), (118, 1), (119, 1), (120, 1), (121, 1), (122, 1), (123, 1), (124, 1), (125, 1), (126, 1), (127, 2), (128, 1), (129, 1), (130, 1), (131, 1)]]\n"
     ]
    }
   ],
   "source": [
    "# Create Dictionary\n",
    "sense_id2word = corpora.Dictionary(sense_lemmatized)\n",
    "\n",
    "# Create Corpus\n",
    "sense_texts = sense_lemmatized\n",
    "\n",
    "# Term Document Frequency\n",
    "sense_corpus = [sense_id2word.doc2bow(text) for text in sense_texts]\n",
    "\n",
    "# View\n",
    "print(sense_corpus[:5])"
   ]
  },
  {
   "cell_type": "code",
   "execution_count": 355,
   "metadata": {},
   "outputs": [],
   "source": [
    "# Build LDA model\n",
    "sense_lda_model = gensim.models.ldamodel.LdaModel(corpus=sense_corpus,\n",
    "                                           id2word=sense_id2word,\n",
    "                                           num_topics=8, \n",
    "                                           random_state=42,\n",
    "                                           update_every=1,\n",
    "                                           chunksize=10,\n",
    "                                           passes=4,\n",
    "                                           alpha='symmetric',\n",
    "                                           iterations=100,\n",
    "                                           per_word_topics=False)\n",
    "                                           "
   ]
  },
  {
   "cell_type": "code",
   "execution_count": 356,
   "metadata": {},
   "outputs": [
    {
     "name": "stdout",
     "output_type": "stream",
     "text": [
      "[(0,\n",
      "  '0.061*\"ferrar\" + 0.044*\"well\" + 0.029*\"perhaps\" + 0.028*\"marry\" + '\n",
      "  '0.026*\"still\" + 0.025*\"woman\" + 0.024*\"strong\" + 0.020*\"conduct\" + '\n",
      "  '0.019*\"suffer\" + 0.016*\"eye\"'),\n",
      " (1,\n",
      "  '0.086*\"say\" + 0.069*\"always\" + 0.030*\"shall\" + 0.029*\"end\" + 0.028*\"world\" '\n",
      "  '+ 0.025*\"expect\" + 0.024*\"certainly\" + 0.022*\"away\" + 0.021*\"word\" + '\n",
      "  '0.020*\"self\"'),\n",
      " (2,\n",
      "  '0.036*\"however\" + 0.031*\"make\" + 0.026*\"tell\" + 0.025*\"heart\" + '\n",
      "  '0.024*\"feel\" + 0.024*\"mean\" + 0.023*\"much\" + 0.022*\"know\" + 0.022*\"little\" '\n",
      "  '+ 0.021*\"day\"'),\n",
      " (3,\n",
      "  '0.028*\"family\" + 0.026*\"great\" + 0.025*\"long\" + 0.018*\"constant\" + '\n",
      "  '0.017*\"merit\" + 0.017*\"call\" + 0.016*\"produce\" + 0.016*\"interest\" + '\n",
      "  '0.015*\"fear\" + 0.014*\"naturally\"'),\n",
      " (4,\n",
      "  '0.051*\"live\" + 0.034*\"find\" + 0.024*\"hour\" + 0.022*\"look\" + 0.022*\"moment\" '\n",
      "  '+ 0.021*\"remain\" + 0.021*\"speak\" + 0.020*\"come\" + 0.017*\"hope\" + '\n",
      "  '0.016*\"considerable\"'),\n",
      " (5,\n",
      "  '0.035*\"must\" + 0.028*\"never\" + 0.027*\"hear\" + 0.022*\"brother\" + '\n",
      "  '0.022*\"happy\" + 0.017*\"happiness\" + 0.016*\"pass\" + 0.016*\"mind\" + '\n",
      "  '0.016*\"love\" + 0.015*\"visit\"'),\n",
      " (6,\n",
      "  '0.051*\"see\" + 0.049*\"ever\" + 0.048*\"friend\" + 0.033*\"suppose\" + '\n",
      "  '0.030*\"husband\" + 0.026*\"appear\" + 0.023*\"sight\" + 0.022*\"let\" + '\n",
      "  '0.021*\"proper\" + 0.020*\"poor\"'),\n",
      " (7,\n",
      "  '0.030*\"may\" + 0.029*\"time\" + 0.028*\"give\" + 0.028*\"first\" + '\n",
      "  '0.021*\"affection\" + 0.021*\"wish\" + 0.021*\"sister\" + 0.019*\"thing\" + '\n",
      "  '0.018*\"soon\" + 0.018*\"mother\"')]\n"
     ]
    }
   ],
   "source": [
    "# Print the Keyword in the 10 topics\n",
    "pprint(sense_lda_model.print_topics())\n",
    "sense_lda = sense_lda_model[sense_corpus]"
   ]
  },
  {
   "cell_type": "code",
   "execution_count": 357,
   "metadata": {},
   "outputs": [
    {
     "name": "stdout",
     "output_type": "stream",
     "text": [
      "\n",
      "Perplexity:  -8.605043698506448\n",
      "\n",
      "Coherence Score:  0.40244398641266244\n"
     ]
    }
   ],
   "source": [
    "# Compute Perplexity\n",
    "print('\\nPerplexity: ', sense_lda_model.log_perplexity(sense_corpus))  # a measure of how good the model is. lower the better.\n",
    "\n",
    "# Compute Coherence Score\n",
    "coherence_sense_lda = CoherenceModel(model=sense_lda_model, texts=sense_lemmatized, dictionary=sense_id2word, coherence='c_v')\n",
    "sense_coherence_lda = coherence_sense_lda.get_coherence()\n",
    "print('\\nCoherence Score: ', sense_coherence_lda)"
   ]
  },
  {
   "cell_type": "code",
   "execution_count": 358,
   "metadata": {},
   "outputs": [
    {
     "data": {
      "image/png": "[encoded data removed]",
      "text/plain": [
       "<Figure size 1080x1080 with 8 Axes>"
      ]
     },
     "metadata": {
      "needs_background": "light"
     },
     "output_type": "display_data"
    }
   ],
   "source": [
    "cols = [color for name, color in mcolors.TABLEAU_COLORS.items()]  # more colors: 'mcolors.XKCD_COLORS'\n",
    "\n",
    "cloud = WordCloud(stopwords=stop_words,\n",
    "                  background_color='white',\n",
    "                  width=2500,\n",
    "                  height=1800,\n",
    "                  max_words=10,\n",
    "                  colormap='tab10',\n",
    "                  color_func=lambda *args, **kwargs: cols[i],\n",
    "                  prefer_horizontal=1.0)\n",
    "\n",
    "sense_topics = sense_lda_model.show_topics(formatted=False)\n",
    "\n",
    "fig, axes = plt.subplots(2, 4, figsize=(15,15), sharex=True, sharey=True)\n",
    "\n",
    "for i, ax in enumerate(axes.flatten()):\n",
    "    fig.add_subplot(ax)\n",
    "    topic_words = dict(sense_topics[i][1])\n",
    "    cloud.generate_from_frequencies(topic_words, max_font_size=300)\n",
    "    plt.gca().imshow(cloud)\n",
    "    plt.gca().set_title('Topic ' + str(i), fontdict=dict(size=16))\n",
    "    plt.gca().axis('off')\n",
    "\n",
    "\n",
    "plt.subplots_adjust(wspace=0, hspace=0)\n",
    "plt.axis('off')\n",
    "plt.margins(x=0, y=0)\n",
    "plt.tight_layout()\n",
    "plt.show()"
   ]
  },
  {
   "cell_type": "markdown",
   "metadata": {},
   "source": [
    "# Conclusion\n",
    "\n",
    "I've done a lot of work here to see what methods might be able to most easily detect feminist sentiment. Nothing seems to clearly show feminism so we can conclude one of two things: 1) Jane Austen is not a feminist author. 2) Our methods are not quite sophisticated enough. Maybe one day we will be able to conclude one or the other more conclusively and mathematically, but I don't think we can do so just yet."
   ]
  },
  {
   "cell_type": "code",
   "execution_count": null,
   "metadata": {},
   "outputs": [],
   "source": []
  }
 ],
 "metadata": {
  "kernelspec": {
   "display_name": "Python 3",
   "language": "python",
   "name": "python3"
  },
  "language_info": {
   "codemirror_mode": {
    "name": "ipython",
    "version": 3
   },
   "file_extension": ".py",
   "mimetype": "text/x-python",
   "name": "python",
   "nbconvert_exporter": "python",
   "pygments_lexer": "ipython3",
   "version": "3.7.4"
  }
 },
 "nbformat": 4,
 "nbformat_minor": 2
}
